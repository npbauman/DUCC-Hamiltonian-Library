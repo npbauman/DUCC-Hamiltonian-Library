{
 "cells": [
  {
   "cell_type": "code",
   "execution_count": null,
   "metadata": {},
   "outputs": [
    {
     "name": "stdout",
     "output_type": "stream",
     "text": [
      "  - Number of electrons: 6\n",
      "  - Number of orbitals: 6\n",
      "  - DUCC: 3\n",
      "  - Target molecule: Benzene66DUCC3\n",
      "  - Input file: Input_Data/bztz66ducc3.hamil\n",
      "0:  IIXYIIIIXXII   0.01348839370098176\n",
      "1:  IXZZYIIXZZXI   0.009069664416131218\n",
      "2:  IXYYYIIIIIII   0.006903987496770014\n",
      "3:  IIIIIIIXYYYI   0.004627837152099801\n",
      "4:  IIXZYIIXZXII   0.003211208184438874\n",
      "5:  IXZYIIIIYZYI   0.00166337549356399\n",
      "6:  IXZYIIIYZYII   0.0009027892702135887\n",
      "7:  IIXZYIIIXZXI   5.9706986633045744e-05\n",
      "8:  XZZZZYXZZZZX   4.0131389056341504e-05\n",
      "9:  IXZZZYIXZZZX   1.966874268077845e-05\n",
      "10:  IIXZZYIIYZZY   8.206699789070626e-06\n",
      "11:  XZZZYIYZZZYI   6.411619068558139e-06\n",
      "12:  XZZYIIXZZXII   4.660084869101411e-06\n",
      "13:  IXZZXIIIXYII   2.523685765254413e-06\n",
      "14:  IIXXIIIYZZXI   1.8891761328632128e-06\n",
      "15:  IYZZZYIXZZZY   1.812046463101069e-06\n",
      "16:  IXZZZYIYZZZY   1.5580914123347611e-06\n",
      "17:  IIYZZYIIYZZX   1.2352645057944756e-06\n"
     ]
    }
   ],
   "source": [
    "import sys\n",
    "sys.path.insert(0, './src/')\n",
    "\n",
    "import nwq2qis\n",
    "from nwq2qis import *\n",
    "\n",
    "##\n",
    "import numpy as np\n",
    "import qiskit\n",
    "import qiskit.quantum_info as qi\n",
    "from qiskit_nature.second_q.mappers import JordanWignerMapper, InterleavedQubitMapper\n",
    "from _gcim_utilis import parse_hamiltonian\n",
    "import scipy.sparse.linalg as ssl\n",
    "import scipy.linalg as sl\n",
    "from qiskit_algorithms.optimizers import COBYLA, SPSA\n",
    "from qiskit import transpile\n",
    "from qiskit_ibm_runtime import QiskitRuntimeService\n",
    "from qiskit.transpiler.preset_passmanagers import generate_preset_pass_manager\n",
    "from qiskit_ibm_runtime import EstimatorV2 as Estimator\n",
    "import json\n",
    "from qiskit_ibm_runtime import RuntimeEncoder\n",
    "from qiskit.primitives import StatevectorEstimator\n",
    "##\n",
    "\n",
    "n_orb = 6\n",
    "n_a = 3\n",
    "n_b = 3\n",
    "ducc_lvl = 3\n",
    "results_file = '../Qubit-ADAPT-VQE/printout_qubit_bztz66ducc3.txt'\n",
    "output_folder = 'Example_Outputs/Benzene'  ## Please create this folder before you run the code\n",
    "noise_factors = [1,3,5,7,9]\n",
    "selected_iter = 3 ## which qubit-adapt-vqe iteration, start from 0\n",
    "\n",
    "mol_name =  f'Benzene{n_a+n_b}{n_orb}DUCC{ducc_lvl}'\n",
    "file_path = \"../Benzene/cc-pVTZ/FrozenCoreCCSD_6Elec_6Orbs/DUCC3/benzene-FC-CCSD-6Electrons-6Orbitals.out-xacc\"\n",
    "\n",
    "print(\"  - Number of electrons:\", n_a + n_b)\n",
    "print(\"  - Number of orbitals:\", n_orb)\n",
    "print(\"  - DUCC:\", ducc_lvl)\n",
    "print(\"  - Target molecule:\", mol_name)\n",
    "print(\"  - Input file:\", file_path)\n",
    "\n",
    "fermi_ham = parse_hamiltonian(file_path, n_orb, interleaved=False, return_type = 'qiskit')\n",
    "nwqsim_dict = extract_nwqsim_output(results_file, inverse_pauli=False)\n",
    "\n",
    "mapper = JordanWignerMapper()\n",
    "qubit_op = mapper.map(fermi_ham)\n",
    "\n",
    "true_eigvals = sl.eigh(qubit_op.to_matrix(sparse=False))[0]\n",
    "\n",
    "errors = np.abs( np.array(nwqsim_dict['energies']) - true_eigvals[0] )\n",
    "for i, error in enumerate(errors):\n",
    "    print(f\"{i}:  {str(nwqsim_dict['operators'][i].paulis[0])}   {error}\")"
   ]
  },
  {
   "cell_type": "markdown",
   "metadata": {},
   "source": [
    "## CHOP Hamiltonian"
   ]
  },
  {
   "cell_type": "code",
   "execution_count": null,
   "metadata": {},
   "outputs": [
    {
     "name": "stdout",
     "output_type": "stream",
     "text": [
      "0.0011622583164849999\n",
      "Chopped/unchopped # of Pauli strings  = 143/371\n"
     ]
    }
   ],
   "source": [
    "## remove values that too small\n",
    "np.set_printoptions(suppress=True)\n",
    "shot_factor = 5000 ## Seem like 5000 is a sweet spot for accuracy\n",
    "\n",
    "## Compute sum of coefficients\n",
    "pas, cas = pauli_coeff_separation(qubit_op)\n",
    "ck_abs = np.abs(cas[1:]) ## 1st term is too large\n",
    "ck_sum = np.linalg.norm(ck_abs, ord=1)\n",
    "chop_thresh =  ck_sum / shot_factor\n",
    "print(chop_thresh)\n",
    "# chop_thresh = 1e-5\n",
    "qubit_op_chopped = qubit_op.chop(chop_thresh)\n",
    "print(f\"Chopped/unchopped # of Pauli strings  = {len(qubit_op_chopped)}/{len(qubit_op)}\")\n",
    "\n",
    "# ##\n",
    "pas_ch, cas_ch = pauli_coeff_separation(qubit_op_chopped)"
   ]
  },
  {
   "cell_type": "markdown",
   "metadata": {},
   "source": [
    "## Optimize Parameters"
   ]
  },
  {
   "cell_type": "code",
   "execution_count": null,
   "metadata": {},
   "outputs": [
    {
     "name": "stdout",
     "output_type": "stream",
     "text": [
      "OrderedDict({'u': 38, 'cx': 32, 'barrier': 1}) -231.78285106460956 -231.78315431138677\n"
     ]
    },
    {
     "data": {
      "text/plain": [
       "array([-0.60850649, -0.61062285, -0.4551916 , -0.45515626])"
      ]
     },
     "execution_count": 4,
     "metadata": {},
     "output_type": "execute_result"
    }
   ],
   "source": [
    "vqe_circ, symbol_params = create_vqe_circ(nwqsim_dict['operators'][:selected_iter+1], \n",
    "                                            n_orb*2, n_a+n_b, interleaved=False, half_barriar=True)\n",
    "\n",
    "## Optimize parameters\n",
    "def cost_func(parameters):\n",
    "    \"\"\"Compute the energy for given parameters.\"\"\"\n",
    "    estimator = StatevectorEstimator()\n",
    "    job = estimator.run([(vqe_circ, qubit_op_chopped, parameters)])\n",
    "    return float( job.result()[0].data.evs )\n",
    "\n",
    "num_vars = len(nwqsim_dict['parameters'][:selected_iter+1])\n",
    "optimizer = COBYLA(maxiter=5000, disp=True)\n",
    "result = optimizer.minimize(cost_func, nwqsim_dict['parameters'][:selected_iter+1])\n",
    "\n",
    "pre_opt_params = result.x\n",
    "\n",
    "basis_gates = ['u', 'cx']\n",
    "trans_vqe_opt = transpile(vqe_circ.assign_parameters(pre_opt_params), basis_gates=basis_gates, \n",
    "                          optimization_level=2, seed_transpiler=7)\n",
    "print(trans_vqe_opt.count_ops(), cost_func(pre_opt_params), nwqsim_dict['energies'][selected_iter])\n",
    "\n",
    "np.save(f\"{output_folder}/optparam-vqe-itr{selected_iter}.npy\", pre_opt_params)\n",
    "pre_opt_params"
   ]
  },
  {
   "cell_type": "markdown",
   "metadata": {},
   "source": [
    "## Group Pauli Operators and Generate Circuits"
   ]
  },
  {
   "cell_type": "code",
   "execution_count": 5,
   "metadata": {},
   "outputs": [
    {
     "name": "stdout",
     "output_type": "stream",
     "text": [
      "Number of commuting groups: 39\n",
      "Total number of cx gates: 1248\n",
      "-231.78285106460956\n"
     ]
    }
   ],
   "source": [
    "import nwq2qis\n",
    "import importlib\n",
    "importlib.reload(nwq2qis)\n",
    "from nwq2qis import *\n",
    "\n",
    "pauli_dict, coeff_dict = grouped_pauli_in_dict(qubit_op_chopped, use_qwc=True) ## grouping paulis in the Hamiltonian and separate Pauli strings and Coefficients\n",
    "circ_dict = commuting_circs(list(pauli_dict.keys()), trans_vqe_opt, add_measure = True, noise_factors=noise_factors, inverse_pauli = False, noise_type='half') ## Form circuits for each commuting group\n",
    "circ_dict_nomeasure = commuting_circs(list(pauli_dict.keys()), trans_vqe_opt, add_measure = False, noise_factors=noise_factors, inverse_pauli = False, noise_type='half') ## Form circuits for each commuting group\n",
    "print(\"Number of commuting groups:\",len(list(pauli_dict.keys())))\n",
    "print(f\"Total number of cx gates: {trans_vqe_opt.count_ops()['cx']*len(list(pauli_dict.keys()))}\")\n",
    "\n",
    "## Exact Solutions\n",
    "theo_state = qi.Statevector.from_instruction(vqe_circ.assign_parameters(pre_opt_params)) ## exact state\n",
    "theo_energy = theo_state.expectation_value(qubit_op_chopped).real\n",
    "print(theo_energy)"
   ]
  },
  {
   "cell_type": "markdown",
   "metadata": {},
   "source": [
    "## Infinite Shots"
   ]
  },
  {
   "cell_type": "code",
   "execution_count": null,
   "metadata": {},
   "outputs": [
    {
     "name": "stdout",
     "output_type": "stream",
     "text": [
      "\n",
      "Noise factor: 1\n",
      "  Number of cx gates: 1248\n",
      "  Final expectation energy: -231.7828510646102, Error to qiskit 6.536993168992922e-13, Error to full Ham ideal 0.00030324677655357846\n",
      "\n",
      "Noise factor: 3\n",
      "  Number of cx gates: 2184\n",
      "  Final expectation energy: -231.7828510646102, Error to qiskit 6.536993168992922e-13, Error to full Ham ideal 0.00030324677655357846\n",
      "\n",
      "Noise factor: 5\n",
      "  Number of cx gates: 3120\n",
      "  Final expectation energy: -231.7828510646102, Error to qiskit 6.536993168992922e-13, Error to full Ham ideal 0.00030324677655357846\n",
      "\n",
      "Noise factor: 7\n",
      "  Number of cx gates: 4056\n",
      "  Final expectation energy: -231.7828510646102, Error to qiskit 6.536993168992922e-13, Error to full Ham ideal 0.00030324677655357846\n",
      "\n",
      "Noise factor: 9\n",
      "  Number of cx gates: 4992\n",
      "  Final expectation energy: -231.7828510646102, Error to qiskit 6.536993168992922e-13, Error to full Ham ideal 0.00030324677655357846\n"
     ]
    }
   ],
   "source": [
    "for nf in noise_factors:\n",
    "    print(f\"\\nNoise factor: {nf}\")\n",
    "    meas_prob_dict_ideal = {}\n",
    "    cx_count = 0\n",
    "    for key, circs in circ_dict_nomeasure.items():\n",
    "        circ = circs[int((nf-1)/2)]\n",
    "        cx_count += circ.count_ops()['cx']\n",
    "        meas_prob_dict_ideal[key] = qiskit_normal_order_switch_vec( qi.Statevector.from_instruction(circ).probabilities(decimals=16)  )\n",
    "\n",
    "    final_exp_ideal = est_exp_sampler(pauli_dict, coeff_dict, meas_prob_dict_ideal, debug_state = theo_state) ## compute the expectation value and sum them up\n",
    "    print(f\"  Number of cx gates: {cx_count}\")\n",
    "    print(f\"  Final expectation energy: {final_exp_ideal}, Error to qiskit {abs(theo_energy - final_exp_ideal)}, Error to full Ham ideal {abs(final_exp_ideal-nwqsim_dict['energies'][selected_iter])}\")"
   ]
  },
  {
   "cell_type": "code",
   "execution_count": 7,
   "metadata": {},
   "outputs": [
    {
     "data": {
      "text/plain": [
       "0.004931083928653379"
      ]
     },
     "execution_count": 7,
     "metadata": {},
     "output_type": "execute_result"
    }
   ],
   "source": [
    "final_exp_ideal - true_eigvals[0]"
   ]
  },
  {
   "cell_type": "markdown",
   "metadata": {},
   "source": [
    "## Finite Sampler"
   ]
  },
  {
   "cell_type": "code",
   "execution_count": 8,
   "metadata": {},
   "outputs": [
    {
     "name": "stdout",
     "output_type": "stream",
     "text": [
      "\n",
      "Noise factor: 1\n",
      "  Number of cx gates: 1248\n",
      "  Final expectation energy: -231.79037129062348, Error to qiskit 0.007520226013923548, Error to full Ham ideal 0.00721697923671627\n",
      "\n",
      "Noise factor: 3\n",
      "  Number of cx gates: 2184\n",
      "  Final expectation energy: -231.78993213443817, Error to qiskit 0.007081069828615227, Error to full Ham ideal 0.00677782305140795\n",
      "\n",
      "Noise factor: 5\n",
      "  Number of cx gates: 3120\n",
      "  Final expectation energy: -231.7860720792147, Error to qiskit 0.003221014605145456, Error to full Ham ideal 0.002917767827938178\n",
      "\n",
      "Noise factor: 7\n",
      "  Number of cx gates: 4056\n",
      "  Final expectation energy: -231.78262120059503, Error to qiskit 0.00022986401452840255, Error to full Ham ideal 0.0005331107917356803\n",
      "\n",
      "Noise factor: 9\n",
      "  Number of cx gates: 4992\n",
      "  Final expectation energy: -231.77975853112366, Error to qiskit 0.003092533485897775, Error to full Ham ideal 0.0033957802631050527\n"
     ]
    }
   ],
   "source": [
    "from qiskit.primitives import StatevectorSampler\n",
    "sampler = StatevectorSampler()\n",
    "\n",
    "total_shots_used = 0\n",
    "for nf in noise_factors:\n",
    "# for nf in [1]:\n",
    "    print(f\"\\nNoise factor: {nf}\")\n",
    "    meas_prob_dict_finitesim = {}\n",
    "    cx_count = 0\n",
    "    circ_counter = 0\n",
    "    for key, circs in circ_dict.items():\n",
    "        total_shots_used += 1024\n",
    "        temp_circ = circs[int((nf-1)/2)]\n",
    "        cx_count += temp_circ.count_ops()['cx'] ## \n",
    "        meas_quasi_res = sampler.run([temp_circ], shots=1024).result()[0].data.meas.get_counts()\n",
    "        meas_prob_dict_finitesim[key] = freq_dict_to_prob_array(meas_quasi_res, len(key), endien_switch = True)\n",
    "        circ_counter += 1\n",
    "\n",
    "    final_exp_finitesim = est_exp_sampler(pauli_dict, coeff_dict, meas_prob_dict_finitesim) ## compute the expectation value and sum them up\n",
    "    print(f\"  Number of cx gates: {cx_count}\")\n",
    "    print(f\"  Final expectation energy: {final_exp_finitesim}, Error to qiskit {abs(theo_energy - final_exp_finitesim)}, Error to full Ham ideal {abs(final_exp_finitesim-nwqsim_dict['energies'][selected_iter])}\")"
   ]
  },
  {
   "cell_type": "code",
   "execution_count": 9,
   "metadata": {},
   "outputs": [
    {
     "data": {
      "text/plain": [
       "(0.008023617415204853, 0.004931083928653379)"
      ]
     },
     "execution_count": 9,
     "metadata": {},
     "output_type": "execute_result"
    }
   ],
   "source": [
    "final_exp_finitesim - true_eigvals[0], final_exp_ideal - true_eigvals[0]"
   ]
  },
  {
   "cell_type": "code",
   "execution_count": 10,
   "metadata": {},
   "outputs": [
    {
     "data": {
      "text/plain": [
       "(0.004627837152099801, -231.78315431138677)"
      ]
     },
     "execution_count": 10,
     "metadata": {},
     "output_type": "execute_result"
    }
   ],
   "source": [
    "errors[selected_iter], nwqsim_dict['energies'][selected_iter]"
   ]
  },
  {
   "cell_type": "markdown",
   "metadata": {},
   "source": [
    "## To Quantinuum circuit"
   ]
  },
  {
   "cell_type": "code",
   "execution_count": null,
   "metadata": {},
   "outputs": [
    {
     "data": {
      "text/html": [
       "<div>\n",
       "<style scoped>\n",
       "    .dataframe tbody tr th:only-of-type {\n",
       "        vertical-align: middle;\n",
       "    }\n",
       "\n",
       "    .dataframe tbody tr th {\n",
       "        vertical-align: top;\n",
       "    }\n",
       "\n",
       "    .dataframe thead th {\n",
       "        text-align: right;\n",
       "    }\n",
       "</style>\n",
       "<table border=\"1\" class=\"dataframe\">\n",
       "  <thead>\n",
       "    <tr style=\"text-align: right;\">\n",
       "      <th></th>\n",
       "      <th>name</th>\n",
       "      <th>description</th>\n",
       "      <th>usage</th>\n",
       "      <th>quota</th>\n",
       "    </tr>\n",
       "  </thead>\n",
       "  <tbody>\n",
       "    <tr>\n",
       "      <th>0</th>\n",
       "      <td>jupyterhub</td>\n",
       "      <td>Total Jupyterhub notebook server running time,...</td>\n",
       "      <td>11120.000000</td>\n",
       "      <td>No quota set for user</td>\n",
       "    </tr>\n",
       "    <tr>\n",
       "      <th>1</th>\n",
       "      <td>database_usage</td>\n",
       "      <td>Total megabytes used to store scientific data.</td>\n",
       "      <td>59.047499</td>\n",
       "      <td>No quota set for user</td>\n",
       "    </tr>\n",
       "    <tr>\n",
       "      <th>2</th>\n",
       "      <td>compilation</td>\n",
       "      <td>Total CPU running time, in seconds.</td>\n",
       "      <td>137.255128</td>\n",
       "      <td>No quota set for user</td>\n",
       "    </tr>\n",
       "    <tr>\n",
       "      <th>3</th>\n",
       "      <td>simulation</td>\n",
       "      <td>Total CPU running time, in seconds.</td>\n",
       "      <td>3706.058125</td>\n",
       "      <td>No quota set for user</td>\n",
       "    </tr>\n",
       "  </tbody>\n",
       "</table>\n",
       "</div>"
      ],
      "text/plain": [
       "             name                                        description  \\\n",
       "0      jupyterhub  Total Jupyterhub notebook server running time,...   \n",
       "1  database_usage     Total megabytes used to store scientific data.   \n",
       "2     compilation                Total CPU running time, in seconds.   \n",
       "3      simulation                Total CPU running time, in seconds.   \n",
       "\n",
       "          usage                  quota  \n",
       "0  11120.000000  No quota set for user  \n",
       "1     59.047499  No quota set for user  \n",
       "2    137.255128  No quota set for user  \n",
       "3   3706.058125  No quota set for user  "
      ]
     },
     "execution_count": 15,
     "metadata": {},
     "output_type": "execute_result"
    }
   ],
   "source": [
    "from pytket.extensions.qiskit import qiskit_to_tk, tk_to_qiskit\n",
    "import qnexus as qnx\n",
    "import datetime\n",
    "# qnx.login()\n",
    "\n",
    "project = qnx.projects.get_or_create(\"VQE BZ TZ nf 13579 Simu CX Half ZNE\")\n",
    "qnx.context.set_active_project(project)\n",
    "name_suffix = f'itr{selected_iter}'\n",
    "config = qnx.QuantinuumConfig(device_name=\"H1-Emulator\")\n",
    "\n",
    "job_path = pathlib.Path(f'{output_folder}/itr{selected_iter}_job')\n",
    "job_path.mkdir(parents=True, exist_ok=True) \n",
    "\n",
    "qnx.quotas.get_all().df()"
   ]
  },
  {
   "cell_type": "code",
   "execution_count": null,
   "metadata": {},
   "outputs": [
    {
     "name": "stdout",
     "output_type": "stream",
     "text": [
      "vqe-itr3\n",
      "TZChop_Outputs_CXHalfZNE_Test_Longer/itr3_job/paulikey-vqe-itr3.npy\n",
      "id=UUID('d1a5f2e2-d614-4060-8e76-5e1cac264822') annotations=Annotations(name='vqe-itr3', description='', properties=OrderedDict(), created=datetime.datetime(2025, 5, 29, 23, 54, 50, 399468, tzinfo=TzInfo(UTC)), modified=datetime.datetime(2025, 5, 29, 23, 54, 50, 399468, tzinfo=TzInfo(UTC))) job_type=<JobType.COMPILE: 'compile'> last_status=<StatusEnum.SUBMITTED: 'Circuit has been submitted.'> last_message='' project=ProjectRef(id=UUID('fa6fc156-c0ad-4252-9303-8cda69f0139c'), annotations=Annotations(name='VQE BZ TZ nf 13579 Simu CX Half ZNE', description=None, properties=OrderedDict(), created=datetime.datetime(2025, 5, 29, 23, 54, 18, 982430, tzinfo=TzInfo(UTC)), modified=datetime.datetime(2025, 5, 29, 23, 54, 18, 982430, tzinfo=TzInfo(UTC))), contents_modified=datetime.datetime(2025, 5, 29, 23, 54, 18, 986955, tzinfo=TzInfo(UTC)), archived=False, type='ProjectRef') type='CompileJobRef'\n"
     ]
    }
   ],
   "source": [
    "qtm_pauli_arr = []\n",
    "qtm_circ_arr = []\n",
    "\n",
    "for key, circs in circ_dict.items():\n",
    "    for nf in noise_factors:\n",
    "        circ = circs[int((nf-1)/2)]\n",
    "        pname = f\"{key}-{nf}\"\n",
    "        qtm_c = qiskit_to_tk(circ)\n",
    "        ref_circuit = qnx.circuits.upload(\n",
    "            circuit=qtm_c, \n",
    "            name=f\"{pname}-{name_suffix}\", \n",
    "        )\n",
    "        qtm_pauli_arr.append(pname)\n",
    "        qtm_circ_arr.append(ref_circuit)\n",
    "\n",
    "\n",
    "ref_compile_job = qnx.start_compile_job(\n",
    "    circuits=qtm_circ_arr,\n",
    "    optimisation_level=0,\n",
    "    backend_config=config,\n",
    "    name=f\"vqe-{name_suffix}\"\n",
    ")\n",
    "\n",
    "print(ref_compile_job.annotations.name)\n",
    "print(f\"{job_path}/paulikey-{ref_compile_job.annotations.name}.npy\")\n",
    "np.save(f\"{job_path}/paulikey-{ref_compile_job.annotations.name}.npy\", qtm_pauli_arr)\n",
    "\n",
    "print(ref_compile_job)"
   ]
  },
  {
   "cell_type": "code",
   "execution_count": 17,
   "metadata": {},
   "outputs": [],
   "source": [
    "from pathlib import Path\n",
    "qnx.filesystem.save(\n",
    "    ref=ref_compile_job,\n",
    "    path=Path.cwd() / job_path / f\"job-ref_comp-{ref_compile_job.annotations.name}\",\n",
    "    mkdir=True,\n",
    ")"
   ]
  },
  {
   "cell_type": "code",
   "execution_count": 18,
   "metadata": {},
   "outputs": [
    {
     "data": {
      "text/plain": [
       "CompileJobRef(id=UUID('d1a5f2e2-d614-4060-8e76-5e1cac264822'), annotations=Annotations(name='vqe-itr3', description='', properties=OrderedDict(), created=datetime.datetime(2025, 5, 29, 23, 54, 50, 399468, tzinfo=TzInfo(UTC)), modified=datetime.datetime(2025, 5, 29, 23, 54, 50, 399468, tzinfo=TzInfo(UTC))), job_type=<JobType.COMPILE: 'compile'>, last_status=<StatusEnum.SUBMITTED: 'Circuit has been submitted.'>, last_message='', project=ProjectRef(id=UUID('fa6fc156-c0ad-4252-9303-8cda69f0139c'), annotations=Annotations(name='VQE BZ TZ nf 13579 Simu CX Half ZNE', description=None, properties=OrderedDict(), created=datetime.datetime(2025, 5, 29, 23, 54, 18, 982430, tzinfo=TzInfo(UTC)), modified=datetime.datetime(2025, 5, 29, 23, 54, 18, 982430, tzinfo=TzInfo(UTC))), contents_modified=datetime.datetime(2025, 5, 29, 23, 54, 18, 986955, tzinfo=TzInfo(UTC)), archived=False, type='ProjectRef'), type='CompileJobRef')"
      ]
     },
     "execution_count": 18,
     "metadata": {},
     "output_type": "execute_result"
    }
   ],
   "source": [
    "ref_job_name = f\"vqe-itr{selected_iter}\"\n",
    "ref_compile_job = qnx.filesystem.load(\n",
    "    path=Path.cwd() / job_path / f\"job-ref_comp-{ref_job_name}\",\n",
    ")\n",
    "ref_compile_job"
   ]
  },
  {
   "cell_type": "markdown",
   "metadata": {},
   "source": [
    "## Estimate costs"
   ]
  },
  {
   "cell_type": "code",
   "execution_count": 19,
   "metadata": {},
   "outputs": [
    {
     "data": {
      "text/html": [
       "<div>\n",
       "<style scoped>\n",
       "    .dataframe tbody tr th:only-of-type {\n",
       "        vertical-align: middle;\n",
       "    }\n",
       "\n",
       "    .dataframe tbody tr th {\n",
       "        vertical-align: top;\n",
       "    }\n",
       "\n",
       "    .dataframe thead th {\n",
       "        text-align: right;\n",
       "    }\n",
       "</style>\n",
       "<table border=\"1\" class=\"dataframe\">\n",
       "  <thead>\n",
       "    <tr style=\"text-align: right;\">\n",
       "      <th></th>\n",
       "      <th>name</th>\n",
       "      <th>description</th>\n",
       "      <th>created</th>\n",
       "      <th>modified</th>\n",
       "      <th>project</th>\n",
       "      <th>id</th>\n",
       "    </tr>\n",
       "  </thead>\n",
       "  <tbody>\n",
       "    <tr>\n",
       "      <th>0</th>\n",
       "      <td>ZYZZZYZYZZZY-1-itr3-compilation</td>\n",
       "      <td></td>\n",
       "      <td>2025-05-29 23:55:30.990471+00:00</td>\n",
       "      <td>2025-05-29 23:55:31.001328+00:00</td>\n",
       "      <td>VQE BZ TZ nf 13579 Simu CX Half ZNE</td>\n",
       "      <td>385b56f9-b6e8-450b-983d-7e40d423e04f</td>\n",
       "    </tr>\n",
       "  </tbody>\n",
       "</table>\n",
       "</div>"
      ],
      "text/plain": [
       "                              name description  \\\n",
       "0  ZYZZZYZYZZZY-1-itr3-compilation               \n",
       "\n",
       "                           created                         modified  \\\n",
       "0 2025-05-29 23:55:30.990471+00:00 2025-05-29 23:55:31.001328+00:00   \n",
       "\n",
       "                               project                                    id  \n",
       "0  VQE BZ TZ nf 13579 Simu CX Half ZNE  385b56f9-b6e8-450b-983d-7e40d423e04f  "
      ]
     },
     "execution_count": 19,
     "metadata": {},
     "output_type": "execute_result"
    }
   ],
   "source": [
    "ref_compiled_job_arr = [item for item in qnx.jobs.results(ref_compile_job)]\n",
    "ref_compiled_circuits = [item.get_output() for item in ref_compiled_job_arr]\n",
    "downloaded_circuits = [item.download_circuit() for item in ref_compiled_circuits]\n",
    "ref_compiled_job_arr[0].df()"
   ]
  },
  {
   "cell_type": "code",
   "execution_count": 20,
   "metadata": {},
   "outputs": [
    {
     "name": "stdout",
     "output_type": "stream",
     "text": [
      "80.0\n"
     ]
    }
   ],
   "source": [
    "qtm_qis_circs = [tk_to_qiskit(dc) for dc in downloaded_circuits]\n",
    "qtm_qis_rzzs = [dc.count_ops()['rzz'] for dc in qtm_qis_circs]\n",
    "np.save(f\"{job_path}/rzzcount-{ref_compile_job.annotations.name}.npy\", qtm_qis_rzzs)\n",
    "print(np.mean(qtm_qis_rzzs))"
   ]
  },
  {
   "cell_type": "markdown",
   "metadata": {},
   "source": [
    "## Submit to execute"
   ]
  },
  {
   "cell_type": "code",
   "execution_count": 23,
   "metadata": {},
   "outputs": [
    {
     "name": "stdout",
     "output_type": "stream",
     "text": [
      "vqe-itr3_1024shots\n"
     ]
    }
   ],
   "source": [
    "shots = 1024\n",
    "execute_job_ref = qnx.start_execute_job(\n",
    "    circuits=ref_compiled_circuits,\n",
    "    name=f\"{ref_job_name}_{shots}shots\",\n",
    "    n_shots=[shots]* len(ref_compiled_circuits),\n",
    "    backend_config=qnx.QuantinuumConfig(device_name=\"H1-1E\"),\n",
    "    project=project,\n",
    ")\n",
    "\n",
    "print(execute_job_ref.annotations.name)"
   ]
  },
  {
   "cell_type": "code",
   "execution_count": 24,
   "metadata": {},
   "outputs": [
    {
     "data": {
      "text/html": [
       "<div>\n",
       "<style scoped>\n",
       "    .dataframe tbody tr th:only-of-type {\n",
       "        vertical-align: middle;\n",
       "    }\n",
       "\n",
       "    .dataframe tbody tr th {\n",
       "        vertical-align: top;\n",
       "    }\n",
       "\n",
       "    .dataframe thead th {\n",
       "        text-align: right;\n",
       "    }\n",
       "</style>\n",
       "<table border=\"1\" class=\"dataframe\">\n",
       "  <thead>\n",
       "    <tr style=\"text-align: right;\">\n",
       "      <th></th>\n",
       "      <th>name</th>\n",
       "      <th>description</th>\n",
       "      <th>created</th>\n",
       "      <th>modified</th>\n",
       "      <th>project</th>\n",
       "      <th>id</th>\n",
       "    </tr>\n",
       "  </thead>\n",
       "  <tbody>\n",
       "    <tr>\n",
       "      <th>0</th>\n",
       "      <td>vqe-itr3_1024shots</td>\n",
       "      <td></td>\n",
       "      <td>2025-05-30 00:28:47.117097+00:00</td>\n",
       "      <td>2025-05-30 00:28:47.117097+00:00</td>\n",
       "      <td>VQE BZ TZ nf 13579 Simu CX Half ZNE</td>\n",
       "      <td>0f60b023-3ff8-416e-8ab8-892971c3535f</td>\n",
       "    </tr>\n",
       "    <tr>\n",
       "      <th>1</th>\n",
       "      <td>vqe-itr3_1024shots</td>\n",
       "      <td></td>\n",
       "      <td>2025-05-30 00:28:47.117097+00:00</td>\n",
       "      <td>2025-05-30 00:28:47.117097+00:00</td>\n",
       "      <td>VQE BZ TZ nf 13579 Simu CX Half ZNE</td>\n",
       "      <td>44bd8b41-2b95-4617-9dd8-ef8fef79427f</td>\n",
       "    </tr>\n",
       "    <tr>\n",
       "      <th>2</th>\n",
       "      <td>vqe-itr3_1024shots</td>\n",
       "      <td></td>\n",
       "      <td>2025-05-30 00:28:47.117097+00:00</td>\n",
       "      <td>2025-05-30 00:28:47.117097+00:00</td>\n",
       "      <td>VQE BZ TZ nf 13579 Simu CX Half ZNE</td>\n",
       "      <td>ea8b5e3f-53be-4650-8a6c-3bdeb80ddc6e</td>\n",
       "    </tr>\n",
       "    <tr>\n",
       "      <th>3</th>\n",
       "      <td>vqe-itr3_1024shots</td>\n",
       "      <td></td>\n",
       "      <td>2025-05-30 00:28:47.117097+00:00</td>\n",
       "      <td>2025-05-30 00:28:47.117097+00:00</td>\n",
       "      <td>VQE BZ TZ nf 13579 Simu CX Half ZNE</td>\n",
       "      <td>7bacd631-dd67-4950-b642-fb145d49ef54</td>\n",
       "    </tr>\n",
       "    <tr>\n",
       "      <th>4</th>\n",
       "      <td>vqe-itr3_1024shots</td>\n",
       "      <td></td>\n",
       "      <td>2025-05-30 00:28:47.117097+00:00</td>\n",
       "      <td>2025-05-30 00:28:47.117097+00:00</td>\n",
       "      <td>VQE BZ TZ nf 13579 Simu CX Half ZNE</td>\n",
       "      <td>a6f365a7-ce4c-40ec-87c6-5aec35c8f735</td>\n",
       "    </tr>\n",
       "    <tr>\n",
       "      <th>...</th>\n",
       "      <td>...</td>\n",
       "      <td>...</td>\n",
       "      <td>...</td>\n",
       "      <td>...</td>\n",
       "      <td>...</td>\n",
       "      <td>...</td>\n",
       "    </tr>\n",
       "    <tr>\n",
       "      <th>190</th>\n",
       "      <td>vqe-itr3_1024shots</td>\n",
       "      <td></td>\n",
       "      <td>2025-05-30 00:28:47.117097+00:00</td>\n",
       "      <td>2025-05-30 00:28:47.117097+00:00</td>\n",
       "      <td>VQE BZ TZ nf 13579 Simu CX Half ZNE</td>\n",
       "      <td>58f83ed1-3786-4661-a081-7f56d6c39b35</td>\n",
       "    </tr>\n",
       "    <tr>\n",
       "      <th>191</th>\n",
       "      <td>vqe-itr3_1024shots</td>\n",
       "      <td></td>\n",
       "      <td>2025-05-30 00:28:47.117097+00:00</td>\n",
       "      <td>2025-05-30 00:28:47.117097+00:00</td>\n",
       "      <td>VQE BZ TZ nf 13579 Simu CX Half ZNE</td>\n",
       "      <td>5e0f1ddb-08b4-44f8-87e1-34550af9b23c</td>\n",
       "    </tr>\n",
       "    <tr>\n",
       "      <th>192</th>\n",
       "      <td>vqe-itr3_1024shots</td>\n",
       "      <td></td>\n",
       "      <td>2025-05-30 00:28:47.117097+00:00</td>\n",
       "      <td>2025-05-30 00:28:47.117097+00:00</td>\n",
       "      <td>VQE BZ TZ nf 13579 Simu CX Half ZNE</td>\n",
       "      <td>5bfd058f-89fb-488b-a7e2-149abc435af8</td>\n",
       "    </tr>\n",
       "    <tr>\n",
       "      <th>193</th>\n",
       "      <td>vqe-itr3_1024shots</td>\n",
       "      <td></td>\n",
       "      <td>2025-05-30 00:28:47.117097+00:00</td>\n",
       "      <td>2025-05-30 00:28:47.117097+00:00</td>\n",
       "      <td>VQE BZ TZ nf 13579 Simu CX Half ZNE</td>\n",
       "      <td>a314ee3d-f4fd-4a13-abba-086752ddab7e</td>\n",
       "    </tr>\n",
       "    <tr>\n",
       "      <th>194</th>\n",
       "      <td>vqe-itr3_1024shots</td>\n",
       "      <td></td>\n",
       "      <td>2025-05-30 00:28:47.117097+00:00</td>\n",
       "      <td>2025-05-30 00:28:47.117097+00:00</td>\n",
       "      <td>VQE BZ TZ nf 13579 Simu CX Half ZNE</td>\n",
       "      <td>fd55c99f-10c5-4c31-8175-641ba4cf04b6</td>\n",
       "    </tr>\n",
       "  </tbody>\n",
       "</table>\n",
       "<p>195 rows × 6 columns</p>\n",
       "</div>"
      ],
      "text/plain": [
       "                   name description                          created  \\\n",
       "0    vqe-itr3_1024shots             2025-05-30 00:28:47.117097+00:00   \n",
       "1    vqe-itr3_1024shots             2025-05-30 00:28:47.117097+00:00   \n",
       "2    vqe-itr3_1024shots             2025-05-30 00:28:47.117097+00:00   \n",
       "3    vqe-itr3_1024shots             2025-05-30 00:28:47.117097+00:00   \n",
       "4    vqe-itr3_1024shots             2025-05-30 00:28:47.117097+00:00   \n",
       "..                  ...         ...                              ...   \n",
       "190  vqe-itr3_1024shots             2025-05-30 00:28:47.117097+00:00   \n",
       "191  vqe-itr3_1024shots             2025-05-30 00:28:47.117097+00:00   \n",
       "192  vqe-itr3_1024shots             2025-05-30 00:28:47.117097+00:00   \n",
       "193  vqe-itr3_1024shots             2025-05-30 00:28:47.117097+00:00   \n",
       "194  vqe-itr3_1024shots             2025-05-30 00:28:47.117097+00:00   \n",
       "\n",
       "                            modified                              project  \\\n",
       "0   2025-05-30 00:28:47.117097+00:00  VQE BZ TZ nf 13579 Simu CX Half ZNE   \n",
       "1   2025-05-30 00:28:47.117097+00:00  VQE BZ TZ nf 13579 Simu CX Half ZNE   \n",
       "2   2025-05-30 00:28:47.117097+00:00  VQE BZ TZ nf 13579 Simu CX Half ZNE   \n",
       "3   2025-05-30 00:28:47.117097+00:00  VQE BZ TZ nf 13579 Simu CX Half ZNE   \n",
       "4   2025-05-30 00:28:47.117097+00:00  VQE BZ TZ nf 13579 Simu CX Half ZNE   \n",
       "..                               ...                                  ...   \n",
       "190 2025-05-30 00:28:47.117097+00:00  VQE BZ TZ nf 13579 Simu CX Half ZNE   \n",
       "191 2025-05-30 00:28:47.117097+00:00  VQE BZ TZ nf 13579 Simu CX Half ZNE   \n",
       "192 2025-05-30 00:28:47.117097+00:00  VQE BZ TZ nf 13579 Simu CX Half ZNE   \n",
       "193 2025-05-30 00:28:47.117097+00:00  VQE BZ TZ nf 13579 Simu CX Half ZNE   \n",
       "194 2025-05-30 00:28:47.117097+00:00  VQE BZ TZ nf 13579 Simu CX Half ZNE   \n",
       "\n",
       "                                       id  \n",
       "0    0f60b023-3ff8-416e-8ab8-892971c3535f  \n",
       "1    44bd8b41-2b95-4617-9dd8-ef8fef79427f  \n",
       "2    ea8b5e3f-53be-4650-8a6c-3bdeb80ddc6e  \n",
       "3    7bacd631-dd67-4950-b642-fb145d49ef54  \n",
       "4    a6f365a7-ce4c-40ec-87c6-5aec35c8f735  \n",
       "..                                    ...  \n",
       "190  58f83ed1-3786-4661-a081-7f56d6c39b35  \n",
       "191  5e0f1ddb-08b4-44f8-87e1-34550af9b23c  \n",
       "192  5bfd058f-89fb-488b-a7e2-149abc435af8  \n",
       "193  a314ee3d-f4fd-4a13-abba-086752ddab7e  \n",
       "194  fd55c99f-10c5-4c31-8175-641ba4cf04b6  \n",
       "\n",
       "[195 rows x 6 columns]"
      ]
     },
     "execution_count": 24,
     "metadata": {},
     "output_type": "execute_result"
    }
   ],
   "source": [
    "# Retrieve a ExecutionResultRef for every Circuit that was run\n",
    "execute_job_result_refs = qnx.jobs.results(execute_job_ref)\n",
    "\n",
    "from pathlib import Path\n",
    "qnx.filesystem.save(\n",
    "    ref=execute_job_ref,\n",
    "    path=Path.cwd() / job_path / f\"job-exec-{execute_job_ref.annotations.name}\",\n",
    "    mkdir=True,\n",
    ")\n",
    "\n",
    "execute_job_result_refs.df()"
   ]
  },
  {
   "cell_type": "code",
   "execution_count": 25,
   "metadata": {},
   "outputs": [
    {
     "data": {
      "text/html": [
       "<div>\n",
       "<style scoped>\n",
       "    .dataframe tbody tr th:only-of-type {\n",
       "        vertical-align: middle;\n",
       "    }\n",
       "\n",
       "    .dataframe tbody tr th {\n",
       "        vertical-align: top;\n",
       "    }\n",
       "\n",
       "    .dataframe thead th {\n",
       "        text-align: right;\n",
       "    }\n",
       "</style>\n",
       "<table border=\"1\" class=\"dataframe\">\n",
       "  <thead>\n",
       "    <tr style=\"text-align: right;\">\n",
       "      <th></th>\n",
       "      <th>name</th>\n",
       "      <th>description</th>\n",
       "      <th>created</th>\n",
       "      <th>modified</th>\n",
       "      <th>project</th>\n",
       "      <th>id</th>\n",
       "    </tr>\n",
       "  </thead>\n",
       "  <tbody>\n",
       "    <tr>\n",
       "      <th>0</th>\n",
       "      <td>vqe-itr3_1024shots</td>\n",
       "      <td></td>\n",
       "      <td>2025-05-30 00:28:47.117097+00:00</td>\n",
       "      <td>2025-05-30 00:28:47.117097+00:00</td>\n",
       "      <td>VQE BZ TZ nf 13579 Simu CX Half ZNE</td>\n",
       "      <td>0f60b023-3ff8-416e-8ab8-892971c3535f</td>\n",
       "    </tr>\n",
       "    <tr>\n",
       "      <th>1</th>\n",
       "      <td>vqe-itr3_1024shots</td>\n",
       "      <td></td>\n",
       "      <td>2025-05-30 00:28:47.117097+00:00</td>\n",
       "      <td>2025-05-30 00:28:47.117097+00:00</td>\n",
       "      <td>VQE BZ TZ nf 13579 Simu CX Half ZNE</td>\n",
       "      <td>44bd8b41-2b95-4617-9dd8-ef8fef79427f</td>\n",
       "    </tr>\n",
       "    <tr>\n",
       "      <th>2</th>\n",
       "      <td>vqe-itr3_1024shots</td>\n",
       "      <td></td>\n",
       "      <td>2025-05-30 00:28:47.117097+00:00</td>\n",
       "      <td>2025-05-30 00:28:47.117097+00:00</td>\n",
       "      <td>VQE BZ TZ nf 13579 Simu CX Half ZNE</td>\n",
       "      <td>ea8b5e3f-53be-4650-8a6c-3bdeb80ddc6e</td>\n",
       "    </tr>\n",
       "    <tr>\n",
       "      <th>3</th>\n",
       "      <td>vqe-itr3_1024shots</td>\n",
       "      <td></td>\n",
       "      <td>2025-05-30 00:28:47.117097+00:00</td>\n",
       "      <td>2025-05-30 00:28:47.117097+00:00</td>\n",
       "      <td>VQE BZ TZ nf 13579 Simu CX Half ZNE</td>\n",
       "      <td>7bacd631-dd67-4950-b642-fb145d49ef54</td>\n",
       "    </tr>\n",
       "    <tr>\n",
       "      <th>4</th>\n",
       "      <td>vqe-itr3_1024shots</td>\n",
       "      <td></td>\n",
       "      <td>2025-05-30 00:28:47.117097+00:00</td>\n",
       "      <td>2025-05-30 00:28:47.117097+00:00</td>\n",
       "      <td>VQE BZ TZ nf 13579 Simu CX Half ZNE</td>\n",
       "      <td>a6f365a7-ce4c-40ec-87c6-5aec35c8f735</td>\n",
       "    </tr>\n",
       "    <tr>\n",
       "      <th>...</th>\n",
       "      <td>...</td>\n",
       "      <td>...</td>\n",
       "      <td>...</td>\n",
       "      <td>...</td>\n",
       "      <td>...</td>\n",
       "      <td>...</td>\n",
       "    </tr>\n",
       "    <tr>\n",
       "      <th>190</th>\n",
       "      <td>vqe-itr3_1024shots</td>\n",
       "      <td></td>\n",
       "      <td>2025-05-30 00:28:47.117097+00:00</td>\n",
       "      <td>2025-05-30 00:28:47.117097+00:00</td>\n",
       "      <td>VQE BZ TZ nf 13579 Simu CX Half ZNE</td>\n",
       "      <td>58f83ed1-3786-4661-a081-7f56d6c39b35</td>\n",
       "    </tr>\n",
       "    <tr>\n",
       "      <th>191</th>\n",
       "      <td>vqe-itr3_1024shots</td>\n",
       "      <td></td>\n",
       "      <td>2025-05-30 00:28:47.117097+00:00</td>\n",
       "      <td>2025-05-30 00:28:47.117097+00:00</td>\n",
       "      <td>VQE BZ TZ nf 13579 Simu CX Half ZNE</td>\n",
       "      <td>5e0f1ddb-08b4-44f8-87e1-34550af9b23c</td>\n",
       "    </tr>\n",
       "    <tr>\n",
       "      <th>192</th>\n",
       "      <td>vqe-itr3_1024shots</td>\n",
       "      <td></td>\n",
       "      <td>2025-05-30 00:28:47.117097+00:00</td>\n",
       "      <td>2025-05-30 00:28:47.117097+00:00</td>\n",
       "      <td>VQE BZ TZ nf 13579 Simu CX Half ZNE</td>\n",
       "      <td>5bfd058f-89fb-488b-a7e2-149abc435af8</td>\n",
       "    </tr>\n",
       "    <tr>\n",
       "      <th>193</th>\n",
       "      <td>vqe-itr3_1024shots</td>\n",
       "      <td></td>\n",
       "      <td>2025-05-30 00:28:47.117097+00:00</td>\n",
       "      <td>2025-05-30 00:28:47.117097+00:00</td>\n",
       "      <td>VQE BZ TZ nf 13579 Simu CX Half ZNE</td>\n",
       "      <td>a314ee3d-f4fd-4a13-abba-086752ddab7e</td>\n",
       "    </tr>\n",
       "    <tr>\n",
       "      <th>194</th>\n",
       "      <td>vqe-itr3_1024shots</td>\n",
       "      <td></td>\n",
       "      <td>2025-05-30 00:28:47.117097+00:00</td>\n",
       "      <td>2025-05-30 00:28:47.117097+00:00</td>\n",
       "      <td>VQE BZ TZ nf 13579 Simu CX Half ZNE</td>\n",
       "      <td>fd55c99f-10c5-4c31-8175-641ba4cf04b6</td>\n",
       "    </tr>\n",
       "  </tbody>\n",
       "</table>\n",
       "<p>195 rows × 6 columns</p>\n",
       "</div>"
      ],
      "text/plain": [
       "                   name description                          created  \\\n",
       "0    vqe-itr3_1024shots             2025-05-30 00:28:47.117097+00:00   \n",
       "1    vqe-itr3_1024shots             2025-05-30 00:28:47.117097+00:00   \n",
       "2    vqe-itr3_1024shots             2025-05-30 00:28:47.117097+00:00   \n",
       "3    vqe-itr3_1024shots             2025-05-30 00:28:47.117097+00:00   \n",
       "4    vqe-itr3_1024shots             2025-05-30 00:28:47.117097+00:00   \n",
       "..                  ...         ...                              ...   \n",
       "190  vqe-itr3_1024shots             2025-05-30 00:28:47.117097+00:00   \n",
       "191  vqe-itr3_1024shots             2025-05-30 00:28:47.117097+00:00   \n",
       "192  vqe-itr3_1024shots             2025-05-30 00:28:47.117097+00:00   \n",
       "193  vqe-itr3_1024shots             2025-05-30 00:28:47.117097+00:00   \n",
       "194  vqe-itr3_1024shots             2025-05-30 00:28:47.117097+00:00   \n",
       "\n",
       "                            modified                              project  \\\n",
       "0   2025-05-30 00:28:47.117097+00:00  VQE BZ TZ nf 13579 Simu CX Half ZNE   \n",
       "1   2025-05-30 00:28:47.117097+00:00  VQE BZ TZ nf 13579 Simu CX Half ZNE   \n",
       "2   2025-05-30 00:28:47.117097+00:00  VQE BZ TZ nf 13579 Simu CX Half ZNE   \n",
       "3   2025-05-30 00:28:47.117097+00:00  VQE BZ TZ nf 13579 Simu CX Half ZNE   \n",
       "4   2025-05-30 00:28:47.117097+00:00  VQE BZ TZ nf 13579 Simu CX Half ZNE   \n",
       "..                               ...                                  ...   \n",
       "190 2025-05-30 00:28:47.117097+00:00  VQE BZ TZ nf 13579 Simu CX Half ZNE   \n",
       "191 2025-05-30 00:28:47.117097+00:00  VQE BZ TZ nf 13579 Simu CX Half ZNE   \n",
       "192 2025-05-30 00:28:47.117097+00:00  VQE BZ TZ nf 13579 Simu CX Half ZNE   \n",
       "193 2025-05-30 00:28:47.117097+00:00  VQE BZ TZ nf 13579 Simu CX Half ZNE   \n",
       "194 2025-05-30 00:28:47.117097+00:00  VQE BZ TZ nf 13579 Simu CX Half ZNE   \n",
       "\n",
       "                                       id  \n",
       "0    0f60b023-3ff8-416e-8ab8-892971c3535f  \n",
       "1    44bd8b41-2b95-4617-9dd8-ef8fef79427f  \n",
       "2    ea8b5e3f-53be-4650-8a6c-3bdeb80ddc6e  \n",
       "3    7bacd631-dd67-4950-b642-fb145d49ef54  \n",
       "4    a6f365a7-ce4c-40ec-87c6-5aec35c8f735  \n",
       "..                                    ...  \n",
       "190  58f83ed1-3786-4661-a081-7f56d6c39b35  \n",
       "191  5e0f1ddb-08b4-44f8-87e1-34550af9b23c  \n",
       "192  5bfd058f-89fb-488b-a7e2-149abc435af8  \n",
       "193  a314ee3d-f4fd-4a13-abba-086752ddab7e  \n",
       "194  fd55c99f-10c5-4c31-8175-641ba4cf04b6  \n",
       "\n",
       "[195 rows x 6 columns]"
      ]
     },
     "execution_count": 25,
     "metadata": {},
     "output_type": "execute_result"
    }
   ],
   "source": [
    "from pathlib import Path\n",
    "\n",
    "exec_job_name = f\"vqe-itr{selected_iter}_{shots}shots\"\n",
    "execute_job_ref = qnx.filesystem.load(\n",
    "    path=Path.cwd() / job_path / f\"job-exec-{exec_job_name}\",\n",
    ")\n",
    "\n",
    "qtm_pauli_arr = np.load(f\"{job_path}/paulikey-{exec_job_name.split('_')[0]}.npy\")\n",
    "execute_job_result_refs = qnx.jobs.results(execute_job_ref)\n",
    "execute_job_result_refs.df()"
   ]
  },
  {
   "cell_type": "code",
   "execution_count": 26,
   "metadata": {},
   "outputs": [],
   "source": [
    "# noise_factors = [1,3,5]\n",
    "qtm_results = { str(nf):{} for nf in noise_factors}\n",
    "for ps, res_ref in zip(qtm_pauli_arr, execute_job_result_refs):\n",
    "    pauli_str, nf = ps.split('-')\n",
    "    qtm_results[nf][pauli_str] = freq_dict_to_prob_array( res_ref.download_result().get_counts(), len(pauli_str), endien_switch = False)\n",
    "# np.array(qtm_results['1'][qtm_pauli_arr[0].split('-')[0]])"
   ]
  },
  {
   "cell_type": "code",
   "execution_count": 29,
   "metadata": {},
   "outputs": [
    {
     "name": "stdout",
     "output_type": "stream",
     "text": [
      "\n",
      "Noise factor: 1\n",
      "  Estimation -231.74079723872356 +- 0.006797616537022529, Error to qiskit 0.042053825886000595, Error to FCI 0.046984909815307674, Error to full Ham ideal 0.0033957802631050527, finite-sampling error 0.03125\n",
      "\n",
      "Noise factor: 3\n",
      "  Estimation -231.72431702809538 +- 0.007809222671165723, Error to qiskit 0.05853403651417466, Error to FCI 0.06346512044348174, Error to full Ham ideal 0.0033957802631050527, finite-sampling error 0.03125\n",
      "\n",
      "Noise factor: 5\n",
      "  Estimation -231.68881358656697 +- 0.008849254629015599, Error to qiskit 0.0940374780425941, Error to FCI 0.09896856197190118, Error to full Ham ideal 0.0033957802631050527, finite-sampling error 0.03125\n",
      "\n",
      "Noise factor: 7\n",
      "  Estimation -231.675521722854 +- 0.00968253521454442, Error to qiskit 0.10732934175555897, Error to FCI 0.11226042568486605, Error to full Ham ideal 0.0033957802631050527, finite-sampling error 0.03125\n",
      "\n",
      "Noise factor: 9\n",
      "  Estimation -231.65264613083355 +- 0.010557538586974793, Error to qiskit 0.13020493377601383, Error to FCI 0.1351360177053209, Error to full Ham ideal 0.0033957802631050527, finite-sampling error 0.03125\n"
     ]
    }
   ],
   "source": [
    "qtm_exps = []\n",
    "qtm_vars = []\n",
    "# noise_factors = [1,3,5]\n",
    "for nf in noise_factors:\n",
    "    print(f\"\\nNoise factor: {nf}\")\n",
    "    final_exp_qtmh1,final_var_qtmh1 = est_exp_sampler(pauli_dict, coeff_dict, qtm_results[str(nf)], return_var=True, num_shots=1024) ## compute the expectation value and sum them up\n",
    "    qtm_exps.append(final_exp_qtmh1)\n",
    "    qtm_vars.append(final_var_qtmh1)\n",
    "    print(f\"  Estimation {final_exp_qtmh1} +- {np.sqrt(final_var_qtmh1)}, Error to qiskit {abs(theo_energy - final_exp_qtmh1)}, Error to FCI {abs(final_exp_qtmh1 - true_eigvals[0])}, Error to full Ham ideal {abs(final_exp_finitesim-nwqsim_dict['energies'][selected_iter])}, finite-sampling error {1/np.sqrt(shots)}\")"
   ]
  },
  {
   "cell_type": "code",
   "execution_count": 30,
   "metadata": {},
   "outputs": [
    {
     "data": {
      "text/plain": [
       "[4.6207590584402156e-05,\n",
       " 6.098395872784871e-05,\n",
       " 7.8309307489154e-05,\n",
       " 9.375148818089275e-05,\n",
       " 0.00011146162101546173]"
      ]
     },
     "execution_count": 30,
     "metadata": {},
     "output_type": "execute_result"
    }
   ],
   "source": [
    "np.set_printoptions(suppress=True)\n",
    "qtm_vars"
   ]
  },
  {
   "cell_type": "code",
   "execution_count": 47,
   "metadata": {},
   "outputs": [
    {
     "name": "stdout",
     "output_type": "stream",
     "text": [
      "R^2 value: 0.9822730968517734\n"
     ]
    },
    {
     "data": {
      "image/png": "[encoded data removed]",
      "text/plain": [
       "<Figure size 800x600 with 1 Axes>"
      ]
     },
     "metadata": {},
     "output_type": "display_data"
    }
   ],
   "source": [
    "# for nf in noise_factors:\n",
    "#     np.save(f\"{job_path}/zneexp-{exec_job_name}_nf{nf}.npy\", list(qtm_exps))\n",
    "\n",
    "\n",
    "import nwq2qis\n",
    "import importlib\n",
    "importlib.reload(nwq2qis)\n",
    "from nwq2qis import *\n",
    "noise_factors_half = [1,2,3,4,5]\n",
    "ex_exp, popt = extrapolate_to_zero_noise(noise_factors_half, qtm_exps, extrapolation_method='linear', \n",
    "                                   plot=True, plot_title=f\"Iteration {selected_iter+1}, ZNE\",\n",
    "                                   plot_horizontal_line=theo_energy,\n",
    "                                   plot_horizontal_line_legend=\"Noiseless value\")\n",
    "np.save(f\"{job_path}/zneexp-{exec_job_name}.npy\", [ex_exp]+list(qtm_exps))\n",
    "np.save(f\"{job_path}/znepopt-{exec_job_name}.npy\", popt)"
   ]
  },
  {
   "cell_type": "code",
   "execution_count": 46,
   "metadata": {},
   "outputs": [
    {
     "data": {
      "text/plain": [
       "{'intercept': -231.76394839772107,\n",
       " 'intercept_se': 0.0057903756390460465,\n",
       " 'uncertainty': 0.018427559558690094,\n",
       " 'CI': (-231.78237595727975, -231.74552083816238)}"
      ]
     },
     "execution_count": 46,
     "metadata": {},
     "output_type": "execute_result"
    }
   ],
   "source": [
    "intercept_with_uncertainty(noise_factors_half, qtm_exps, alpha=0.05)"
   ]
  },
  {
   "cell_type": "code",
   "execution_count": 42,
   "metadata": {},
   "outputs": [
    {
     "data": {
      "text/plain": [
       "[-231.74079723872356,\n",
       " -231.72431702809538,\n",
       " -231.68881358656697,\n",
       " -231.675521722854,\n",
       " -231.65264613083355]"
      ]
     },
     "execution_count": 42,
     "metadata": {},
     "output_type": "execute_result"
    }
   ],
   "source": [
    "qtm_exps"
   ]
  },
  {
   "cell_type": "code",
   "execution_count": 43,
   "metadata": {},
   "outputs": [
    {
     "data": {
      "text/plain": [
       "(-231.76394839772115,\n",
       " -231.78285106460956,\n",
       " -231.78778214853887,\n",
       " 0.023833750817715327,\n",
       " 0.0049310839293070785)"
      ]
     },
     "execution_count": 43,
     "metadata": {},
     "output_type": "execute_result"
    }
   ],
   "source": [
    "ex_exp, theo_energy, true_eigvals[0], abs(ex_exp - true_eigvals[0]),abs(theo_energy - true_eigvals[0]),"
   ]
  },
  {
   "cell_type": "code",
   "execution_count": 36,
   "metadata": {},
   "outputs": [
    {
     "data": {
      "text/plain": [
       "(0.023833750817715327, 0.01890266688840825, 0.03125)"
      ]
     },
     "execution_count": 36,
     "metadata": {},
     "output_type": "execute_result"
    }
   ],
   "source": [
    "abs(ex_exp - true_eigvals[0]), abs(theo_energy - ex_exp),  1/np.sqrt(1024)"
   ]
  },
  {
   "cell_type": "code",
   "execution_count": null,
   "metadata": {},
   "outputs": [],
   "source": []
  }
 ],
 "metadata": {
  "kernelspec": {
   "display_name": "qnew",
   "language": "python",
   "name": "python3"
  },
  "language_info": {
   "codemirror_mode": {
    "name": "ipython",
    "version": 3
   },
   "file_extension": ".py",
   "mimetype": "text/x-python",
   "name": "python",
   "nbconvert_exporter": "python",
   "pygments_lexer": "ipython3",
   "version": "3.12.4"
  }
 },
 "nbformat": 4,
 "nbformat_minor": 2
}
