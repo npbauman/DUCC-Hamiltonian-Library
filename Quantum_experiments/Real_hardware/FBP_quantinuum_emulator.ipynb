{
 "cells": [
  {
   "cell_type": "code",
   "execution_count": null,
   "metadata": {},
   "outputs": [
    {
     "name": "stdout",
     "output_type": "stream",
     "text": [
      "  - Number of electrons: 6\n",
      "  - Number of orbitals: 6\n",
      "  - DUCC: 3\n",
      "  - Target molecule: FreeBasedPorphyrin66DUCC3\n",
      "  - Input file: ../DUCC-Hamiltonian-Library/FBP/FreeBasedPorphyrin.out-xacc\n",
      "0:  IXYXXIIIIIII   0.0123183193644536\n",
      "1:  IIIIIIIXYXXI   0.009412132266220397\n",
      "2:  IIIIIIIYZZZX   0.009143387921540125\n",
      "3:  IYZZZXIIIIII   0.008927078743795391\n",
      "4:  IXZZXIIYZZXI   0.0071785118115030855\n",
      "5:  IIXXIIIIXYII   0.006601006552841682\n",
      "6:  IIIIIIIYZZZX   0.005938926870157957\n",
      "7:  IIXZXIIIYZXI   0.00547883963622553\n",
      "8:  IXZXIIIXZYII   0.004487241603783332\n"
     ]
    }
   ],
   "source": [
    "import sys\n",
    "sys.path.insert(0, './src/')\n",
    "\n",
    "import nwq2qis\n",
    "from nwq2qis import *\n",
    "\n",
    "\n",
    "\n",
    "##\n",
    "import numpy as np\n",
    "np.set_printoptions(suppress=True)\n",
    "import qiskit\n",
    "import qiskit.quantum_info as qi\n",
    "from qiskit_nature.second_q.mappers import JordanWignerMapper, InterleavedQubitMapper\n",
    "from _gcim_utilis import parse_hamiltonian\n",
    "import scipy.sparse.linalg as ssl\n",
    "import scipy.linalg as sl\n",
    "from qiskit_algorithms.optimizers import COBYLA, SPSA\n",
    "from qiskit import transpile\n",
    "from qiskit_ibm_runtime import QiskitRuntimeService\n",
    "from qiskit.transpiler.preset_passmanagers import generate_preset_pass_manager\n",
    "from qiskit_ibm_runtime import EstimatorV2 as Estimator\n",
    "import json\n",
    "from qiskit_ibm_runtime import RuntimeEncoder\n",
    "from qiskit.primitives import StatevectorEstimator\n",
    "##\n",
    "\n",
    "n_orb = 6\n",
    "n_a = 3\n",
    "n_b = 3\n",
    "ducc_lvl = 3\n",
    "results_file = '../Qubit-ADAPT-VQE/printout_qubit_fbp.txt'\n",
    "output_folder = 'Example_Outputs/FBP' ## Please create this folder before you run the code\n",
    "noise_factors = [1,3,5,7,9]\n",
    "selected_iter = 2 ## which qubit-adapt-vqe iteration, start from 0\n",
    "FIRST_NTERMS = 59  # first 59 groups of Paulis\n",
    "\n",
    "mol_name =  f'FreeBasedPorphyrin{n_a+n_b}{n_orb}DUCC{ducc_lvl}'\n",
    "file_path = \"../FBP/FreeBasedPorphyrin.out-xacc\"\n",
    "print(\"  - Number of electrons:\", n_a + n_b)\n",
    "print(\"  - Number of orbitals:\", n_orb)\n",
    "print(\"  - DUCC:\", ducc_lvl)\n",
    "print(\"  - Target molecule:\", mol_name)\n",
    "print(\"  - Input file:\", file_path)\n",
    "\n",
    "fermi_ham = parse_hamiltonian(file_path, n_orb, interleaved=False, return_type = 'qiskit')\n",
    "nwqsim_dict = extract_nwqsim_output(results_file, inverse_pauli=False)\n",
    "\n",
    "mapper = JordanWignerMapper()\n",
    "qubit_op = mapper.map(fermi_ham)\n",
    "\n",
    "true_eigvals = ssl.eigsh(qubit_op.to_matrix(sparse=True),2,which='SA')[0]\n",
    "\n",
    "errors = np.abs( np.array(nwqsim_dict['energies']) - true_eigvals[0] )\n",
    "for i, error in enumerate(errors):\n",
    "    if i > 8:\n",
    "        break\n",
    "    print(f\"{i}:  {str(nwqsim_dict['operators'][i].paulis[0])}   {error}\")"
   ]
  },
  {
   "cell_type": "code",
   "execution_count": null,
   "metadata": {},
   "outputs": [],
   "source": [
    "pauli_dict, coeff_dict = grouped_pauli_in_dict(qubit_op, use_qwc=True)\n",
    "pas_ch, cas_ch = pauli_coeff_separation(qubit_op)"
   ]
  },
  {
   "cell_type": "markdown",
   "metadata": {},
   "source": [
    "## Optimize Parameters"
   ]
  },
  {
   "cell_type": "code",
   "execution_count": null,
   "metadata": {},
   "outputs": [
    {
     "name": "stdout",
     "output_type": "stream",
     "text": [
      "\n",
      "   Normal return from subroutine COBYLA\n",
      "\n",
      "   NFVALS =   86   F =-9.867641E+02    MAXCV = 0.000000E+00\n",
      "   X =-5.764837E-01  -5.767715E-01   5.353437E-02\n",
      "OrderedDict({'u': 28, 'cx': 19, 'barrier': 1}) -986.7641040677287 -986.7641018705452\n"
     ]
    },
    {
     "data": {
      "text/plain": [
       "array([-0.57648369, -0.57677154,  0.05353437])"
      ]
     },
     "execution_count": 5,
     "metadata": {},
     "output_type": "execute_result"
    }
   ],
   "source": [
    "import nwq2qis\n",
    "import importlib\n",
    "importlib.reload(nwq2qis)\n",
    "from nwq2qis import *\n",
    "\n",
    "vqe_circ, symbol_params = create_vqe_circ(nwqsim_dict['operators'][:selected_iter+1], \n",
    "                                            n_orb*2, n_a+n_b, interleaved=False, half_barriar=True)\n",
    "\n",
    "## Optimize parameters\n",
    "def cost_func(parameters):\n",
    "    \"\"\"Compute the energy for given parameters.\"\"\"\n",
    "    estimator = StatevectorEstimator()\n",
    "    job = estimator.run([(vqe_circ, qubit_op, parameters)])\n",
    "    return float( job.result()[0].data.evs )\n",
    "\n",
    "num_vars = len(nwqsim_dict['parameters'][:selected_iter+1])\n",
    "optimizer = COBYLA(maxiter=5000, disp=True)\n",
    "result = optimizer.minimize(cost_func, nwqsim_dict['parameters'][:selected_iter+1])\n",
    "\n",
    "pre_opt_params = result.x\n",
    "\n",
    "basis_gates = ['u', 'cx']\n",
    "trans_vqe_opt = transpile(vqe_circ.assign_parameters(pre_opt_params), basis_gates=basis_gates, \n",
    "                          optimization_level=2, seed_transpiler=7)\n",
    "print(trans_vqe_opt.count_ops(), cost_func(pre_opt_params), nwqsim_dict['energies'][selected_iter])\n",
    "\n",
    "np.save(f\"{output_folder}/optparam-vqe-itr{selected_iter}.npy\", pre_opt_params)\n",
    "pre_opt_params"
   ]
  },
  {
   "cell_type": "markdown",
   "metadata": {},
   "source": [
    "## Choose First X groups that has the largest sum of coefficients"
   ]
  },
  {
   "cell_type": "code",
   "execution_count": 6,
   "metadata": {},
   "outputs": [
    {
     "name": "stdout",
     "output_type": "stream",
     "text": [
      "Selected Pauli strings: 59\n"
     ]
    },
    {
     "data": {
      "text/plain": [
       "(array([-986.76734685, -986.69267557, -986.69197001, ..., -983.0041199 ,\n",
       "        -983.00387889, -982.32728781]),\n",
       " 0.005898407343124745)"
      ]
     },
     "execution_count": 6,
     "metadata": {},
     "output_type": "execute_result"
    }
   ],
   "source": [
    "import nwq2qis\n",
    "import importlib\n",
    "importlib.reload(nwq2qis)\n",
    "from nwq2qis import *\n",
    "\n",
    "pauli_dict, coeff_dict = grouped_pauli_in_dict(qubit_op, use_qwc=True)\n",
    "## Select first N Groups depends on the sum of abs of coefficients\n",
    "coeffs_selected = dict_sort_and_select(coeff_dict,FIRST_NTERMS)\n",
    "pauli_selected = {k:v for k,v in pauli_dict.items() if k in coeffs_selected.keys()}\n",
    "## Construct Partial Hamiltonian\n",
    "counter = 0\n",
    "partial_paulis = []\n",
    "partial_coeffs = []\n",
    "partial_hamop = None\n",
    "for k in pauli_selected.keys():\n",
    "    sub_ham = qiskit.quantum_info.SparsePauliOp(pauli_selected[k], coeffs_selected[k])\n",
    "    if partial_hamop is None:\n",
    "        partial_hamop = sub_ham\n",
    "    else:\n",
    "        partial_hamop += sub_ham\n",
    "    counter += 1\n",
    "## Eigenvalues\n",
    "partial_eigvals = sl.eigh(partial_hamop.to_matrix(sparse=False))[0]\n",
    "\n",
    "print(\"Selected Pauli strings:\", len(pauli_selected))\n",
    "partial_eigvals, abs(partial_eigvals[0] - true_eigvals[0])"
   ]
  },
  {
   "cell_type": "markdown",
   "metadata": {},
   "source": [
    "### Group Pauli Operators and Generate Circuits"
   ]
  },
  {
   "cell_type": "code",
   "execution_count": 9,
   "metadata": {},
   "outputs": [
    {
     "name": "stdout",
     "output_type": "stream",
     "text": [
      "Number of commuting groups: 60\n",
      "-986.7608388335083 -986.7673468511236 0.006508017615374229\n"
     ]
    }
   ],
   "source": [
    "import nwq2qis\n",
    "import importlib\n",
    "importlib.reload(nwq2qis)\n",
    "from nwq2qis import *\n",
    "\n",
    "pauli_dict_partial, coeff_dict_partial = grouped_pauli_in_dict(partial_hamop, use_qwc=True) ## grouping paulis in the Hamiltonian and separate Pauli strings and Coefficients\n",
    "circ_dict = commuting_circs(list(pauli_dict_partial.keys()), trans_vqe_opt, add_measure = True, \n",
    "                            noise_factors=noise_factors, inverse_pauli = False, noise_type='half') ## Form circuits for each commuting group\n",
    "circ_dict_nomeasure = commuting_circs(list(pauli_dict_partial.keys()), trans_vqe_opt, add_measure = False, \n",
    "                            noise_factors=noise_factors, inverse_pauli = False, noise_type='half') ## Form circuits for each commuting group\n",
    "print(\"Number of commuting groups:\",len(list(pauli_dict_partial.keys())))\n",
    "# print(f\"Total number of cx gates: {trans_vqe_opt.count_ops()['cx']*len(list(pauli_dict_partial.keys()))}\")\n",
    "\n",
    "## Exact Solutions\n",
    "theo_state = qi.Statevector.from_instruction(vqe_circ.assign_parameters(pre_opt_params)) ## exact state\n",
    "theo_energy = theo_state.expectation_value(partial_hamop).real\n",
    "print(theo_energy, partial_eigvals[0], abs(theo_energy - partial_eigvals[0]))"
   ]
  },
  {
   "cell_type": "code",
   "execution_count": 10,
   "metadata": {},
   "outputs": [],
   "source": [
    "with open(f\"{output_folder}/pauli_dict_partial{len(list(pauli_dict_partial.keys()))}.json\", 'w') as f:\n",
    "    json.dump(pauli_dict_partial, f)\n",
    "with open(f\"{output_folder}/coeff_dict_partial{len(list(pauli_dict_partial.keys()))}.json\", 'w') as f:\n",
    "    json.dump(coeff_dict_partial, f, cls=RuntimeEncoder)"
   ]
  },
  {
   "cell_type": "markdown",
   "metadata": {},
   "source": [
    "## Infinite Shots"
   ]
  },
  {
   "cell_type": "code",
   "execution_count": 11,
   "metadata": {},
   "outputs": [
    {
     "name": "stdout",
     "output_type": "stream",
     "text": [
      "\n",
      "Noise factor: 1\n",
      "  Number of cx gates: 1140\n",
      "  Final expectation energy: -986.7607164974243, Error to qiskit 0.00012233608401857055, Error to FCI 0.012528761042517544\n",
      "\n",
      "Noise factor: 3\n",
      "  Number of cx gates: 2700\n",
      "  Final expectation energy: -986.7607164974238, Error to qiskit 0.0001223360844733179, Error to FCI 0.012528761042972292\n",
      "\n",
      "Noise factor: 5\n",
      "  Number of cx gates: 4260\n",
      "  Final expectation energy: -986.7607164974238, Error to qiskit 0.0001223360844733179, Error to FCI 0.012528761042972292\n",
      "\n",
      "Noise factor: 7\n",
      "  Number of cx gates: 5820\n",
      "  Final expectation energy: -986.7607164974238, Error to qiskit 0.0001223360844733179, Error to FCI 0.012528761042972292\n",
      "\n",
      "Noise factor: 9\n",
      "  Number of cx gates: 7380\n",
      "  Final expectation energy: -986.7607164974238, Error to qiskit 0.0001223360844733179, Error to FCI 0.012528761042972292\n"
     ]
    }
   ],
   "source": [
    "for nf in noise_factors:\n",
    "    print(f\"\\nNoise factor: {nf}\")\n",
    "    meas_prob_dict_ideal = {}\n",
    "    cx_count = 0\n",
    "    for key, circs in circ_dict_nomeasure.items():\n",
    "        circ = circs[int((nf-1)/2)]\n",
    "        cx_count += circ.count_ops()['cx']\n",
    "        meas_prob_dict_ideal[key] = qiskit_normal_order_switch_vec( qi.Statevector.from_instruction(circ).probabilities(decimals=16)  )\n",
    "        # meas_prob_dict_ideal[key] =  qi.Statevector.from_instruction(circ).probabilities(decimals=16) \n",
    "\n",
    "    final_exp_ideal = est_exp_sampler(pauli_dict_partial, coeff_dict_partial, meas_prob_dict_ideal, debug_state = theo_state) ## compute the expectation value and sum them up\n",
    "    print(f\"  Number of cx gates: {cx_count}\")\n",
    "    print(f\"  Final expectation energy: {final_exp_ideal}, Error to qiskit {abs(theo_energy - final_exp_ideal)}, Error to FCI {abs(final_exp_ideal - true_eigvals[0])}\")"
   ]
  },
  {
   "cell_type": "markdown",
   "metadata": {},
   "source": [
    "## Finite Sampler"
   ]
  },
  {
   "cell_type": "code",
   "execution_count": 12,
   "metadata": {},
   "outputs": [
    {
     "name": "stdout",
     "output_type": "stream",
     "text": [
      "\n",
      "Noise factor: 1\n",
      "  Number of cx gates: 1140\n",
      "  Final expectation energy: -986.7634900424023, Error to qiskit 0.0026512088940080503, Error to FCI 0.009755216064490924\n",
      "\n",
      "Noise factor: 3\n",
      "  Number of cx gates: 2700\n",
      "  Final expectation energy: -986.7571456288804, Error to qiskit 0.003693204627893465, Error to FCI 0.01609962958639244\n",
      "\n",
      "Noise factor: 5\n",
      "  Number of cx gates: 4260\n",
      "  Final expectation energy: -986.7578723667522, Error to qiskit 0.002966466756106456, Error to FCI 0.01537289171460543\n",
      "\n",
      "Noise factor: 7\n",
      "  Number of cx gates: 5820\n",
      "  Final expectation energy: -986.7627648483259, Error to qiskit 0.0019260148176272196, Error to FCI 0.010480410140871754\n",
      "\n",
      "Noise factor: 9\n",
      "  Number of cx gates: 7380\n",
      "  Final expectation energy: -986.76021287613, Error to qiskit 0.0006259573782472216, Error to FCI 0.013032382336746196\n"
     ]
    }
   ],
   "source": [
    "from qiskit.primitives import StatevectorSampler\n",
    "sampler = StatevectorSampler()\n",
    "\n",
    "total_shots_used = 0\n",
    "for nf in noise_factors:\n",
    "# for nf in [1]:\n",
    "    print(f\"\\nNoise factor: {nf}\")\n",
    "    meas_prob_dict_finitesim = {}\n",
    "    cx_count = 0\n",
    "    circ_counter = 0\n",
    "    for key, circs in circ_dict.items():\n",
    "        total_shots_used += 1024\n",
    "        temp_circ = circs[int((nf-1)/2)]\n",
    "        cx_count += temp_circ.count_ops()['cx'] ## \n",
    "        meas_quasi_res = sampler.run([temp_circ], shots=1024).result()[0].data.meas.get_counts()\n",
    "        meas_prob_dict_finitesim[key] = freq_dict_to_prob_array(meas_quasi_res, len(key), endien_switch = True)\n",
    "        circ_counter += 1\n",
    "\n",
    "    final_exp_finitesim = est_exp_sampler(pauli_dict_partial, coeff_dict_partial, meas_prob_dict_finitesim) ## compute the expectation value and sum them up\n",
    "    print(f\"  Number of cx gates: {cx_count}\")\n",
    "    print(f\"  Final expectation energy: {final_exp_finitesim}, Error to qiskit {abs(theo_energy - final_exp_finitesim)}, Error to FCI {abs(final_exp_finitesim - true_eigvals[0])}\")"
   ]
  },
  {
   "cell_type": "code",
   "execution_count": 13,
   "metadata": {},
   "outputs": [
    {
     "data": {
      "text/plain": [
       "(0.00713397499362145, 0.0066303536998475465)"
      ]
     },
     "execution_count": 13,
     "metadata": {},
     "output_type": "execute_result"
    }
   ],
   "source": [
    "final_exp_finitesim - partial_eigvals[0], final_exp_ideal - partial_eigvals[0]"
   ]
  },
  {
   "cell_type": "code",
   "execution_count": 14,
   "metadata": {},
   "outputs": [
    {
     "data": {
      "text/plain": [
       "(0.009143387921540125, -986.7641018705452)"
      ]
     },
     "execution_count": 14,
     "metadata": {},
     "output_type": "execute_result"
    }
   ],
   "source": [
    "errors[selected_iter], nwqsim_dict['energies'][selected_iter]"
   ]
  },
  {
   "cell_type": "code",
   "execution_count": 16,
   "metadata": {},
   "outputs": [],
   "source": [
    "## Save infor for unselcted pauli and coefficients\n",
    "with open(f\"{output_folder}/unselected_pauli.json\", 'w') as f:\n",
    "    json.dump(unselected_paulis, f, cls=RuntimeEncoder)\n",
    "with open(f\"{output_folder}/unselected_coeffs.json\", 'w') as f:\n",
    "    json.dump(unselected_coeffs, f, cls=RuntimeEncoder)\n",
    "## Save infor for selected pauli and coefficients\n",
    "with open(f\"{output_folder}/selected_pauli.json\", 'w') as f:\n",
    "    json.dump(pauli_selected, f, cls=RuntimeEncoder)\n",
    "with open(f\"{output_folder}/selected_coeffs.json\", 'w') as f:\n",
    "    json.dump(coeffs_selected, f, cls=RuntimeEncoder)"
   ]
  },
  {
   "cell_type": "markdown",
   "metadata": {},
   "source": [
    "## To Quantinuum circuit"
   ]
  },
  {
   "cell_type": "code",
   "execution_count": null,
   "metadata": {},
   "outputs": [
    {
     "data": {
      "text/html": [
       "<div>\n",
       "<style scoped>\n",
       "    .dataframe tbody tr th:only-of-type {\n",
       "        vertical-align: middle;\n",
       "    }\n",
       "\n",
       "    .dataframe tbody tr th {\n",
       "        vertical-align: top;\n",
       "    }\n",
       "\n",
       "    .dataframe thead th {\n",
       "        text-align: right;\n",
       "    }\n",
       "</style>\n",
       "<table border=\"1\" class=\"dataframe\">\n",
       "  <thead>\n",
       "    <tr style=\"text-align: right;\">\n",
       "      <th></th>\n",
       "      <th>name</th>\n",
       "      <th>description</th>\n",
       "      <th>usage</th>\n",
       "      <th>quota</th>\n",
       "    </tr>\n",
       "  </thead>\n",
       "  <tbody>\n",
       "    <tr>\n",
       "      <th>0</th>\n",
       "      <td>simulation</td>\n",
       "      <td>Total CPU running time, in seconds.</td>\n",
       "      <td>3453.736968</td>\n",
       "      <td>No quota set for user</td>\n",
       "    </tr>\n",
       "    <tr>\n",
       "      <th>1</th>\n",
       "      <td>database_usage</td>\n",
       "      <td>Total megabytes used to store scientific data.</td>\n",
       "      <td>54.421495</td>\n",
       "      <td>No quota set for user</td>\n",
       "    </tr>\n",
       "    <tr>\n",
       "      <th>2</th>\n",
       "      <td>compilation</td>\n",
       "      <td>Total CPU running time, in seconds.</td>\n",
       "      <td>112.148045</td>\n",
       "      <td>No quota set for user</td>\n",
       "    </tr>\n",
       "    <tr>\n",
       "      <th>3</th>\n",
       "      <td>jupyterhub</td>\n",
       "      <td>Total Jupyterhub notebook server running time,...</td>\n",
       "      <td>11120.000000</td>\n",
       "      <td>No quota set for user</td>\n",
       "    </tr>\n",
       "  </tbody>\n",
       "</table>\n",
       "</div>"
      ],
      "text/plain": [
       "             name                                        description  \\\n",
       "0      simulation                Total CPU running time, in seconds.   \n",
       "1  database_usage     Total megabytes used to store scientific data.   \n",
       "2     compilation                Total CPU running time, in seconds.   \n",
       "3      jupyterhub  Total Jupyterhub notebook server running time,...   \n",
       "\n",
       "          usage                  quota  \n",
       "0   3453.736968  No quota set for user  \n",
       "1     54.421495  No quota set for user  \n",
       "2    112.148045  No quota set for user  \n",
       "3  11120.000000  No quota set for user  "
      ]
     },
     "execution_count": 20,
     "metadata": {},
     "output_type": "execute_result"
    }
   ],
   "source": [
    "from pytket.extensions.qiskit import qiskit_to_tk, tk_to_qiskit\n",
    "import qnexus as qnx\n",
    "import datetime\n",
    "# qnx.login()\n",
    "\n",
    "project = qnx.projects.get_or_create(\"VQE FBP nf 13579 Simu CX Half ZNE\")\n",
    "qnx.context.set_active_project(project)\n",
    "name_suffix = f'itr{selected_iter}'\n",
    "config = qnx.QuantinuumConfig(device_name=\"H1-Emulator\")\n",
    "\n",
    "job_path = pathlib.Path(f'{output_folder}/itr{selected_iter}_job')\n",
    "job_path.mkdir(parents=True, exist_ok=True) \n",
    "\n",
    "qnx.quotas.get_all().df()"
   ]
  },
  {
   "cell_type": "code",
   "execution_count": null,
   "metadata": {},
   "outputs": [
    {
     "name": "stdout",
     "output_type": "stream",
     "text": [
      "vqe-itr2-FBP2\n",
      "FBPChop_Outputs_CXHalfZNE_Test_Longer/itr2_job/paulikey-vqe-itr2-FBP2.npy\n",
      "id=UUID('f70d0375-8858-451a-ba71-bc4dd0254a49') annotations=Annotations(name='vqe-itr2-FBP2', description='', properties=OrderedDict(), created=datetime.datetime(2025, 5, 29, 23, 43, 43, 807824, tzinfo=TzInfo(UTC)), modified=datetime.datetime(2025, 5, 29, 23, 43, 43, 807824, tzinfo=TzInfo(UTC))) job_type=<JobType.COMPILE: 'compile'> last_status=<StatusEnum.SUBMITTED: 'Circuit has been submitted.'> last_message='' project=ProjectRef(id=UUID('de555a4a-fe78-45f5-a799-43d87c8a62f5'), annotations=Annotations(name='VQE FBP nf 13579 Simu CX Half ZNE', description=None, properties=OrderedDict(), created=datetime.datetime(2025, 5, 29, 23, 42, 57, 835643, tzinfo=TzInfo(UTC)), modified=datetime.datetime(2025, 5, 29, 23, 42, 57, 835643, tzinfo=TzInfo(UTC))), contents_modified=datetime.datetime(2025, 5, 29, 23, 42, 57, 840284, tzinfo=TzInfo(UTC)), archived=False, type='ProjectRef') type='CompileJobRef'\n"
     ]
    }
   ],
   "source": [
    "qtm_pauli_arr = []\n",
    "qtm_circ_arr = []\n",
    "\n",
    "for key, circs in circ_dict.items():\n",
    "    for nf in noise_factors:\n",
    "        circ = circs[int((nf-1)/2)]\n",
    "        pname = f\"{key}-{nf}\"\n",
    "        qtm_c = qiskit_to_tk(circ)\n",
    "        ref_circuit = qnx.circuits.upload(\n",
    "            circuit=qtm_c, \n",
    "            name=f\"{pname}-{name_suffix}\", \n",
    "        )\n",
    "        qtm_pauli_arr.append(pname)\n",
    "        qtm_circ_arr.append(ref_circuit)\n",
    "\n",
    "\n",
    "ref_compile_job = qnx.start_compile_job(\n",
    "    circuits=qtm_circ_arr,\n",
    "    optimisation_level=0,\n",
    "    backend_config=config,\n",
    "    name=f\"vqe-{name_suffix}-FBP2\"\n",
    ")\n",
    "\n",
    "print(ref_compile_job.annotations.name)\n",
    "print(f\"{job_path}/paulikey-{ref_compile_job.annotations.name}.npy\")\n",
    "np.save(f\"{job_path}/paulikey-{ref_compile_job.annotations.name}.npy\", qtm_pauli_arr)\n",
    "\n",
    "print(ref_compile_job)"
   ]
  },
  {
   "cell_type": "code",
   "execution_count": 22,
   "metadata": {},
   "outputs": [],
   "source": [
    "from pathlib import Path\n",
    "qnx.filesystem.save(\n",
    "    ref=ref_compile_job,\n",
    "    path=Path.cwd() / job_path / f\"job-ref_comp-{ref_compile_job.annotations.name}\",\n",
    "    mkdir=True,\n",
    ")"
   ]
  },
  {
   "cell_type": "code",
   "execution_count": 23,
   "metadata": {},
   "outputs": [
    {
     "data": {
      "text/plain": [
       "CompileJobRef(id=UUID('f70d0375-8858-451a-ba71-bc4dd0254a49'), annotations=Annotations(name='vqe-itr2-FBP2', description='', properties=OrderedDict(), created=datetime.datetime(2025, 5, 29, 23, 43, 43, 807824, tzinfo=TzInfo(UTC)), modified=datetime.datetime(2025, 5, 29, 23, 43, 43, 807824, tzinfo=TzInfo(UTC))), job_type=<JobType.COMPILE: 'compile'>, last_status=<StatusEnum.SUBMITTED: 'Circuit has been submitted.'>, last_message='', project=ProjectRef(id=UUID('de555a4a-fe78-45f5-a799-43d87c8a62f5'), annotations=Annotations(name='VQE FBP nf 13579 Simu CX Half ZNE', description=None, properties=OrderedDict(), created=datetime.datetime(2025, 5, 29, 23, 42, 57, 835643, tzinfo=TzInfo(UTC)), modified=datetime.datetime(2025, 5, 29, 23, 42, 57, 835643, tzinfo=TzInfo(UTC))), contents_modified=datetime.datetime(2025, 5, 29, 23, 42, 57, 840284, tzinfo=TzInfo(UTC)), archived=False, type='ProjectRef'), type='CompileJobRef')"
      ]
     },
     "execution_count": 23,
     "metadata": {},
     "output_type": "execute_result"
    }
   ],
   "source": [
    "ref_job_name = f\"vqe-itr{selected_iter}-FBP2\"\n",
    "ref_compile_job = qnx.filesystem.load(\n",
    "    path=Path.cwd() / job_path / f\"job-ref_comp-{ref_job_name}\",\n",
    ")\n",
    "ref_compile_job"
   ]
  },
  {
   "cell_type": "markdown",
   "metadata": {},
   "source": [
    "## Estimate costs"
   ]
  },
  {
   "cell_type": "code",
   "execution_count": 24,
   "metadata": {},
   "outputs": [
    {
     "data": {
      "text/html": [
       "<div>\n",
       "<style scoped>\n",
       "    .dataframe tbody tr th:only-of-type {\n",
       "        vertical-align: middle;\n",
       "    }\n",
       "\n",
       "    .dataframe tbody tr th {\n",
       "        vertical-align: top;\n",
       "    }\n",
       "\n",
       "    .dataframe thead th {\n",
       "        text-align: right;\n",
       "    }\n",
       "</style>\n",
       "<table border=\"1\" class=\"dataframe\">\n",
       "  <thead>\n",
       "    <tr style=\"text-align: right;\">\n",
       "      <th></th>\n",
       "      <th>name</th>\n",
       "      <th>description</th>\n",
       "      <th>created</th>\n",
       "      <th>modified</th>\n",
       "      <th>project</th>\n",
       "      <th>id</th>\n",
       "    </tr>\n",
       "  </thead>\n",
       "  <tbody>\n",
       "    <tr>\n",
       "      <th>0</th>\n",
       "      <td>XZZZZYXZZZZY-1-itr2-compilation</td>\n",
       "      <td></td>\n",
       "      <td>2025-05-29 23:44:30.956794+00:00</td>\n",
       "      <td>2025-05-29 23:44:30.970742+00:00</td>\n",
       "      <td>VQE FBP nf 13579 Simu CX Half ZNE</td>\n",
       "      <td>62b6202f-c7fa-4887-8cd6-9f7e959051b7</td>\n",
       "    </tr>\n",
       "  </tbody>\n",
       "</table>\n",
       "</div>"
      ],
      "text/plain": [
       "                              name description  \\\n",
       "0  XZZZZYXZZZZY-1-itr2-compilation               \n",
       "\n",
       "                           created                         modified  \\\n",
       "0 2025-05-29 23:44:30.956794+00:00 2025-05-29 23:44:30.970742+00:00   \n",
       "\n",
       "                             project                                    id  \n",
       "0  VQE FBP nf 13579 Simu CX Half ZNE  62b6202f-c7fa-4887-8cd6-9f7e959051b7  "
      ]
     },
     "execution_count": 24,
     "metadata": {},
     "output_type": "execute_result"
    }
   ],
   "source": [
    "ref_compiled_job_arr = [item for item in qnx.jobs.results(ref_compile_job)]\n",
    "ref_compiled_circuits = [item.get_output() for item in ref_compiled_job_arr]\n",
    "downloaded_circuits = [item.download_circuit() for item in ref_compiled_circuits]\n",
    "ref_compiled_job_arr[0].df()"
   ]
  },
  {
   "cell_type": "code",
   "execution_count": 25,
   "metadata": {},
   "outputs": [
    {
     "name": "stdout",
     "output_type": "stream",
     "text": [
      "71.0\n"
     ]
    }
   ],
   "source": [
    "qtm_qis_circs = [tk_to_qiskit(dc) for dc in downloaded_circuits]\n",
    "qtm_qis_rzzs = [dc.count_ops()['rzz'] for dc in qtm_qis_circs]\n",
    "np.save(f\"{job_path}/rzzcount-{ref_compile_job.annotations.name}.npy\", qtm_qis_rzzs)\n",
    "print(np.mean(qtm_qis_rzzs))"
   ]
  },
  {
   "cell_type": "markdown",
   "metadata": {},
   "source": [
    "## Submit to execute"
   ]
  },
  {
   "cell_type": "code",
   "execution_count": 26,
   "metadata": {},
   "outputs": [
    {
     "name": "stdout",
     "output_type": "stream",
     "text": [
      "vqe-itr2-FBP2_1024shots\n"
     ]
    }
   ],
   "source": [
    "shots = 1024\n",
    "execute_job_ref = qnx.start_execute_job(\n",
    "    circuits=ref_compiled_circuits,\n",
    "    name=f\"{ref_job_name}_{shots}shots\",\n",
    "    n_shots=[shots]* len(ref_compiled_circuits),\n",
    "    backend_config=config,\n",
    "    project=project,\n",
    ")\n",
    "\n",
    "print(execute_job_ref.annotations.name)"
   ]
  },
  {
   "cell_type": "code",
   "execution_count": 29,
   "metadata": {},
   "outputs": [
    {
     "data": {
      "text/html": [
       "<div>\n",
       "<style scoped>\n",
       "    .dataframe tbody tr th:only-of-type {\n",
       "        vertical-align: middle;\n",
       "    }\n",
       "\n",
       "    .dataframe tbody tr th {\n",
       "        vertical-align: top;\n",
       "    }\n",
       "\n",
       "    .dataframe thead th {\n",
       "        text-align: right;\n",
       "    }\n",
       "</style>\n",
       "<table border=\"1\" class=\"dataframe\">\n",
       "  <thead>\n",
       "    <tr style=\"text-align: right;\">\n",
       "      <th></th>\n",
       "      <th>name</th>\n",
       "      <th>description</th>\n",
       "      <th>created</th>\n",
       "      <th>modified</th>\n",
       "      <th>project</th>\n",
       "      <th>id</th>\n",
       "    </tr>\n",
       "  </thead>\n",
       "  <tbody>\n",
       "    <tr>\n",
       "      <th>0</th>\n",
       "      <td>vqe-itr2-FBP2_1024shots</td>\n",
       "      <td></td>\n",
       "      <td>2025-05-29 23:50:24.478298+00:00</td>\n",
       "      <td>2025-05-29 23:50:24.478298+00:00</td>\n",
       "      <td>VQE FBP nf 13579 Simu CX Half ZNE</td>\n",
       "      <td>439d0e02-bf51-4f20-adc2-b573393033c6</td>\n",
       "    </tr>\n",
       "    <tr>\n",
       "      <th>1</th>\n",
       "      <td>vqe-itr2-FBP2_1024shots</td>\n",
       "      <td></td>\n",
       "      <td>2025-05-29 23:50:24.478298+00:00</td>\n",
       "      <td>2025-05-29 23:50:24.478298+00:00</td>\n",
       "      <td>VQE FBP nf 13579 Simu CX Half ZNE</td>\n",
       "      <td>b7958d3c-2712-4f70-bfdd-abd19d007c5a</td>\n",
       "    </tr>\n",
       "    <tr>\n",
       "      <th>2</th>\n",
       "      <td>vqe-itr2-FBP2_1024shots</td>\n",
       "      <td></td>\n",
       "      <td>2025-05-29 23:50:24.478298+00:00</td>\n",
       "      <td>2025-05-29 23:50:24.478298+00:00</td>\n",
       "      <td>VQE FBP nf 13579 Simu CX Half ZNE</td>\n",
       "      <td>c4f6fdc9-be37-4cfe-91b2-b2cac0b289af</td>\n",
       "    </tr>\n",
       "    <tr>\n",
       "      <th>3</th>\n",
       "      <td>vqe-itr2-FBP2_1024shots</td>\n",
       "      <td></td>\n",
       "      <td>2025-05-29 23:50:24.478298+00:00</td>\n",
       "      <td>2025-05-29 23:50:24.478298+00:00</td>\n",
       "      <td>VQE FBP nf 13579 Simu CX Half ZNE</td>\n",
       "      <td>ff9dd304-bc51-4c36-8241-9abace8a06d9</td>\n",
       "    </tr>\n",
       "    <tr>\n",
       "      <th>4</th>\n",
       "      <td>vqe-itr2-FBP2_1024shots</td>\n",
       "      <td></td>\n",
       "      <td>2025-05-29 23:50:24.478298+00:00</td>\n",
       "      <td>2025-05-29 23:50:24.478298+00:00</td>\n",
       "      <td>VQE FBP nf 13579 Simu CX Half ZNE</td>\n",
       "      <td>67a1b5da-ffce-4436-b21f-f5463aa7997e</td>\n",
       "    </tr>\n",
       "    <tr>\n",
       "      <th>...</th>\n",
       "      <td>...</td>\n",
       "      <td>...</td>\n",
       "      <td>...</td>\n",
       "      <td>...</td>\n",
       "      <td>...</td>\n",
       "      <td>...</td>\n",
       "    </tr>\n",
       "    <tr>\n",
       "      <th>295</th>\n",
       "      <td>vqe-itr2-FBP2_1024shots</td>\n",
       "      <td></td>\n",
       "      <td>2025-05-29 23:50:24.478298+00:00</td>\n",
       "      <td>2025-05-29 23:50:24.478298+00:00</td>\n",
       "      <td>VQE FBP nf 13579 Simu CX Half ZNE</td>\n",
       "      <td>ff48150f-3293-4518-b0ed-24fa5e452a31</td>\n",
       "    </tr>\n",
       "    <tr>\n",
       "      <th>296</th>\n",
       "      <td>vqe-itr2-FBP2_1024shots</td>\n",
       "      <td></td>\n",
       "      <td>2025-05-29 23:50:24.478298+00:00</td>\n",
       "      <td>2025-05-29 23:50:24.478298+00:00</td>\n",
       "      <td>VQE FBP nf 13579 Simu CX Half ZNE</td>\n",
       "      <td>a47a8492-d5cb-46c5-904f-8e7458c0304e</td>\n",
       "    </tr>\n",
       "    <tr>\n",
       "      <th>297</th>\n",
       "      <td>vqe-itr2-FBP2_1024shots</td>\n",
       "      <td></td>\n",
       "      <td>2025-05-29 23:50:24.478298+00:00</td>\n",
       "      <td>2025-05-29 23:50:24.478298+00:00</td>\n",
       "      <td>VQE FBP nf 13579 Simu CX Half ZNE</td>\n",
       "      <td>aababd98-3457-49ac-b76c-b2e7366d4e81</td>\n",
       "    </tr>\n",
       "    <tr>\n",
       "      <th>298</th>\n",
       "      <td>vqe-itr2-FBP2_1024shots</td>\n",
       "      <td></td>\n",
       "      <td>2025-05-29 23:50:24.478298+00:00</td>\n",
       "      <td>2025-05-29 23:50:24.478298+00:00</td>\n",
       "      <td>VQE FBP nf 13579 Simu CX Half ZNE</td>\n",
       "      <td>4cbed3c1-8df0-4069-81a1-8173b22ed56f</td>\n",
       "    </tr>\n",
       "    <tr>\n",
       "      <th>299</th>\n",
       "      <td>vqe-itr2-FBP2_1024shots</td>\n",
       "      <td></td>\n",
       "      <td>2025-05-29 23:50:24.478298+00:00</td>\n",
       "      <td>2025-05-29 23:50:24.478298+00:00</td>\n",
       "      <td>VQE FBP nf 13579 Simu CX Half ZNE</td>\n",
       "      <td>ef2e3933-e5c6-448c-8f06-5c69461ead2c</td>\n",
       "    </tr>\n",
       "  </tbody>\n",
       "</table>\n",
       "<p>300 rows × 6 columns</p>\n",
       "</div>"
      ],
      "text/plain": [
       "                        name description                          created  \\\n",
       "0    vqe-itr2-FBP2_1024shots             2025-05-29 23:50:24.478298+00:00   \n",
       "1    vqe-itr2-FBP2_1024shots             2025-05-29 23:50:24.478298+00:00   \n",
       "2    vqe-itr2-FBP2_1024shots             2025-05-29 23:50:24.478298+00:00   \n",
       "3    vqe-itr2-FBP2_1024shots             2025-05-29 23:50:24.478298+00:00   \n",
       "4    vqe-itr2-FBP2_1024shots             2025-05-29 23:50:24.478298+00:00   \n",
       "..                       ...         ...                              ...   \n",
       "295  vqe-itr2-FBP2_1024shots             2025-05-29 23:50:24.478298+00:00   \n",
       "296  vqe-itr2-FBP2_1024shots             2025-05-29 23:50:24.478298+00:00   \n",
       "297  vqe-itr2-FBP2_1024shots             2025-05-29 23:50:24.478298+00:00   \n",
       "298  vqe-itr2-FBP2_1024shots             2025-05-29 23:50:24.478298+00:00   \n",
       "299  vqe-itr2-FBP2_1024shots             2025-05-29 23:50:24.478298+00:00   \n",
       "\n",
       "                            modified                            project  \\\n",
       "0   2025-05-29 23:50:24.478298+00:00  VQE FBP nf 13579 Simu CX Half ZNE   \n",
       "1   2025-05-29 23:50:24.478298+00:00  VQE FBP nf 13579 Simu CX Half ZNE   \n",
       "2   2025-05-29 23:50:24.478298+00:00  VQE FBP nf 13579 Simu CX Half ZNE   \n",
       "3   2025-05-29 23:50:24.478298+00:00  VQE FBP nf 13579 Simu CX Half ZNE   \n",
       "4   2025-05-29 23:50:24.478298+00:00  VQE FBP nf 13579 Simu CX Half ZNE   \n",
       "..                               ...                                ...   \n",
       "295 2025-05-29 23:50:24.478298+00:00  VQE FBP nf 13579 Simu CX Half ZNE   \n",
       "296 2025-05-29 23:50:24.478298+00:00  VQE FBP nf 13579 Simu CX Half ZNE   \n",
       "297 2025-05-29 23:50:24.478298+00:00  VQE FBP nf 13579 Simu CX Half ZNE   \n",
       "298 2025-05-29 23:50:24.478298+00:00  VQE FBP nf 13579 Simu CX Half ZNE   \n",
       "299 2025-05-29 23:50:24.478298+00:00  VQE FBP nf 13579 Simu CX Half ZNE   \n",
       "\n",
       "                                       id  \n",
       "0    439d0e02-bf51-4f20-adc2-b573393033c6  \n",
       "1    b7958d3c-2712-4f70-bfdd-abd19d007c5a  \n",
       "2    c4f6fdc9-be37-4cfe-91b2-b2cac0b289af  \n",
       "3    ff9dd304-bc51-4c36-8241-9abace8a06d9  \n",
       "4    67a1b5da-ffce-4436-b21f-f5463aa7997e  \n",
       "..                                    ...  \n",
       "295  ff48150f-3293-4518-b0ed-24fa5e452a31  \n",
       "296  a47a8492-d5cb-46c5-904f-8e7458c0304e  \n",
       "297  aababd98-3457-49ac-b76c-b2e7366d4e81  \n",
       "298  4cbed3c1-8df0-4069-81a1-8173b22ed56f  \n",
       "299  ef2e3933-e5c6-448c-8f06-5c69461ead2c  \n",
       "\n",
       "[300 rows x 6 columns]"
      ]
     },
     "execution_count": 29,
     "metadata": {},
     "output_type": "execute_result"
    }
   ],
   "source": [
    "# Retrieve a ExecutionResultRef for every Circuit that was run\n",
    "execute_job_result_refs = qnx.jobs.results(execute_job_ref)\n",
    "\n",
    "from pathlib import Path\n",
    "qnx.filesystem.save(\n",
    "    ref=execute_job_ref,\n",
    "    path=Path.cwd() / job_path / f\"job-exec-{execute_job_ref.annotations.name}\",\n",
    "    mkdir=True,\n",
    ")\n",
    "\n",
    "execute_job_result_refs.df()"
   ]
  },
  {
   "cell_type": "markdown",
   "metadata": {},
   "source": [
    "#### Data Processing for newer results"
   ]
  },
  {
   "cell_type": "code",
   "execution_count": 30,
   "metadata": {},
   "outputs": [
    {
     "data": {
      "text/html": [
       "<div>\n",
       "<style scoped>\n",
       "    .dataframe tbody tr th:only-of-type {\n",
       "        vertical-align: middle;\n",
       "    }\n",
       "\n",
       "    .dataframe tbody tr th {\n",
       "        vertical-align: top;\n",
       "    }\n",
       "\n",
       "    .dataframe thead th {\n",
       "        text-align: right;\n",
       "    }\n",
       "</style>\n",
       "<table border=\"1\" class=\"dataframe\">\n",
       "  <thead>\n",
       "    <tr style=\"text-align: right;\">\n",
       "      <th></th>\n",
       "      <th>name</th>\n",
       "      <th>description</th>\n",
       "      <th>created</th>\n",
       "      <th>modified</th>\n",
       "      <th>project</th>\n",
       "      <th>id</th>\n",
       "    </tr>\n",
       "  </thead>\n",
       "  <tbody>\n",
       "    <tr>\n",
       "      <th>0</th>\n",
       "      <td>vqe-itr2-FBP2_1024shots</td>\n",
       "      <td></td>\n",
       "      <td>2025-05-29 23:50:24.478298+00:00</td>\n",
       "      <td>2025-05-29 23:50:24.478298+00:00</td>\n",
       "      <td>VQE FBP nf 13579 Simu CX Half ZNE</td>\n",
       "      <td>439d0e02-bf51-4f20-adc2-b573393033c6</td>\n",
       "    </tr>\n",
       "    <tr>\n",
       "      <th>1</th>\n",
       "      <td>vqe-itr2-FBP2_1024shots</td>\n",
       "      <td></td>\n",
       "      <td>2025-05-29 23:50:24.478298+00:00</td>\n",
       "      <td>2025-05-29 23:50:24.478298+00:00</td>\n",
       "      <td>VQE FBP nf 13579 Simu CX Half ZNE</td>\n",
       "      <td>b7958d3c-2712-4f70-bfdd-abd19d007c5a</td>\n",
       "    </tr>\n",
       "    <tr>\n",
       "      <th>2</th>\n",
       "      <td>vqe-itr2-FBP2_1024shots</td>\n",
       "      <td></td>\n",
       "      <td>2025-05-29 23:50:24.478298+00:00</td>\n",
       "      <td>2025-05-29 23:50:24.478298+00:00</td>\n",
       "      <td>VQE FBP nf 13579 Simu CX Half ZNE</td>\n",
       "      <td>c4f6fdc9-be37-4cfe-91b2-b2cac0b289af</td>\n",
       "    </tr>\n",
       "    <tr>\n",
       "      <th>3</th>\n",
       "      <td>vqe-itr2-FBP2_1024shots</td>\n",
       "      <td></td>\n",
       "      <td>2025-05-29 23:50:24.478298+00:00</td>\n",
       "      <td>2025-05-29 23:50:24.478298+00:00</td>\n",
       "      <td>VQE FBP nf 13579 Simu CX Half ZNE</td>\n",
       "      <td>ff9dd304-bc51-4c36-8241-9abace8a06d9</td>\n",
       "    </tr>\n",
       "    <tr>\n",
       "      <th>4</th>\n",
       "      <td>vqe-itr2-FBP2_1024shots</td>\n",
       "      <td></td>\n",
       "      <td>2025-05-29 23:50:24.478298+00:00</td>\n",
       "      <td>2025-05-29 23:50:24.478298+00:00</td>\n",
       "      <td>VQE FBP nf 13579 Simu CX Half ZNE</td>\n",
       "      <td>67a1b5da-ffce-4436-b21f-f5463aa7997e</td>\n",
       "    </tr>\n",
       "    <tr>\n",
       "      <th>...</th>\n",
       "      <td>...</td>\n",
       "      <td>...</td>\n",
       "      <td>...</td>\n",
       "      <td>...</td>\n",
       "      <td>...</td>\n",
       "      <td>...</td>\n",
       "    </tr>\n",
       "    <tr>\n",
       "      <th>295</th>\n",
       "      <td>vqe-itr2-FBP2_1024shots</td>\n",
       "      <td></td>\n",
       "      <td>2025-05-29 23:50:24.478298+00:00</td>\n",
       "      <td>2025-05-29 23:50:24.478298+00:00</td>\n",
       "      <td>VQE FBP nf 13579 Simu CX Half ZNE</td>\n",
       "      <td>ff48150f-3293-4518-b0ed-24fa5e452a31</td>\n",
       "    </tr>\n",
       "    <tr>\n",
       "      <th>296</th>\n",
       "      <td>vqe-itr2-FBP2_1024shots</td>\n",
       "      <td></td>\n",
       "      <td>2025-05-29 23:50:24.478298+00:00</td>\n",
       "      <td>2025-05-29 23:50:24.478298+00:00</td>\n",
       "      <td>VQE FBP nf 13579 Simu CX Half ZNE</td>\n",
       "      <td>a47a8492-d5cb-46c5-904f-8e7458c0304e</td>\n",
       "    </tr>\n",
       "    <tr>\n",
       "      <th>297</th>\n",
       "      <td>vqe-itr2-FBP2_1024shots</td>\n",
       "      <td></td>\n",
       "      <td>2025-05-29 23:50:24.478298+00:00</td>\n",
       "      <td>2025-05-29 23:50:24.478298+00:00</td>\n",
       "      <td>VQE FBP nf 13579 Simu CX Half ZNE</td>\n",
       "      <td>aababd98-3457-49ac-b76c-b2e7366d4e81</td>\n",
       "    </tr>\n",
       "    <tr>\n",
       "      <th>298</th>\n",
       "      <td>vqe-itr2-FBP2_1024shots</td>\n",
       "      <td></td>\n",
       "      <td>2025-05-29 23:50:24.478298+00:00</td>\n",
       "      <td>2025-05-29 23:50:24.478298+00:00</td>\n",
       "      <td>VQE FBP nf 13579 Simu CX Half ZNE</td>\n",
       "      <td>4cbed3c1-8df0-4069-81a1-8173b22ed56f</td>\n",
       "    </tr>\n",
       "    <tr>\n",
       "      <th>299</th>\n",
       "      <td>vqe-itr2-FBP2_1024shots</td>\n",
       "      <td></td>\n",
       "      <td>2025-05-29 23:50:24.478298+00:00</td>\n",
       "      <td>2025-05-29 23:50:24.478298+00:00</td>\n",
       "      <td>VQE FBP nf 13579 Simu CX Half ZNE</td>\n",
       "      <td>ef2e3933-e5c6-448c-8f06-5c69461ead2c</td>\n",
       "    </tr>\n",
       "  </tbody>\n",
       "</table>\n",
       "<p>300 rows × 6 columns</p>\n",
       "</div>"
      ],
      "text/plain": [
       "                        name description                          created  \\\n",
       "0    vqe-itr2-FBP2_1024shots             2025-05-29 23:50:24.478298+00:00   \n",
       "1    vqe-itr2-FBP2_1024shots             2025-05-29 23:50:24.478298+00:00   \n",
       "2    vqe-itr2-FBP2_1024shots             2025-05-29 23:50:24.478298+00:00   \n",
       "3    vqe-itr2-FBP2_1024shots             2025-05-29 23:50:24.478298+00:00   \n",
       "4    vqe-itr2-FBP2_1024shots             2025-05-29 23:50:24.478298+00:00   \n",
       "..                       ...         ...                              ...   \n",
       "295  vqe-itr2-FBP2_1024shots             2025-05-29 23:50:24.478298+00:00   \n",
       "296  vqe-itr2-FBP2_1024shots             2025-05-29 23:50:24.478298+00:00   \n",
       "297  vqe-itr2-FBP2_1024shots             2025-05-29 23:50:24.478298+00:00   \n",
       "298  vqe-itr2-FBP2_1024shots             2025-05-29 23:50:24.478298+00:00   \n",
       "299  vqe-itr2-FBP2_1024shots             2025-05-29 23:50:24.478298+00:00   \n",
       "\n",
       "                            modified                            project  \\\n",
       "0   2025-05-29 23:50:24.478298+00:00  VQE FBP nf 13579 Simu CX Half ZNE   \n",
       "1   2025-05-29 23:50:24.478298+00:00  VQE FBP nf 13579 Simu CX Half ZNE   \n",
       "2   2025-05-29 23:50:24.478298+00:00  VQE FBP nf 13579 Simu CX Half ZNE   \n",
       "3   2025-05-29 23:50:24.478298+00:00  VQE FBP nf 13579 Simu CX Half ZNE   \n",
       "4   2025-05-29 23:50:24.478298+00:00  VQE FBP nf 13579 Simu CX Half ZNE   \n",
       "..                               ...                                ...   \n",
       "295 2025-05-29 23:50:24.478298+00:00  VQE FBP nf 13579 Simu CX Half ZNE   \n",
       "296 2025-05-29 23:50:24.478298+00:00  VQE FBP nf 13579 Simu CX Half ZNE   \n",
       "297 2025-05-29 23:50:24.478298+00:00  VQE FBP nf 13579 Simu CX Half ZNE   \n",
       "298 2025-05-29 23:50:24.478298+00:00  VQE FBP nf 13579 Simu CX Half ZNE   \n",
       "299 2025-05-29 23:50:24.478298+00:00  VQE FBP nf 13579 Simu CX Half ZNE   \n",
       "\n",
       "                                       id  \n",
       "0    439d0e02-bf51-4f20-adc2-b573393033c6  \n",
       "1    b7958d3c-2712-4f70-bfdd-abd19d007c5a  \n",
       "2    c4f6fdc9-be37-4cfe-91b2-b2cac0b289af  \n",
       "3    ff9dd304-bc51-4c36-8241-9abace8a06d9  \n",
       "4    67a1b5da-ffce-4436-b21f-f5463aa7997e  \n",
       "..                                    ...  \n",
       "295  ff48150f-3293-4518-b0ed-24fa5e452a31  \n",
       "296  a47a8492-d5cb-46c5-904f-8e7458c0304e  \n",
       "297  aababd98-3457-49ac-b76c-b2e7366d4e81  \n",
       "298  4cbed3c1-8df0-4069-81a1-8173b22ed56f  \n",
       "299  ef2e3933-e5c6-448c-8f06-5c69461ead2c  \n",
       "\n",
       "[300 rows x 6 columns]"
      ]
     },
     "execution_count": 30,
     "metadata": {},
     "output_type": "execute_result"
    }
   ],
   "source": [
    "from pathlib import Path\n",
    "\n",
    "exec_job_name = f\"vqe-itr{selected_iter}-FBP2_{shots}shots\"\n",
    "execute_job_ref = qnx.filesystem.load(\n",
    "    path=Path.cwd() / job_path / f\"job-exec-{exec_job_name}\",\n",
    ")\n",
    "\n",
    "qtm_pauli_arr = np.load(f\"{job_path}/paulikey-{exec_job_name.split('_')[0]}.npy\")\n",
    "execute_job_result_refs = qnx.jobs.results(execute_job_ref)\n",
    "execute_job_result_refs.df()"
   ]
  },
  {
   "cell_type": "code",
   "execution_count": null,
   "metadata": {},
   "outputs": [
    {
     "data": {
      "text/plain": [
       "(60, 60, 60)"
      ]
     },
     "execution_count": 31,
     "metadata": {},
     "output_type": "execute_result"
    }
   ],
   "source": [
    "qtm_results = { str(nf):{} for nf in noise_factors} ## defined in earlier data processing\n",
    "for ps, res_ref in zip(qtm_pauli_arr, execute_job_result_refs):\n",
    "    pauli_str, nf = ps.split('-')\n",
    "    qtm_results[nf][pauli_str] = freq_dict_to_prob_array( res_ref.download_result().get_counts(), len(pauli_str), endien_switch = False)\n",
    "# np.array(qtm_results['1'][qtm_pauli_arr[0].split('-')[0]])\n",
    "len(qtm_results['1']),len(qtm_results['3']), len(qtm_results['5'])"
   ]
  },
  {
   "cell_type": "code",
   "execution_count": 38,
   "metadata": {},
   "outputs": [
    {
     "name": "stdout",
     "output_type": "stream",
     "text": [
      "\n",
      "Noise factor: 1\n",
      "  Estimation -986.7495355773109 +- 0.0037401470611526408, Error to qiskit 0.011303256197379596, Error to Partial FCI 0.017811273812753825\n",
      "\n",
      "Noise factor: 3\n",
      "  Estimation -986.7348587847246 +- 0.004224183886778091, Error to qiskit 0.0259800487837083, Error to Partial FCI 0.03248806639908253\n",
      "\n",
      "Noise factor: 5\n",
      "  Estimation -986.7256429789732 +- 0.0048486814381407005, Error to qiskit 0.03519585453511809, Error to Partial FCI 0.041703872150492316\n",
      "\n",
      "Noise factor: 7\n",
      "  Estimation -986.7095472955184 +- 0.005222521019222005, Error to qiskit 0.05129153798986863, Error to Partial FCI 0.05779955560524286\n",
      "\n",
      "Noise factor: 9\n",
      "  Estimation -986.707827951741 +- 0.0055442095499970085, Error to qiskit 0.053010881767249884, Error to Partial FCI 0.05951889938262411\n"
     ]
    }
   ],
   "source": [
    "qtm_exps = []\n",
    "qtm_vars = []\n",
    "# noise_factors = [1,3,5]\n",
    "for nf in noise_factors:\n",
    "    print(f\"\\nNoise factor: {nf}\")\n",
    "    final_exp_qtmh1, final_var_qtmh1 = est_exp_sampler(pauli_dict_partial, coeff_dict_partial, qtm_results[str(nf)], return_var=True, num_shots=1024) ## compute the expectation value and sum them up\n",
    "    qtm_exps.append(final_exp_qtmh1)\n",
    "    qtm_vars.append(final_var_qtmh1)\n",
    "    print(f\"  Estimation {final_exp_qtmh1} +- {np.sqrt(final_var_qtmh1)}, Error to qiskit {abs(theo_energy - final_exp_qtmh1)}, Error to Partial FCI {abs(final_exp_qtmh1 - partial_eigvals[0])}\")"
   ]
  },
  {
   "cell_type": "code",
   "execution_count": 40,
   "metadata": {},
   "outputs": [
    {
     "data": {
      "text/plain": [
       "[1.3988700039048736e-05,\n",
       " 1.7843729509315666e-05,\n",
       " 2.350971168857017e-05,\n",
       " 2.727472579621565e-05,\n",
       " 3.073825953427803e-05]"
      ]
     },
     "execution_count": 40,
     "metadata": {},
     "output_type": "execute_result"
    }
   ],
   "source": [
    "np.set_printoptions(suppress=True)\n",
    "qtm_vars"
   ]
  },
  {
   "cell_type": "code",
   "execution_count": null,
   "metadata": {},
   "outputs": [
    {
     "name": "stdout",
     "output_type": "stream",
     "text": [
      "R^2 value: 0.9594560412536409\n"
     ]
    },
    {
     "data": {
      "image/png": "[encoded data removed]",
      "text/plain": [
       "<Figure size 800x600 with 1 Axes>"
      ]
     },
     "metadata": {},
     "output_type": "display_data"
    }
   ],
   "source": [
    "from nwq2qis import *\n",
    "noise_factors_half = [1,2,3,4,5]\n",
    "ex_exp, popt = extrapolate_to_zero_noise(noise_factors_half, qtm_exps, extrapolation_method='linear', \n",
    "                                   plot=True, plot_title=f\"Iteration {selected_iter+1}, ZNE\",\n",
    "                                   plot_horizontal_line=theo_energy,\n",
    "                                   plot_horizontal_line_legend=\"Noiseless value\")\n",
    "np.save(f\"{job_path}/zneexp-{exec_job_name}.npy\", [ex_exp]+list(qtm_exps))\n",
    "np.save(f\"{job_path}/znepopt-{exec_job_name}.npy\", popt)"
   ]
  },
  {
   "cell_type": "code",
   "execution_count": 46,
   "metadata": {},
   "outputs": [
    {
     "data": {
      "text/plain": [
       "{'intercept': -986.7581005397574,\n",
       " 'intercept_se': 0.004279791543476959,\n",
       " 'uncertainty': 0.013620206784925083,\n",
       " 'CI': (-986.7717207465423, -986.7444803329724)}"
      ]
     },
     "execution_count": 46,
     "metadata": {},
     "output_type": "execute_result"
    }
   ],
   "source": [
    "intercept_with_uncertainty(noise_factors_half, qtm_exps, alpha=0.05)"
   ]
  },
  {
   "cell_type": "code",
   "execution_count": 47,
   "metadata": {},
   "outputs": [
    {
     "data": {
      "text/plain": [
       "([-986.7495355773109,\n",
       "  -986.7348587847246,\n",
       "  -986.7256429789732,\n",
       "  -986.7095472955184,\n",
       "  -986.707827951741],\n",
       " 0.0027388737769342697)"
      ]
     },
     "execution_count": 47,
     "metadata": {},
     "output_type": "execute_result"
    }
   ],
   "source": [
    "qtm_exps, abs(ex_exp-theo_energy)"
   ]
  },
  {
   "cell_type": "code",
   "execution_count": 48,
   "metadata": {},
   "outputs": [
    {
     "data": {
      "text/plain": [
       "(-986.7580999597313,\n",
       " -986.7608388335083,\n",
       " -986.7673468511236,\n",
       " -986.7732452584668)"
      ]
     },
     "execution_count": 48,
     "metadata": {},
     "output_type": "execute_result"
    }
   ],
   "source": [
    "ex_exp, theo_energy, partial_eigvals[0], true_eigvals[0]"
   ]
  },
  {
   "cell_type": "code",
   "execution_count": 49,
   "metadata": {},
   "outputs": [
    {
     "data": {
      "text/plain": [
       "(0.009246891392308498, 0.006508017615374229)"
      ]
     },
     "execution_count": 49,
     "metadata": {},
     "output_type": "execute_result"
    }
   ],
   "source": [
    "abs(ex_exp - partial_eigvals[0]),abs(theo_energy - partial_eigvals[0])"
   ]
  },
  {
   "cell_type": "code",
   "execution_count": 50,
   "metadata": {},
   "outputs": [
    {
     "data": {
      "text/plain": [
       "(0.015145298735433244, 0.012406424958498974)"
      ]
     },
     "execution_count": 50,
     "metadata": {},
     "output_type": "execute_result"
    }
   ],
   "source": [
    "abs(ex_exp - true_eigvals[0]),abs(theo_energy - true_eigvals[0])"
   ]
  },
  {
   "cell_type": "code",
   "execution_count": 51,
   "metadata": {},
   "outputs": [
    {
     "data": {
      "text/plain": [
       "(0.12674525846682627, -0.045954741533250854)"
      ]
     },
     "execution_count": 51,
     "metadata": {},
     "output_type": "execute_result"
    }
   ],
   "source": [
    "-986.6465 - true_eigvals[0], -986.8192 - true_eigvals[0]"
   ]
  },
  {
   "cell_type": "code",
   "execution_count": null,
   "metadata": {},
   "outputs": [],
   "source": []
  },
  {
   "cell_type": "code",
   "execution_count": null,
   "metadata": {},
   "outputs": [],
   "source": []
  }
 ],
 "metadata": {
  "kernelspec": {
   "display_name": "qnew",
   "language": "python",
   "name": "python3"
  },
  "language_info": {
   "codemirror_mode": {
    "name": "ipython",
    "version": 3
   },
   "file_extension": ".py",
   "mimetype": "text/x-python",
   "name": "python",
   "nbconvert_exporter": "python",
   "pygments_lexer": "ipython3",
   "version": "3.12.4"
  }
 },
 "nbformat": 4,
 "nbformat_minor": 2
}
