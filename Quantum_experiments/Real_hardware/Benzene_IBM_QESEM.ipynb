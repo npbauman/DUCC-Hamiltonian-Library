{
 "cells": [
  {
   "cell_type": "code",
   "execution_count": null,
   "metadata": {},
   "outputs": [
    {
     "name": "stdout",
     "output_type": "stream",
     "text": [
      "  - Number of electrons: 6\n",
      "  - Number of orbitals: 6\n",
      "  - DUCC: 3\n",
      "  - Target molecule: Benzene66DUCC3\n",
      "  - Input file: Input_Data/bztz66ducc3.hamil\n",
      "0:  IIXYIIIIXXII   0.013488393702175472\n",
      "1:  IXZZYIIXZZXI   0.00906966441732493\n",
      "2:  IXYYYIIIIIII   0.006903987497963726\n",
      "3:  IIIIIIIXYYYI   0.0046278371532935125\n",
      "4:  IIXZYIIXZXII   0.003211208185632586\n",
      "5:  IXZYIIIIYZYI   0.0016633754947577017\n",
      "6:  IXZYIIIYZYII   0.0009027892714073005\n",
      "7:  IIXZYIIIXZXI   5.970698782675754e-05\n",
      "8:  XZZZZYXZZZZX   4.01313902500533e-05\n",
      "9:  IXZZZYIXZZZX   1.9668743874490247e-05\n",
      "10:  IIXZZYIIYZZY   8.206700982782422e-06\n",
      "11:  XZZZYIYZZZYI   6.411620262269935e-06\n",
      "12:  XZZYIIXZZXII   4.660086062813207e-06\n",
      "13:  IXZZXIIIXYII   2.523686958966209e-06\n",
      "14:  IIXXIIIYZZXI   1.889177326575009e-06\n",
      "15:  IYZZZYIXZZZY   1.8120476568128652e-06\n",
      "16:  IXZZZYIYZZZY   1.5580926060465572e-06\n",
      "17:  IIYZZYIIYZZX   1.2352656995062716e-06\n"
     ]
    }
   ],
   "source": [
    "import sys\n",
    "sys.path.insert(0, './src/')\n",
    "\n",
    "import nwq2qis\n",
    "from nwq2qis import *\n",
    "\n",
    "##\n",
    "import numpy as np\n",
    "import qiskit\n",
    "import qiskit.quantum_info as qi\n",
    "from qiskit_nature.second_q.mappers import JordanWignerMapper, InterleavedQubitMapper\n",
    "from _gcim_utilis import parse_hamiltonian\n",
    "import scipy.sparse.linalg as ssl\n",
    "import scipy.linalg as sl\n",
    "from qiskit_algorithms.optimizers import COBYLA, SPSA\n",
    "from qiskit import transpile\n",
    "from qiskit_ibm_runtime import QiskitRuntimeService\n",
    "from qiskit.transpiler.preset_passmanagers import generate_preset_pass_manager\n",
    "from qiskit_ibm_runtime import EstimatorV2 as Estimator\n",
    "import json\n",
    "from qiskit_ibm_runtime import RuntimeEncoder\n",
    "from qiskit.primitives import StatevectorEstimator\n",
    "##\n",
    "\n",
    "n_orb = 6\n",
    "n_a = 3\n",
    "n_b = 3\n",
    "ducc_lvl = 3\n",
    "results_file = '../Qubit-ADAPT-VQE/printout_qubit_bztz66ducc3.txt'\n",
    "output_folder = 'Example_Outputs/Benzene'  ## Please create this folder before you run the code\n",
    "noise_factors = [1,3,5]\n",
    "selected_iter = 1\n",
    "FIRST_NTERMS = 39\n",
    "mol_name =  f'Benzene{n_a+n_b}{n_orb}DUCC{ducc_lvl}'\n",
    "file_path = \"../Benzene/cc-pVTZ/FrozenCoreCCSD_6Elec_6Orbs/DUCC3/benzene-FC-CCSD-6Electrons-6Orbitals.out-xacc\"\n",
    "\n",
    "print(\"  - Number of electrons:\", n_a + n_b)\n",
    "print(\"  - Number of orbitals:\", n_orb)\n",
    "print(\"  - DUCC:\", ducc_lvl)\n",
    "print(\"  - Target molecule:\", mol_name)\n",
    "print(\"  - Input file:\", file_path)\n",
    "\n",
    "fermi_ham = parse_hamiltonian(file_path, n_orb, interleaved=False, return_type = 'qiskit')\n",
    "nwqsim_dict = extract_nwqsim_output(results_file, inverse_pauli=False)\n",
    "\n",
    "mapper = JordanWignerMapper()\n",
    "qubit_op = mapper.map(fermi_ham)\n",
    "\n",
    "true_eigvals = ssl.eigsh(qubit_op.to_matrix(sparse=True),2,which='SA')[0]\n",
    "\n",
    "errors = np.abs( np.array(nwqsim_dict['energies']) - true_eigvals[0] )\n",
    "for i, error in enumerate(errors):\n",
    "    print(f\"{i}:  {str(nwqsim_dict['operators'][i].paulis[0])}   {error}\")"
   ]
  },
  {
   "cell_type": "markdown",
   "metadata": {},
   "source": [
    "## CHOP Hamiltonian"
   ]
  },
  {
   "cell_type": "code",
   "execution_count": 2,
   "metadata": {},
   "outputs": [
    {
     "name": "stdout",
     "output_type": "stream",
     "text": [
      "0.0011622583164849999\n",
      "Chopped/unchopped # of Pauli strings  = 143/371\n"
     ]
    }
   ],
   "source": [
    "## remove values that too small\n",
    "np.set_printoptions(suppress=True)\n",
    "shot_factor = 5000 ## Seem like 5000 is a sweet spot for accuracy\n",
    "\n",
    "## Compute sum of coefficients\n",
    "pas, cas = pauli_coeff_separation(qubit_op)\n",
    "ck_abs = np.abs(cas[1:]) ## 1st term is too large\n",
    "ck_sum = np.linalg.norm(ck_abs, ord=1)\n",
    "chop_thresh =  ck_sum / shot_factor\n",
    "print(chop_thresh)\n",
    "# chop_thresh = 1e-5\n",
    "qubit_op_chopped = qubit_op.chop(chop_thresh)\n",
    "print(f\"Chopped/unchopped # of Pauli strings  = {len(qubit_op_chopped)}/{len(qubit_op)}\")\n",
    "\n",
    "pas_ch, cas_ch = pauli_coeff_separation(qubit_op_chopped)"
   ]
  },
  {
   "cell_type": "code",
   "execution_count": null,
   "metadata": {},
   "outputs": [
    {
     "data": {
      "text/plain": [
       "True"
      ]
     },
     "execution_count": 3,
     "metadata": {},
     "output_type": "execute_result"
    }
   ],
   "source": [
    "pauli_dict, coeff_dict = grouped_pauli_in_dict(qubit_op_chopped, use_qwc=True)\n",
    "\n",
    "\n",
    "ham_dict_ch = { pp:cc for pp,cc in zip(pas_ch, cas_ch)}\n",
    "\n",
    "test = SparsePauliOp(list(ham_dict_ch.keys()), list(ham_dict_ch.values()) )\n",
    "test.equiv(qubit_op_chopped)"
   ]
  },
  {
   "cell_type": "markdown",
   "metadata": {},
   "source": [
    "## Optimize Parameters"
   ]
  },
  {
   "cell_type": "code",
   "execution_count": null,
   "metadata": {},
   "outputs": [
    {
     "name": "stdout",
     "output_type": "stream",
     "text": [
      "\n",
      "   Normal return from subroutine COBYLA\n",
      "\n",
      "   NFVALS =   36   F =-2.317783E+02    MAXCV = 0.000000E+00\n",
      "   X =-6.274584E-01  -6.273679E-01\n",
      "OrderedDict({'u': 22, 'cx': 20, 'barrier': 1}) -231.77831320185896 -231.77871248412274\n"
     ]
    },
    {
     "data": {
      "text/plain": [
       "array([-0.62745842, -0.62736795])"
      ]
     },
     "execution_count": 4,
     "metadata": {},
     "output_type": "execute_result"
    }
   ],
   "source": [
    "import nwq2qis\n",
    "import importlib\n",
    "importlib.reload(nwq2qis)\n",
    "from nwq2qis import *\n",
    "\n",
    "vqe_circ, symbol_params = create_vqe_circ(nwqsim_dict['operators'][:selected_iter+1], \n",
    "                                            n_orb*2, n_a+n_b, interleaved=False, half_barriar=True)\n",
    "\n",
    "## Optimize parameters\n",
    "def cost_func(parameters):\n",
    "    \"\"\"Compute the energy for given parameters.\"\"\"\n",
    "    estimator = StatevectorEstimator()\n",
    "    job = estimator.run([(vqe_circ, qubit_op_chopped, parameters)])\n",
    "    return float( job.result()[0].data.evs )\n",
    "\n",
    "num_vars = len(nwqsim_dict['parameters'][:selected_iter+1])\n",
    "optimizer = COBYLA(maxiter=5000, disp=True)\n",
    "result = optimizer.minimize(cost_func, nwqsim_dict['parameters'][:selected_iter+1])\n",
    "\n",
    "pre_opt_params = result.x\n",
    "\n",
    "basis_gates = ['u', 'cx']\n",
    "trans_vqe_opt = transpile(vqe_circ.assign_parameters(pre_opt_params), basis_gates=basis_gates, \n",
    "                          optimization_level=2, seed_transpiler=7)\n",
    "print(trans_vqe_opt.count_ops(), cost_func(pre_opt_params), nwqsim_dict['energies'][selected_iter])\n",
    "\n",
    "np.save(f\"{output_folder}/optparam-vqe-itr{selected_iter}.npy\", pre_opt_params)\n",
    "pre_opt_params"
   ]
  },
  {
   "cell_type": "code",
   "execution_count": 6,
   "metadata": {},
   "outputs": [
    {
     "data": {
      "text/plain": [
       "(OrderedDict([('u', 22), ('cx', 20), ('barrier', 1)]), 26)"
      ]
     },
     "execution_count": 6,
     "metadata": {},
     "output_type": "execute_result"
    }
   ],
   "source": [
    "trans_vqe_opt.count_ops(), trans_vqe_opt.depth()"
   ]
  },
  {
   "cell_type": "markdown",
   "metadata": {},
   "source": [
    "## Choose First 39 groups that has the largest sum of coefficients"
   ]
  },
  {
   "cell_type": "code",
   "execution_count": 8,
   "metadata": {},
   "outputs": [
    {
     "name": "stdout",
     "output_type": "stream",
     "text": [
      "Selected Pauli strings: 39\n"
     ]
    },
    {
     "data": {
      "text/plain": [
       "(array([-231.78734765, -231.63270941]), 0.00043449542994267176)"
      ]
     },
     "execution_count": 8,
     "metadata": {},
     "output_type": "execute_result"
    }
   ],
   "source": [
    "import nwq2qis\n",
    "import importlib\n",
    "importlib.reload(nwq2qis)\n",
    "from nwq2qis import *\n",
    "\n",
    "pauli_dict, coeff_dict = grouped_pauli_in_dict(qubit_op_chopped, use_qwc=True)\n",
    "## Select first N Groups depends on the sum of abs of coefficients\n",
    "coeffs_selected = dict_sort_and_select(coeff_dict,FIRST_NTERMS)\n",
    "pauli_selected = {k:v for k,v in pauli_dict.items() if k in coeffs_selected.keys()}\n",
    "## Construct Partial Hamiltonian\n",
    "counter = 0\n",
    "partial_paulis = []\n",
    "partial_coeffs = []\n",
    "partial_hamop = None\n",
    "for k in pauli_selected.keys():\n",
    "    sub_ham = qiskit.quantum_info.SparsePauliOp(pauli_selected[k], coeffs_selected[k])\n",
    "    if partial_hamop is None:\n",
    "        partial_hamop = sub_ham\n",
    "    else:\n",
    "        partial_hamop += sub_ham\n",
    "    counter += 1\n",
    "## Eigenvalues\n",
    "partial_eigvals = ssl.eigsh(partial_hamop.to_matrix(sparse=True),2,which='SA')[0]\n",
    "\n",
    "print(\"Selected Pauli strings:\", len(pauli_selected))\n",
    "partial_eigvals, abs(partial_eigvals[0] - true_eigvals[0])"
   ]
  },
  {
   "cell_type": "markdown",
   "metadata": {},
   "source": [
    "### Group Pauli Operators and Generate Circuits"
   ]
  },
  {
   "cell_type": "code",
   "execution_count": 9,
   "metadata": {},
   "outputs": [
    {
     "name": "stdout",
     "output_type": "stream",
     "text": [
      "Number of commuting groups: 39\n",
      "-231.77831320185888 -231.7873476531096 0.009034451250727216\n"
     ]
    }
   ],
   "source": [
    "import nwq2qis\n",
    "import importlib\n",
    "importlib.reload(nwq2qis)\n",
    "from nwq2qis import *\n",
    "\n",
    "pauli_dict_partial, coeff_dict_partial = grouped_pauli_in_dict(partial_hamop, use_qwc=True) ## grouping paulis in the Hamiltonian and separate Pauli strings and Coefficients\n",
    "circ_dict = commuting_circs(list(pauli_dict_partial.keys()), trans_vqe_opt, add_measure = True, \n",
    "                            noise_factors=noise_factors, inverse_pauli = False, noise_type='half') ## Form circuits for each commuting group\n",
    "circ_dict_nomeasure = commuting_circs(list(pauli_dict_partial.keys()), trans_vqe_opt, add_measure = False, \n",
    "                            noise_factors=noise_factors, inverse_pauli = False, noise_type='half') ## Form circuits for each commuting group\n",
    "print(\"Number of commuting groups:\",len(list(pauli_dict_partial.keys())))\n",
    "# print(f\"Total number of cx gates: {trans_vqe_opt.count_ops()['cx']*len(list(pauli_dict_partial.keys()))}\")\n",
    "\n",
    "## Exact Solutions\n",
    "theo_state = qi.Statevector.from_instruction(vqe_circ.assign_parameters(pre_opt_params)) ## exact state\n",
    "theo_energy = theo_state.expectation_value(partial_hamop).real\n",
    "print(theo_energy, partial_eigvals[0], abs(theo_energy - partial_eigvals[0]))"
   ]
  },
  {
   "cell_type": "markdown",
   "metadata": {},
   "source": [
    "## Qiskit Estimator"
   ]
  },
  {
   "cell_type": "code",
   "execution_count": 10,
   "metadata": {},
   "outputs": [
    {
     "data": {
      "text/plain": [
       "(-231.77831320185933,\n",
       " -231.77831319814783,\n",
       " -0.00946894668021514,\n",
       " -0.00946895039172091,\n",
       " 0.009069664416813339)"
      ]
     },
     "execution_count": 10,
     "metadata": {},
     "output_type": "execute_result"
    }
   ],
   "source": [
    "from qiskit.primitives import StatevectorEstimator\n",
    "estimator = StatevectorEstimator()\n",
    "job = estimator.run([(trans_vqe_opt, partial_hamop)])\n",
    "job_pre = estimator.run([(trans_vqe_opt, partial_hamop)], precision=1e-8)\n",
    "float( job.result()[0].data.evs ), float( job_pre.result()[0].data.evs ), true_eigvals[0]-float( job.result()[0].data.evs ), true_eigvals[0]-float( job_pre.result()[0].data.evs ), errors[selected_iter]"
   ]
  },
  {
   "cell_type": "code",
   "execution_count": null,
   "metadata": {},
   "outputs": [
    {
     "name": "stdout",
     "output_type": "stream",
     "text": [
      "TZChop_Outputs_QESEM/itr1_qasm\n"
     ]
    },
    {
     "data": {
      "text/plain": [
       "OrderedDict([('u', 22), ('cx', 20), ('barrier', 1)])"
      ]
     },
     "execution_count": 11,
     "metadata": {},
     "output_type": "execute_result"
    }
   ],
   "source": [
    "trans_vqe_opt.count_ops()"
   ]
  },
  {
   "cell_type": "markdown",
   "metadata": {},
   "source": [
    "## QESEM"
   ]
  },
  {
   "cell_type": "code",
   "execution_count": 12,
   "metadata": {},
   "outputs": [
    {
     "data": {
      "text/plain": [
       "-231.77831320185933"
      ]
     },
     "execution_count": 12,
     "metadata": {},
     "output_type": "execute_result"
    }
   ],
   "source": [
    "exp_obs = partial_hamop\n",
    "state_prep_circ = trans_vqe_opt\n",
    "\n",
    "from qiskit.primitives import StatevectorEstimator\n",
    "estimator = StatevectorEstimator()\n",
    "rt_exp = estimator.run([(state_prep_circ, exp_obs)]).result()[0].data.evs\n",
    "float( rt_exp)"
   ]
  },
  {
   "cell_type": "code",
   "execution_count": null,
   "metadata": {},
   "outputs": [
    {
     "name": "stdout",
     "output_type": "stream",
     "text": [
      "[<IBMBackend('ibm_kingston')>, <IBMBackend('ibm_marrakesh')>, <IBMBackend('ibm_aachen')>, <IBMBackend('ibm_brisbane')>, <IBMBackend('ibm_brussels')>, <IBMBackend('ibm_fez')>, <IBMBackend('ibm_sherbrooke')>, <IBMBackend('ibm_strasbourg')>, <IBMBackend('ibm_torino')>]\n",
      "ibm_marrakesh\n"
     ]
    }
   ],
   "source": [
    "from qiskit_ibm_runtime import QiskitRuntimeService\n",
    "service = QiskitRuntimeService(\n",
    "    channel='ibm_quantum',\n",
    "    instance='',\n",
    "    token=''\n",
    ")\n",
    "print(service.backends())\n",
    "backend = service.backend(\"ibm_marrakesh\")\n",
    "print(backend.name)"
   ]
  },
  {
   "cell_type": "code",
   "execution_count": 14,
   "metadata": {},
   "outputs": [
    {
     "name": "stdout",
     "output_type": "stream",
     "text": [
      "[QiskitFunction(qedma/qesem), QiskitFunction(ibm/circuit-function)]\n"
     ]
    }
   ],
   "source": [
    "from qiskit_ibm_catalog import QiskitFunctionsCatalog\n",
    "catalog = QiskitFunctionsCatalog()\n",
    "print(catalog.list())\n",
    "qesem_function = catalog.load(\"qedma/qesem\")"
   ]
  },
  {
   "cell_type": "markdown",
   "metadata": {},
   "source": [
    "#### Estimate running time"
   ]
  },
  {
   "cell_type": "markdown",
   "metadata": {},
   "source": [
    "#### Empirical"
   ]
  },
  {
   "cell_type": "code",
   "execution_count": null,
   "metadata": {},
   "outputs": [
    {
     "name": "stdout",
     "output_type": "stream",
     "text": [
      "Time estimation\n",
      ">>> Job ID: d860acca-d113-45b9-906b-359a30948dcd\n",
      ">>> Job Status: QUEUED\n"
     ]
    }
   ],
   "source": [
    "time_estimation_job = qesem_function.run(\n",
    "    pubs=[(state_prep_circ, [exp_obs])],\n",
    "    options={\n",
    "        \"default_precision\": 0.02, \n",
    "        \"max_execution_time\": 300, \n",
    "        \"transpilation_level\": 1,\n",
    "        \"execution_mode\": \"batch\",  ## \"session\" / \"batch\", when batch, QPU is released during classical computation\n",
    "        \"estimate_time_only\": \"empirical\",\n",
    "    },\n",
    "    instance='',\n",
    "    backend_name=backend.name,  # E.g. \"ibm_brisbane\"\n",
    ")\n",
    "\n",
    "print(\"Time estimation\")\n",
    "print(f\">>> Job ID: {time_estimation_job.job_id}\")\n",
    "print(f\">>> Job Status: {time_estimation_job.status()}\")"
   ]
  },
  {
   "cell_type": "code",
   "execution_count": 22,
   "metadata": {},
   "outputs": [
    {
     "data": {
      "text/plain": [
       "'DONE'"
      ]
     },
     "execution_count": 22,
     "metadata": {},
     "output_type": "execute_result"
    }
   ],
   "source": [
    "time_estimation_job = catalog.get_job_by_id(\"d860acca-d113-45b9-906b-359a30948dcd\")\n",
    "time_estimation_job.status()"
   ]
  },
  {
   "cell_type": "code",
   "execution_count": 23,
   "metadata": {},
   "outputs": [
    {
     "data": {
      "text/plain": [
       "PrimitiveResult([PubResult(data=DataBin(), metadata={'time_estimation_sec': 2100})], metadata={})"
      ]
     },
     "execution_count": 23,
     "metadata": {},
     "output_type": "execute_result"
    }
   ],
   "source": [
    "time_estimate_result = time_estimation_job.result()\n",
    "time_estimate_result"
   ]
  },
  {
   "cell_type": "markdown",
   "metadata": {},
   "source": [
    "## Execution"
   ]
  },
  {
   "cell_type": "code",
   "execution_count": null,
   "metadata": {},
   "outputs": [
    {
     "name": "stdout",
     "output_type": "stream",
     "text": [
      "Execution\n",
      ">>> Job ID: 2f4cf7d7-789a-4109-8fa2-507b06602070\n",
      ">>> Job Status: QUEUED\n"
     ]
    }
   ],
   "source": [
    "exec_job = qesem_function.run(\n",
    "    pubs=[(state_prep_circ, [exp_obs])],\n",
    "    options={\n",
    "        \"default_precision\": 0.02, \n",
    "        \"max_execution_time\": 3600, \n",
    "        \"transpilation_level\": 1,\n",
    "        \"execution_mode\": \"batch\",  ## \"session\" / \"batch\", when batch, QPU is released during classical computation\n",
    "    },\n",
    "    instance='',\n",
    "    backend_name=backend.name,  # E.g. \"ibm_brisbane\"\n",
    ")\n",
    "\n",
    "print(\"Execution\")\n",
    "print(f\">>> Job ID: {exec_job.job_id}\")\n",
    "print(f\">>> Job Status: {exec_job.status()}\")"
   ]
  },
  {
   "cell_type": "code",
   "execution_count": 27,
   "metadata": {},
   "outputs": [
    {
     "data": {
      "text/plain": [
       "'DONE'"
      ]
     },
     "execution_count": 27,
     "metadata": {},
     "output_type": "execute_result"
    }
   ],
   "source": [
    "exec_job.status()"
   ]
  },
  {
   "cell_type": "code",
   "execution_count": 28,
   "metadata": {},
   "outputs": [
    {
     "data": {
      "text/plain": [
       "PrimitiveResult([PubResult(data=DataBin(evs=np.ndarray(<shape=(1,), dtype=float64>), stds=np.ndarray(<shape=(1,), dtype=float64>), shape=(1,)), metadata={'gate_fidelities': {'CZ': 0.9926880373300168, 'ID1Q': 0.9983025752642868}, 'total_shots': 1927202, 'mitigation_shots': 410002, 'transpiled_circs': [{'circuit': 'OPENQASM 3.0;\\ninclude \"stdgates.inc\";\\nbit[129] c0;\\nqubit[129] q1;\\nrx(1.6118303985790519) q1[92];\\nrx(-1.8235805614589236) q1[91];\\nrx(-pi/2) q1[111];\\nrx(-pi/2) q1[110];\\nrx(0) q1[109];\\nrx(-pi) q1[108];\\nrx(-pi) q1[112];\\nrx(pi/4) q1[128];\\nrx(-3*pi/4) q1[84];\\nrz(pi/2) q1[92];\\nrz(-pi/2) q1[91];\\nrz(pi/2) q1[111];\\nrz(pi/2) q1[110];\\nrz(pi/2) q1[109];\\nrz(pi/2) q1[108];\\nrz(pi/2) q1[112];\\nrz(0) q1[128];\\nrz(0) q1[84];\\nrx(pi/2) q1[92];\\nrx(-pi/2) q1[91];\\nrx(-pi) q1[111];\\nrx(pi/2) q1[110];\\nrx(pi/2) q1[109];\\nrx(pi/2) q1[108];\\nrx(-pi) q1[112];\\nrx(-3*pi/4) q1[128];\\nrx(pi/4) q1[84];\\nbarrier q1[84], q1[91], q1[92], q1[98], q1[108], q1[109], q1[110], q1[111], q1[112], q1[128];\\ncz q1[110], q1[109];\\nbarrier q1[110], q1[109];\\nbarrier q1[84], q1[91], q1[92], q1[98], q1[108], q1[109], q1[110], q1[111], q1[112], q1[128];\\nrx(-pi/2) q1[110];\\nrz(-pi) q1[110];\\nrx(pi/2) q1[110];\\nbarrier q1[84], q1[91], q1[92], q1[98], q1[108], q1[109], q1[110], q1[111], q1[112], q1[128];\\ncz q1[111], q1[110];\\nbarrier q1[111], q1[110];\\nbarrier q1[84], q1[91], q1[92], q1[98], q1[108], q1[109], q1[110], q1[111], q1[112], q1[128];\\nrx(-pi/4) q1[111];\\nrx(-pi/4) q1[110];\\nrz(0) q1[111];\\nrz(0) q1[110];\\nrx(3*pi/4) q1[111];\\nrx(3*pi/4) q1[110];\\nbarrier q1[84], q1[91], q1[92], q1[98], q1[108], q1[109], q1[110], q1[111], q1[112], q1[128];\\ncz q1[111], q1[110];\\nbarrier q1[111], q1[110];\\nbarrier q1[84], q1[91], q1[92], q1[98], q1[108], q1[109], q1[110], q1[111], q1[112], q1[128];\\nrx(3*pi/4) q1[111];\\nrx(-pi/4) q1[110];\\nrz(0) q1[111];\\nrz(0) q1[110];\\nrx(-pi/4) q1[111];\\nrx(3*pi/4) q1[110];\\nbarrier q1[84], q1[91], q1[92], q1[98], q1[108], q1[109], q1[110], q1[111], q1[112], q1[128];\\ncz q1[111], q1[110];\\nbarrier q1[111], q1[110];\\nbarrier q1[84], q1[91], q1[92], q1[98], q1[108], q1[109], q1[110], q1[111], q1[112], q1[128];\\ncz q1[98], q1[111];\\nbarrier q1[98], q1[111];\\nbarrier q1[84], q1[91], q1[92], q1[98], q1[108], q1[109], q1[110], q1[111], q1[112], q1[128];\\ncz q1[91], q1[98];\\nbarrier q1[91], q1[98];\\nbarrier q1[84], q1[91], q1[92], q1[98], q1[108], q1[109], q1[110], q1[111], q1[112], q1[128];\\nrx(0) q1[91];\\nrx(-2.9847280485156897) q1[98];\\nrx(3*pi/4) q1[110];\\nrz(0) q1[91];\\nrz(-pi/2) q1[98];\\nrz(0) q1[110];\\nrx(-pi) q1[91];\\nrx(-pi) q1[98];\\nrx(-pi/4) q1[110];\\nbarrier q1[84], q1[91], q1[92], q1[98], q1[108], q1[109], q1[110], q1[111], q1[112], q1[128];\\ncz q1[91], q1[98];\\nbarrier q1[91], q1[98];\\nbarrier q1[84], q1[91], q1[92], q1[98], q1[108], q1[109], q1[110], q1[111], q1[112], q1[128];\\ncz q1[98], q1[111];\\nbarrier q1[98], q1[111];\\nbarrier q1[84], q1[91], q1[92], q1[98], q1[108], q1[109], q1[110], q1[111], q1[112], q1[128];\\nrx(-pi) q1[91];\\nrx(pi/2) q1[98];\\nrx(pi/2) q1[111];\\nrz(1.8235805614589218) q1[91];\\nrz(-pi) q1[98];\\nrz(-pi/2) q1[111];\\nrx(0) q1[91];\\nrx(-pi) q1[98];\\nrx(-pi/2) q1[111];\\nbarrier q1[84], q1[91], q1[92], q1[98], q1[108], q1[109], q1[110], q1[111], q1[112], q1[128];\\ncz q1[111], q1[110];\\nbarrier q1[111], q1[110];\\nbarrier q1[84], q1[91], q1[92], q1[98], q1[108], q1[109], q1[110], q1[111], q1[112], q1[128];\\nrx(-pi/4) q1[111];\\nrx(-pi/4) q1[110];\\nrz(0) q1[111];\\nrz(0) q1[110];\\nrx(3*pi/4) q1[111];\\nrx(3*pi/4) q1[110];\\nbarrier q1[84], q1[91], q1[92], q1[98], q1[108], q1[109], q1[110], q1[111], q1[112], q1[128];\\ncz q1[111], q1[110];\\nbarrier q1[111], q1[110];\\nbarrier q1[84], q1[91], q1[92], q1[98], q1[108], q1[109], q1[110], q1[111], q1[112], q1[128];\\nrx(3*pi/4) q1[111];\\nrx(-pi/4) q1[110];\\nrz(0) q1[111];\\nrz(0) q1[110];\\nrx(-pi/4) q1[111];\\nrx(3*pi/4) q1[110];\\nbarrier q1[84], q1[91], q1[92], q1[98], q1[108], q1[109], q1[110], q1[111], q1[112], q1[128];\\ncz q1[111], q1[110];\\nbarrier q1[111], q1[110];\\nbarrier q1[84], q1[91], q1[92], q1[98], q1[108], q1[109], q1[110], q1[111], q1[112], q1[128];\\ncz q1[110], q1[109];\\nbarrier q1[110], q1[109];\\nbarrier q1[84], q1[91], q1[92], q1[98], q1[108], q1[109], q1[110], q1[111], q1[112], q1[128];\\ncz q1[109], q1[108];\\nbarrier q1[109], q1[108];\\nbarrier q1[84], q1[91], q1[92], q1[98], q1[108], q1[109], q1[110], q1[111], q1[112], q1[128];\\nrx(-3*pi/4) q1[109];\\nrz(0) q1[109];\\nrx(pi/4) q1[109];\\nbarrier q1[84], q1[91], q1[92], q1[98], q1[108], q1[109], q1[110], q1[111], q1[112], q1[128];\\ncz q1[110], q1[109];\\nbarrier q1[110], q1[109];\\nbarrier q1[84], q1[91], q1[92], q1[98], q1[108], q1[109], q1[110], q1[111], q1[112], q1[128];\\nrx(-pi/2) q1[110];\\nrz(-pi) q1[110];\\nrx(0) q1[110];\\nbarrier q1[84], q1[91], q1[92], q1[98], q1[108], q1[109], q1[110], q1[111], q1[112], q1[128];\\ncz q1[111], q1[110];\\nbarrier q1[111], q1[110];\\nbarrier q1[84], q1[91], q1[92], q1[98], q1[108], q1[109], q1[110], q1[111], q1[112], q1[128];\\nrx(pi/2) q1[111];\\nrz(-pi) q1[111];\\nrx(-pi) q1[111];\\nbarrier q1[84], q1[91], q1[92], q1[98], q1[108], q1[109], q1[110], q1[111], q1[112], q1[128];\\ncz q1[111], q1[112];\\nbarrier q1[111], q1[112];\\nbarrier q1[84], q1[91], q1[92], q1[98], q1[108], q1[109], q1[110], q1[111], q1[112], q1[128];\\nrx(3*pi/4) q1[111];\\nrx(pi/2) q1[112];\\nrz(0) q1[111];\\nrz(-pi) q1[112];\\nrx(-pi/4) q1[111];\\nrx(-pi/2) q1[112];\\nbarrier q1[84], q1[91], q1[92], q1[98], q1[108], q1[109], q1[110], q1[111], q1[112], q1[128];\\ncz q1[111], q1[112];\\nbarrier q1[111], q1[112];\\nbarrier q1[84], q1[91], q1[92], q1[98], q1[108], q1[109], q1[110], q1[111], q1[112], q1[128];\\nrx(-pi/4) q1[111];\\nrx(3*pi/4) q1[112];\\nrz(0) q1[111];\\nrz(0) q1[112];\\nrx(3*pi/4) q1[111];\\nrx(-pi/4) q1[112];\\nbarrier q1[84], q1[91], q1[92], q1[98], q1[108], q1[109], q1[110], q1[111], q1[112], q1[128];\\ncz q1[111], q1[112];\\nbarrier q1[111], q1[112];\\nbarrier q1[84], q1[91], q1[92], q1[98], q1[108], q1[109], q1[110], q1[111], q1[112], q1[128];\\nrx(3*pi/4) q1[111];\\nrx(-pi/4) q1[112];\\nrz(0) q1[111];\\nrz(0) q1[112];\\nrx(-pi/4) q1[111];\\nrx(3*pi/4) q1[112];\\nbarrier q1[84], q1[91], q1[92], q1[98], q1[108], q1[109], q1[110], q1[111], q1[112], q1[128];\\ncz q1[111], q1[112];\\nbarrier q1[111], q1[112];\\nbarrier q1[84], q1[91], q1[92], q1[98], q1[108], q1[109], q1[110], q1[111], q1[112], q1[128];\\ncz q1[98], q1[111];\\nbarrier q1[98], q1[111];\\nbarrier q1[84], q1[91], q1[92], q1[98], q1[108], q1[109], q1[110], q1[111], q1[112], q1[128];\\nrx(pi/2) q1[98];\\nrz(-pi) q1[98];\\nrx(-pi) q1[98];\\nbarrier q1[84], q1[91], q1[92], q1[98], q1[108], q1[109], q1[110], q1[111], q1[112], q1[128];\\ncz q1[91], q1[98];\\nbarrier q1[91], q1[98];\\nbarrier q1[84], q1[91], q1[92], q1[98], q1[108], q1[109], q1[110], q1[111], q1[112], q1[128];\\nrx(-pi) q1[91];\\nrz(-pi/2) q1[91];\\nrx(-pi) q1[91];\\nbarrier q1[84], q1[91], q1[92], q1[98], q1[108], q1[109], q1[110], q1[111], q1[112], q1[128];\\ncz q1[92], q1[91];\\nbarrier q1[92], q1[91];\\nbarrier q1[84], q1[91], q1[92], q1[98], q1[108], q1[109], q1[110], q1[111], q1[112], q1[128];\\nrx(-pi) q1[92];\\nrx(0.15684198737217514) q1[91];\\nrz(0) q1[92];\\nrz(pi/2) q1[91];\\nrx(0) q1[92];\\nrx(0) q1[91];\\nbarrier q1[84], q1[91], q1[92], q1[98], q1[108], q1[109], q1[110], q1[111], q1[112], q1[128];\\ncz q1[92], q1[91];\\nbarrier q1[92], q1[91];\\nbarrier q1[84], q1[91], q1[92], q1[98], q1[108], q1[109], q1[110], q1[111], q1[112], q1[128];\\ncz q1[91], q1[98];\\nbarrier q1[91], q1[98];\\nbarrier q1[84], q1[91], q1[92], q1[98], q1[108], q1[109], q1[110], q1[111], q1[112], q1[128];\\nrx(pi/2) q1[92];\\nrx(pi/2) q1[91];\\nrx(-pi/2) q1[98];\\nrz(-pi/2) q1[92];\\nrz(pi/2) q1[91];\\nrz(-pi) q1[98];\\nrx(1.5297622550107413) q1[92];\\nrx(-pi) q1[91];\\nrx(0) q1[98];\\nbarrier q1[84], q1[91], q1[92], q1[98], q1[108], q1[109], q1[110], q1[111], q1[112], q1[128];\\ncz q1[98], q1[111];\\nbarrier q1[98], q1[111];\\nbarrier q1[84], q1[91], q1[92], q1[98], q1[108], q1[109], q1[110], q1[111], q1[112], q1[128];\\nrx(-pi/2) q1[98];\\nrx(pi/2) q1[111];\\nrz(-pi/2) q1[98];\\nrz(pi/2) q1[111];\\nrx(0) q1[98];\\nrx(-pi) q1[111];\\nbarrier q1[84], q1[91], q1[92], q1[98], q1[108], q1[109], q1[110], q1[111], q1[112], q1[128];\\ncz q1[111], q1[112];\\nbarrier q1[111], q1[112];\\nbarrier q1[84], q1[91], q1[92], q1[98], q1[108], q1[109], q1[110], q1[111], q1[112], q1[128];\\nrx(-pi/4) q1[111];\\nrx(-pi/2) q1[112];\\nrz(0) q1[111];\\nrz(-pi/2) q1[112];\\nrx(3*pi/4) q1[111];\\nrx(pi/2) q1[112];\\nbarrier q1[84], q1[91], q1[92], q1[98], q1[108], q1[109], q1[110], q1[111], q1[112], q1[128];\\ncz q1[111], q1[112];\\nbarrier q1[111], q1[112];\\nbarrier q1[84], q1[91], q1[92], q1[98], q1[108], q1[109], q1[110], q1[111], q1[112], q1[128];\\nrx(3*pi/4) q1[111];\\nrx(-pi/4) q1[112];\\nrz(0) q1[111];\\nrz(0) q1[112];\\nrx(-pi/4) q1[111];\\nrx(3*pi/4) q1[112];\\nbarrier q1[84], q1[91], q1[92], q1[98], q1[108], q1[109], q1[110], q1[111], q1[112], q1[128];\\ncz q1[111], q1[112];\\nbarrier q1[111], q1[112];\\nbarrier q1[84], q1[91], q1[92], q1[98], q1[108], q1[109], q1[110], q1[111], q1[112], q1[128];\\nrx(3*pi/4) q1[111];\\nrx(3*pi/4) q1[112];\\nrz(0) q1[111];\\nrz(0) q1[112];\\nrx(-pi/4) q1[111];\\nrx(-pi/4) q1[112];\\nbarrier q1[84], q1[91], q1[92], q1[98], q1[108], q1[109], q1[110], q1[111], q1[112], q1[128];\\ncz q1[111], q1[112];\\nbarrier q1[111], q1[112];\\nbarrier q1[84], q1[91], q1[92], q1[98], q1[108], q1[109], q1[110], q1[111], q1[112], q1[128];\\ncz q1[111], q1[110];\\nbarrier q1[111], q1[110];\\nbarrier q1[84], q1[91], q1[92], q1[98], q1[108], q1[109], q1[110], q1[111], q1[112], q1[128];\\nrx(-pi/2) q1[111];\\nrx(-pi/2) q1[110];\\nrx(3*pi/4) q1[112];\\nrz(-pi/2) q1[111];\\nrz(-pi) q1[110];\\nrz(0) q1[112];\\nrx(-pi) q1[111];\\nrx(0) q1[110];\\nrx(-pi/4) q1[112];\\nbarrier q1[84], q1[91], q1[92], q1[98], q1[108], q1[109], q1[110], q1[111], q1[112], q1[128];\\ncz q1[110], q1[109];\\nbarrier q1[110], q1[109];\\nbarrier q1[84], q1[91], q1[92], q1[98], q1[108], q1[109], q1[110], q1[111], q1[112], q1[128];\\nrx(-pi/2) q1[110];\\nrx(pi/4) q1[109];\\nrz(-pi/2) q1[110];\\nrz(0) q1[109];\\nrx(0) q1[110];\\nrx(-3*pi/4) q1[109];\\nbarrier q1[84], q1[91], q1[92], q1[98], q1[108], q1[109], q1[110], q1[111], q1[112], q1[128];\\ncz q1[109], q1[108];\\nbarrier q1[109], q1[108];\\nbarrier q1[84], q1[91], q1[92], q1[98], q1[108], q1[109], q1[110], q1[111], q1[112], q1[128];\\nrx(-pi/2) q1[109];\\nrx(pi/2) q1[108];\\nrz(pi/2) q1[109];\\nrz(pi/2) q1[108];\\nrx(-pi) q1[109];\\nrx(-pi/2) q1[108];\\nbarrier q1[84], q1[91], q1[92], q1[98], q1[108], q1[109], q1[110], q1[111], q1[112], q1[128];\\nrz(pi) q1[84];\\nsx q1[84];\\nrz(pi) q1[84];\\nrz(pi) q1[108];\\nsx q1[108];\\nrz(pi) q1[108];\\nrz(pi) q1[112];\\nsx q1[112];\\nrz(pi) q1[112];\\nrz(pi) q1[128];\\nsx q1[128];\\nrz(pi) q1[128];\\nbarrier q1[84], q1[91], q1[92], q1[98], q1[108], q1[109], q1[110], q1[111], q1[112], q1[128];\\nc0[84] = measure q1[84];\\nc0[91] = measure q1[91];\\nc0[92] = measure q1[92];\\nc0[98] = measure q1[98];\\nc0[108] = measure q1[108];\\nc0[109] = measure q1[109];\\nc0[110] = measure q1[110];\\nc0[111] = measure q1[111];\\nc0[112] = measure q1[112];\\nc0[128] = measure q1[128];\\n', 'qubit_map': [[0, 84], [1, 92], [2, 91], [3, 98], [4, 112], [5, 17], [6, 128], [7, 111], [8, 110], [9, 109], [10, 108], [11, 87]], 'num_measurement_bases': 39}], 'noisy_results': DataBin(evs=np.ndarray(<shape=(1,), dtype=float64>), stds=np.ndarray(<shape=(1,), dtype=float64>), shape=(1,))})], metadata={})"
      ]
     },
     "execution_count": 28,
     "metadata": {},
     "output_type": "execute_result"
    }
   ],
   "source": [
    "exec_result = exec_job.result() ## catalog.get_job_by_id(\"2f4cf7d7-789a-4109-8fa2-507b06602070\").result()\n",
    "exec_result"
   ]
  },
  {
   "cell_type": "code",
   "execution_count": 29,
   "metadata": {},
   "outputs": [
    {
     "data": {
      "text/plain": [
       "{'gate_fidelities': {'CZ': 0.9926880373300168, 'ID1Q': 0.9983025752642868},\n",
       " 'total_shots': 1927202,\n",
       " 'mitigation_shots': 410002,\n",
       " 'transpiled_circs': [{'circuit': 'OPENQASM 3.0;\\ninclude \"stdgates.inc\";\\nbit[129] c0;\\nqubit[129] q1;\\nrx(1.6118303985790519) q1[92];\\nrx(-1.8235805614589236) q1[91];\\nrx(-pi/2) q1[111];\\nrx(-pi/2) q1[110];\\nrx(0) q1[109];\\nrx(-pi) q1[108];\\nrx(-pi) q1[112];\\nrx(pi/4) q1[128];\\nrx(-3*pi/4) q1[84];\\nrz(pi/2) q1[92];\\nrz(-pi/2) q1[91];\\nrz(pi/2) q1[111];\\nrz(pi/2) q1[110];\\nrz(pi/2) q1[109];\\nrz(pi/2) q1[108];\\nrz(pi/2) q1[112];\\nrz(0) q1[128];\\nrz(0) q1[84];\\nrx(pi/2) q1[92];\\nrx(-pi/2) q1[91];\\nrx(-pi) q1[111];\\nrx(pi/2) q1[110];\\nrx(pi/2) q1[109];\\nrx(pi/2) q1[108];\\nrx(-pi) q1[112];\\nrx(-3*pi/4) q1[128];\\nrx(pi/4) q1[84];\\nbarrier q1[84], q1[91], q1[92], q1[98], q1[108], q1[109], q1[110], q1[111], q1[112], q1[128];\\ncz q1[110], q1[109];\\nbarrier q1[110], q1[109];\\nbarrier q1[84], q1[91], q1[92], q1[98], q1[108], q1[109], q1[110], q1[111], q1[112], q1[128];\\nrx(-pi/2) q1[110];\\nrz(-pi) q1[110];\\nrx(pi/2) q1[110];\\nbarrier q1[84], q1[91], q1[92], q1[98], q1[108], q1[109], q1[110], q1[111], q1[112], q1[128];\\ncz q1[111], q1[110];\\nbarrier q1[111], q1[110];\\nbarrier q1[84], q1[91], q1[92], q1[98], q1[108], q1[109], q1[110], q1[111], q1[112], q1[128];\\nrx(-pi/4) q1[111];\\nrx(-pi/4) q1[110];\\nrz(0) q1[111];\\nrz(0) q1[110];\\nrx(3*pi/4) q1[111];\\nrx(3*pi/4) q1[110];\\nbarrier q1[84], q1[91], q1[92], q1[98], q1[108], q1[109], q1[110], q1[111], q1[112], q1[128];\\ncz q1[111], q1[110];\\nbarrier q1[111], q1[110];\\nbarrier q1[84], q1[91], q1[92], q1[98], q1[108], q1[109], q1[110], q1[111], q1[112], q1[128];\\nrx(3*pi/4) q1[111];\\nrx(-pi/4) q1[110];\\nrz(0) q1[111];\\nrz(0) q1[110];\\nrx(-pi/4) q1[111];\\nrx(3*pi/4) q1[110];\\nbarrier q1[84], q1[91], q1[92], q1[98], q1[108], q1[109], q1[110], q1[111], q1[112], q1[128];\\ncz q1[111], q1[110];\\nbarrier q1[111], q1[110];\\nbarrier q1[84], q1[91], q1[92], q1[98], q1[108], q1[109], q1[110], q1[111], q1[112], q1[128];\\ncz q1[98], q1[111];\\nbarrier q1[98], q1[111];\\nbarrier q1[84], q1[91], q1[92], q1[98], q1[108], q1[109], q1[110], q1[111], q1[112], q1[128];\\ncz q1[91], q1[98];\\nbarrier q1[91], q1[98];\\nbarrier q1[84], q1[91], q1[92], q1[98], q1[108], q1[109], q1[110], q1[111], q1[112], q1[128];\\nrx(0) q1[91];\\nrx(-2.9847280485156897) q1[98];\\nrx(3*pi/4) q1[110];\\nrz(0) q1[91];\\nrz(-pi/2) q1[98];\\nrz(0) q1[110];\\nrx(-pi) q1[91];\\nrx(-pi) q1[98];\\nrx(-pi/4) q1[110];\\nbarrier q1[84], q1[91], q1[92], q1[98], q1[108], q1[109], q1[110], q1[111], q1[112], q1[128];\\ncz q1[91], q1[98];\\nbarrier q1[91], q1[98];\\nbarrier q1[84], q1[91], q1[92], q1[98], q1[108], q1[109], q1[110], q1[111], q1[112], q1[128];\\ncz q1[98], q1[111];\\nbarrier q1[98], q1[111];\\nbarrier q1[84], q1[91], q1[92], q1[98], q1[108], q1[109], q1[110], q1[111], q1[112], q1[128];\\nrx(-pi) q1[91];\\nrx(pi/2) q1[98];\\nrx(pi/2) q1[111];\\nrz(1.8235805614589218) q1[91];\\nrz(-pi) q1[98];\\nrz(-pi/2) q1[111];\\nrx(0) q1[91];\\nrx(-pi) q1[98];\\nrx(-pi/2) q1[111];\\nbarrier q1[84], q1[91], q1[92], q1[98], q1[108], q1[109], q1[110], q1[111], q1[112], q1[128];\\ncz q1[111], q1[110];\\nbarrier q1[111], q1[110];\\nbarrier q1[84], q1[91], q1[92], q1[98], q1[108], q1[109], q1[110], q1[111], q1[112], q1[128];\\nrx(-pi/4) q1[111];\\nrx(-pi/4) q1[110];\\nrz(0) q1[111];\\nrz(0) q1[110];\\nrx(3*pi/4) q1[111];\\nrx(3*pi/4) q1[110];\\nbarrier q1[84], q1[91], q1[92], q1[98], q1[108], q1[109], q1[110], q1[111], q1[112], q1[128];\\ncz q1[111], q1[110];\\nbarrier q1[111], q1[110];\\nbarrier q1[84], q1[91], q1[92], q1[98], q1[108], q1[109], q1[110], q1[111], q1[112], q1[128];\\nrx(3*pi/4) q1[111];\\nrx(-pi/4) q1[110];\\nrz(0) q1[111];\\nrz(0) q1[110];\\nrx(-pi/4) q1[111];\\nrx(3*pi/4) q1[110];\\nbarrier q1[84], q1[91], q1[92], q1[98], q1[108], q1[109], q1[110], q1[111], q1[112], q1[128];\\ncz q1[111], q1[110];\\nbarrier q1[111], q1[110];\\nbarrier q1[84], q1[91], q1[92], q1[98], q1[108], q1[109], q1[110], q1[111], q1[112], q1[128];\\ncz q1[110], q1[109];\\nbarrier q1[110], q1[109];\\nbarrier q1[84], q1[91], q1[92], q1[98], q1[108], q1[109], q1[110], q1[111], q1[112], q1[128];\\ncz q1[109], q1[108];\\nbarrier q1[109], q1[108];\\nbarrier q1[84], q1[91], q1[92], q1[98], q1[108], q1[109], q1[110], q1[111], q1[112], q1[128];\\nrx(-3*pi/4) q1[109];\\nrz(0) q1[109];\\nrx(pi/4) q1[109];\\nbarrier q1[84], q1[91], q1[92], q1[98], q1[108], q1[109], q1[110], q1[111], q1[112], q1[128];\\ncz q1[110], q1[109];\\nbarrier q1[110], q1[109];\\nbarrier q1[84], q1[91], q1[92], q1[98], q1[108], q1[109], q1[110], q1[111], q1[112], q1[128];\\nrx(-pi/2) q1[110];\\nrz(-pi) q1[110];\\nrx(0) q1[110];\\nbarrier q1[84], q1[91], q1[92], q1[98], q1[108], q1[109], q1[110], q1[111], q1[112], q1[128];\\ncz q1[111], q1[110];\\nbarrier q1[111], q1[110];\\nbarrier q1[84], q1[91], q1[92], q1[98], q1[108], q1[109], q1[110], q1[111], q1[112], q1[128];\\nrx(pi/2) q1[111];\\nrz(-pi) q1[111];\\nrx(-pi) q1[111];\\nbarrier q1[84], q1[91], q1[92], q1[98], q1[108], q1[109], q1[110], q1[111], q1[112], q1[128];\\ncz q1[111], q1[112];\\nbarrier q1[111], q1[112];\\nbarrier q1[84], q1[91], q1[92], q1[98], q1[108], q1[109], q1[110], q1[111], q1[112], q1[128];\\nrx(3*pi/4) q1[111];\\nrx(pi/2) q1[112];\\nrz(0) q1[111];\\nrz(-pi) q1[112];\\nrx(-pi/4) q1[111];\\nrx(-pi/2) q1[112];\\nbarrier q1[84], q1[91], q1[92], q1[98], q1[108], q1[109], q1[110], q1[111], q1[112], q1[128];\\ncz q1[111], q1[112];\\nbarrier q1[111], q1[112];\\nbarrier q1[84], q1[91], q1[92], q1[98], q1[108], q1[109], q1[110], q1[111], q1[112], q1[128];\\nrx(-pi/4) q1[111];\\nrx(3*pi/4) q1[112];\\nrz(0) q1[111];\\nrz(0) q1[112];\\nrx(3*pi/4) q1[111];\\nrx(-pi/4) q1[112];\\nbarrier q1[84], q1[91], q1[92], q1[98], q1[108], q1[109], q1[110], q1[111], q1[112], q1[128];\\ncz q1[111], q1[112];\\nbarrier q1[111], q1[112];\\nbarrier q1[84], q1[91], q1[92], q1[98], q1[108], q1[109], q1[110], q1[111], q1[112], q1[128];\\nrx(3*pi/4) q1[111];\\nrx(-pi/4) q1[112];\\nrz(0) q1[111];\\nrz(0) q1[112];\\nrx(-pi/4) q1[111];\\nrx(3*pi/4) q1[112];\\nbarrier q1[84], q1[91], q1[92], q1[98], q1[108], q1[109], q1[110], q1[111], q1[112], q1[128];\\ncz q1[111], q1[112];\\nbarrier q1[111], q1[112];\\nbarrier q1[84], q1[91], q1[92], q1[98], q1[108], q1[109], q1[110], q1[111], q1[112], q1[128];\\ncz q1[98], q1[111];\\nbarrier q1[98], q1[111];\\nbarrier q1[84], q1[91], q1[92], q1[98], q1[108], q1[109], q1[110], q1[111], q1[112], q1[128];\\nrx(pi/2) q1[98];\\nrz(-pi) q1[98];\\nrx(-pi) q1[98];\\nbarrier q1[84], q1[91], q1[92], q1[98], q1[108], q1[109], q1[110], q1[111], q1[112], q1[128];\\ncz q1[91], q1[98];\\nbarrier q1[91], q1[98];\\nbarrier q1[84], q1[91], q1[92], q1[98], q1[108], q1[109], q1[110], q1[111], q1[112], q1[128];\\nrx(-pi) q1[91];\\nrz(-pi/2) q1[91];\\nrx(-pi) q1[91];\\nbarrier q1[84], q1[91], q1[92], q1[98], q1[108], q1[109], q1[110], q1[111], q1[112], q1[128];\\ncz q1[92], q1[91];\\nbarrier q1[92], q1[91];\\nbarrier q1[84], q1[91], q1[92], q1[98], q1[108], q1[109], q1[110], q1[111], q1[112], q1[128];\\nrx(-pi) q1[92];\\nrx(0.15684198737217514) q1[91];\\nrz(0) q1[92];\\nrz(pi/2) q1[91];\\nrx(0) q1[92];\\nrx(0) q1[91];\\nbarrier q1[84], q1[91], q1[92], q1[98], q1[108], q1[109], q1[110], q1[111], q1[112], q1[128];\\ncz q1[92], q1[91];\\nbarrier q1[92], q1[91];\\nbarrier q1[84], q1[91], q1[92], q1[98], q1[108], q1[109], q1[110], q1[111], q1[112], q1[128];\\ncz q1[91], q1[98];\\nbarrier q1[91], q1[98];\\nbarrier q1[84], q1[91], q1[92], q1[98], q1[108], q1[109], q1[110], q1[111], q1[112], q1[128];\\nrx(pi/2) q1[92];\\nrx(pi/2) q1[91];\\nrx(-pi/2) q1[98];\\nrz(-pi/2) q1[92];\\nrz(pi/2) q1[91];\\nrz(-pi) q1[98];\\nrx(1.5297622550107413) q1[92];\\nrx(-pi) q1[91];\\nrx(0) q1[98];\\nbarrier q1[84], q1[91], q1[92], q1[98], q1[108], q1[109], q1[110], q1[111], q1[112], q1[128];\\ncz q1[98], q1[111];\\nbarrier q1[98], q1[111];\\nbarrier q1[84], q1[91], q1[92], q1[98], q1[108], q1[109], q1[110], q1[111], q1[112], q1[128];\\nrx(-pi/2) q1[98];\\nrx(pi/2) q1[111];\\nrz(-pi/2) q1[98];\\nrz(pi/2) q1[111];\\nrx(0) q1[98];\\nrx(-pi) q1[111];\\nbarrier q1[84], q1[91], q1[92], q1[98], q1[108], q1[109], q1[110], q1[111], q1[112], q1[128];\\ncz q1[111], q1[112];\\nbarrier q1[111], q1[112];\\nbarrier q1[84], q1[91], q1[92], q1[98], q1[108], q1[109], q1[110], q1[111], q1[112], q1[128];\\nrx(-pi/4) q1[111];\\nrx(-pi/2) q1[112];\\nrz(0) q1[111];\\nrz(-pi/2) q1[112];\\nrx(3*pi/4) q1[111];\\nrx(pi/2) q1[112];\\nbarrier q1[84], q1[91], q1[92], q1[98], q1[108], q1[109], q1[110], q1[111], q1[112], q1[128];\\ncz q1[111], q1[112];\\nbarrier q1[111], q1[112];\\nbarrier q1[84], q1[91], q1[92], q1[98], q1[108], q1[109], q1[110], q1[111], q1[112], q1[128];\\nrx(3*pi/4) q1[111];\\nrx(-pi/4) q1[112];\\nrz(0) q1[111];\\nrz(0) q1[112];\\nrx(-pi/4) q1[111];\\nrx(3*pi/4) q1[112];\\nbarrier q1[84], q1[91], q1[92], q1[98], q1[108], q1[109], q1[110], q1[111], q1[112], q1[128];\\ncz q1[111], q1[112];\\nbarrier q1[111], q1[112];\\nbarrier q1[84], q1[91], q1[92], q1[98], q1[108], q1[109], q1[110], q1[111], q1[112], q1[128];\\nrx(3*pi/4) q1[111];\\nrx(3*pi/4) q1[112];\\nrz(0) q1[111];\\nrz(0) q1[112];\\nrx(-pi/4) q1[111];\\nrx(-pi/4) q1[112];\\nbarrier q1[84], q1[91], q1[92], q1[98], q1[108], q1[109], q1[110], q1[111], q1[112], q1[128];\\ncz q1[111], q1[112];\\nbarrier q1[111], q1[112];\\nbarrier q1[84], q1[91], q1[92], q1[98], q1[108], q1[109], q1[110], q1[111], q1[112], q1[128];\\ncz q1[111], q1[110];\\nbarrier q1[111], q1[110];\\nbarrier q1[84], q1[91], q1[92], q1[98], q1[108], q1[109], q1[110], q1[111], q1[112], q1[128];\\nrx(-pi/2) q1[111];\\nrx(-pi/2) q1[110];\\nrx(3*pi/4) q1[112];\\nrz(-pi/2) q1[111];\\nrz(-pi) q1[110];\\nrz(0) q1[112];\\nrx(-pi) q1[111];\\nrx(0) q1[110];\\nrx(-pi/4) q1[112];\\nbarrier q1[84], q1[91], q1[92], q1[98], q1[108], q1[109], q1[110], q1[111], q1[112], q1[128];\\ncz q1[110], q1[109];\\nbarrier q1[110], q1[109];\\nbarrier q1[84], q1[91], q1[92], q1[98], q1[108], q1[109], q1[110], q1[111], q1[112], q1[128];\\nrx(-pi/2) q1[110];\\nrx(pi/4) q1[109];\\nrz(-pi/2) q1[110];\\nrz(0) q1[109];\\nrx(0) q1[110];\\nrx(-3*pi/4) q1[109];\\nbarrier q1[84], q1[91], q1[92], q1[98], q1[108], q1[109], q1[110], q1[111], q1[112], q1[128];\\ncz q1[109], q1[108];\\nbarrier q1[109], q1[108];\\nbarrier q1[84], q1[91], q1[92], q1[98], q1[108], q1[109], q1[110], q1[111], q1[112], q1[128];\\nrx(-pi/2) q1[109];\\nrx(pi/2) q1[108];\\nrz(pi/2) q1[109];\\nrz(pi/2) q1[108];\\nrx(-pi) q1[109];\\nrx(-pi/2) q1[108];\\nbarrier q1[84], q1[91], q1[92], q1[98], q1[108], q1[109], q1[110], q1[111], q1[112], q1[128];\\nrz(pi) q1[84];\\nsx q1[84];\\nrz(pi) q1[84];\\nrz(pi) q1[108];\\nsx q1[108];\\nrz(pi) q1[108];\\nrz(pi) q1[112];\\nsx q1[112];\\nrz(pi) q1[112];\\nrz(pi) q1[128];\\nsx q1[128];\\nrz(pi) q1[128];\\nbarrier q1[84], q1[91], q1[92], q1[98], q1[108], q1[109], q1[110], q1[111], q1[112], q1[128];\\nc0[84] = measure q1[84];\\nc0[91] = measure q1[91];\\nc0[92] = measure q1[92];\\nc0[98] = measure q1[98];\\nc0[108] = measure q1[108];\\nc0[109] = measure q1[109];\\nc0[110] = measure q1[110];\\nc0[111] = measure q1[111];\\nc0[112] = measure q1[112];\\nc0[128] = measure q1[128];\\n',\n",
       "   'qubit_map': [[0, 84],\n",
       "    [1, 92],\n",
       "    [2, 91],\n",
       "    [3, 98],\n",
       "    [4, 112],\n",
       "    [5, 17],\n",
       "    [6, 128],\n",
       "    [7, 111],\n",
       "    [8, 110],\n",
       "    [9, 109],\n",
       "    [10, 108],\n",
       "    [11, 87]],\n",
       "   'num_measurement_bases': 39}],\n",
       " 'noisy_results': DataBin(evs=np.ndarray(<shape=(1,), dtype=float64>), stds=np.ndarray(<shape=(1,), dtype=float64>), shape=(1,))}"
      ]
     },
     "execution_count": 29,
     "metadata": {},
     "output_type": "execute_result"
    }
   ],
   "source": [
    "exec_result[0].metadata"
   ]
  },
  {
   "cell_type": "code",
   "execution_count": 30,
   "metadata": {},
   "outputs": [
    {
     "data": {
      "text/plain": [
       "{'evs': array([-1.28452261]), 'stds': array([0.01488615])}"
      ]
     },
     "execution_count": 30,
     "metadata": {},
     "output_type": "execute_result"
    }
   ],
   "source": [
    "exec_result[0].metadata['noisy_results'].__dict__"
   ]
  },
  {
   "cell_type": "code",
   "execution_count": 31,
   "metadata": {},
   "outputs": [
    {
     "name": "stdout",
     "output_type": "stream",
     "text": [
      "-231.77831320185888 -231.7873476531096 0.009034451250727216\n",
      "-230.18301293165405 -231.7810246544127 0.025905186323406812\n",
      "0.002711452553825211 0.006322998696902005 0.006757494126844676\n"
     ]
    }
   ],
   "source": [
    "obs_ps, obs_cs = pauli_coeff_separation(exp_obs)\n",
    "obs_dict = { pp:cc for pp,cc in zip(obs_ps, obs_cs)}\n",
    "zero_coeff = obs_dict['I'*12]\n",
    "full_qesem_exp = zero_coeff + exec_result[0].data['evs'][0]\n",
    "\n",
    "print(theo_energy, partial_eigvals[0], abs(theo_energy - partial_eigvals[0]))\n",
    "print(zero_coeff, full_qesem_exp, exec_result[0].data['stds'][0])\n",
    "print(abs(full_qesem_exp - theo_energy), abs(full_qesem_exp - partial_eigvals[0]), abs(full_qesem_exp - true_eigvals[0]))"
   ]
  },
  {
   "cell_type": "code",
   "execution_count": null,
   "metadata": {},
   "outputs": [],
   "source": []
  }
 ],
 "metadata": {
  "kernelspec": {
   "display_name": "qnew",
   "language": "python",
   "name": "python3"
  },
  "language_info": {
   "codemirror_mode": {
    "name": "ipython",
    "version": 3
   },
   "file_extension": ".py",
   "mimetype": "text/x-python",
   "name": "python",
   "nbconvert_exporter": "python",
   "pygments_lexer": "ipython3",
   "version": "3.12.4"
  }
 },
 "nbformat": 4,
 "nbformat_minor": 2
}
