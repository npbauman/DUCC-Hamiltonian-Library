{
 "cells": [
  {
   "cell_type": "code",
   "execution_count": null,
   "metadata": {},
   "outputs": [
    {
     "name": "stdout",
     "output_type": "stream",
     "text": [
      "  - Number of electrons: 6\n",
      "  - Number of orbitals: 6\n",
      "  - DUCC: 3\n",
      "  - Target molecule: FreeBasedPorphyrin66DUCC3\n",
      "  - Input file: ../DUCC-Hamiltonian-Library/FBP/FreeBasedPorphyrin.out-xacc\n",
      "0:  IXYXXIIIIIII   0.0123183193644536\n",
      "1:  IIIIIIIXYXXI   0.009412132266220397\n",
      "2:  IIIIIIIYZZZX   0.009143387921540125\n",
      "3:  IYZZZXIIIIII   0.008927078743795391\n",
      "4:  IXZZXIIYZZXI   0.0071785118115030855\n",
      "5:  IIXXIIIIXYII   0.006601006552841682\n",
      "6:  IIIIIIIYZZZX   0.005938926870157957\n",
      "7:  IIXZXIIIYZXI   0.00547883963622553\n",
      "8:  IXZXIIIXZYII   0.004487241603783332\n"
     ]
    }
   ],
   "source": [
    "import sys\n",
    "sys.path.insert(0, './src/')\n",
    "\n",
    "import nwq2qis\n",
    "from nwq2qis import *\n",
    "\n",
    "\n",
    "\n",
    "##\n",
    "import numpy as np\n",
    "np.set_printoptions(suppress=True)\n",
    "import qiskit\n",
    "import qiskit.quantum_info as qi\n",
    "from qiskit_nature.second_q.mappers import JordanWignerMapper, InterleavedQubitMapper\n",
    "from _gcim_utilis import parse_hamiltonian\n",
    "import scipy.sparse.linalg as ssl\n",
    "import scipy.linalg as sl\n",
    "from qiskit_algorithms.optimizers import COBYLA, SPSA\n",
    "from qiskit import transpile\n",
    "from qiskit_ibm_runtime import QiskitRuntimeService\n",
    "from qiskit.transpiler.preset_passmanagers import generate_preset_pass_manager\n",
    "from qiskit_ibm_runtime import EstimatorV2 as Estimator\n",
    "import json\n",
    "from qiskit_ibm_runtime import RuntimeEncoder\n",
    "from qiskit.primitives import StatevectorEstimator\n",
    "##\n",
    "\n",
    "n_orb = 6\n",
    "n_a = 3\n",
    "n_b = 3\n",
    "ducc_lvl = 3\n",
    "results_file = '../Qubit-ADAPT-VQE/printout_qubit_fbp.txt'\n",
    "output_folder = 'Example_Outputs/FBP' ## Please create this folder before you run the code\n",
    "noise_factors = [1,3,5,7,9]\n",
    "selected_iter = 2 ## which qubit-adapt-vqe iteration, start from 0\n",
    "FIRST_NTERMS = 59  # first 59 groups of Paulis\n",
    "\n",
    "mol_name =  f'FreeBasedPorphyrin{n_a+n_b}{n_orb}DUCC{ducc_lvl}'\n",
    "file_path = \"../FBP/FreeBasedPorphyrin.out-xacc\"\n",
    "print(\"  - Number of electrons:\", n_a + n_b)\n",
    "print(\"  - Number of orbitals:\", n_orb)\n",
    "print(\"  - DUCC:\", ducc_lvl)\n",
    "print(\"  - Target molecule:\", mol_name)\n",
    "print(\"  - Input file:\", file_path)\n",
    "\n",
    "fermi_ham = parse_hamiltonian(file_path, n_orb, interleaved=False, return_type = 'qiskit')\n",
    "nwqsim_dict = extract_nwqsim_output(results_file, inverse_pauli=False)\n",
    "\n",
    "mapper = JordanWignerMapper()\n",
    "qubit_op = mapper.map(fermi_ham)\n",
    "\n",
    "true_eigvals = ssl.eigsh(qubit_op.to_matrix(sparse=True),2,which='SA')[0]\n",
    "\n",
    "errors = np.abs( np.array(nwqsim_dict['energies']) - true_eigvals[0] )\n",
    "for i, error in enumerate(errors):\n",
    "    if i > 8:\n",
    "        break\n",
    "    print(f\"{i}:  {str(nwqsim_dict['operators'][i].paulis[0])}   {error}\")"
   ]
  },
  {
   "cell_type": "code",
   "execution_count": 44,
   "metadata": {},
   "outputs": [
    {
     "data": {
      "text/plain": [
       "210"
      ]
     },
     "execution_count": 44,
     "metadata": {},
     "output_type": "execute_result"
    }
   ],
   "source": [
    "len(qubit_op.group_commuting(qubit_wise=True))"
   ]
  },
  {
   "cell_type": "markdown",
   "metadata": {},
   "source": [
    "## CHOP Hamiltonian"
   ]
  },
  {
   "cell_type": "code",
   "execution_count": null,
   "metadata": {},
   "outputs": [
    {
     "data": {
      "text/plain": [
       "True"
      ]
     },
     "execution_count": 5,
     "metadata": {},
     "output_type": "execute_result"
    }
   ],
   "source": [
    "np.set_printoptions(suppress=True)\n",
    "pauli_dict, coeff_dict = grouped_pauli_in_dict(qubit_op, use_qwc=True)\n",
    "pas_ch, cas_ch = pauli_coeff_separation(qubit_op)\n",
    "\n",
    "ham_dict_ch = { pp:cc for pp,cc in zip(pas_ch, cas_ch)}\n",
    "\n",
    "test = SparsePauliOp(list(ham_dict_ch.keys()), list(ham_dict_ch.values()) )\n",
    "test.equiv(qubit_op)"
   ]
  },
  {
   "cell_type": "markdown",
   "metadata": {},
   "source": [
    "## Optimize Parameters"
   ]
  },
  {
   "cell_type": "code",
   "execution_count": null,
   "metadata": {},
   "outputs": [
    {
     "name": "stdout",
     "output_type": "stream",
     "text": [
      "\n",
      "   Normal return from subroutine COBYLA\n",
      "\n",
      "   NFVALS =   86   F =-9.867641E+02    MAXCV = 0.000000E+00\n",
      "   X =-5.764837E-01  -5.767715E-01   5.353437E-02\n",
      "OrderedDict({'u': 28, 'cx': 19, 'barrier': 1}) -986.7641040677287 -986.7641018705452\n"
     ]
    },
    {
     "data": {
      "text/plain": [
       "array([-0.57648369, -0.57677154,  0.05353437])"
      ]
     },
     "execution_count": 7,
     "metadata": {},
     "output_type": "execute_result"
    }
   ],
   "source": [
    "import nwq2qis\n",
    "import importlib\n",
    "importlib.reload(nwq2qis)\n",
    "from nwq2qis import *\n",
    "\n",
    "vqe_circ, symbol_params = create_vqe_circ(nwqsim_dict['operators'][:selected_iter+1], \n",
    "                                            n_orb*2, n_a+n_b, interleaved=False, half_barriar=True)\n",
    "\n",
    "## Optimize parameters\n",
    "def cost_func(parameters):\n",
    "    \"\"\"Compute the energy for given parameters.\"\"\"\n",
    "    estimator = StatevectorEstimator()\n",
    "    job = estimator.run([(vqe_circ, qubit_op, parameters)])\n",
    "    return float( job.result()[0].data.evs )\n",
    "\n",
    "num_vars = len(nwqsim_dict['parameters'][:selected_iter+1])\n",
    "optimizer = COBYLA(maxiter=5000, disp=True)\n",
    "result = optimizer.minimize(cost_func, nwqsim_dict['parameters'][:selected_iter+1])\n",
    "\n",
    "pre_opt_params = result.x\n",
    "\n",
    "basis_gates = ['u', 'cx']\n",
    "trans_vqe_opt = transpile(vqe_circ.assign_parameters(pre_opt_params), basis_gates=basis_gates, \n",
    "                          optimization_level=2, seed_transpiler=7)\n",
    "print(trans_vqe_opt.count_ops(), cost_func(pre_opt_params), nwqsim_dict['energies'][selected_iter])\n",
    "\n",
    "np.save(f\"{output_folder}/optparam-vqe-itr{selected_iter}.npy\", pre_opt_params)\n",
    "pre_opt_params"
   ]
  },
  {
   "cell_type": "code",
   "execution_count": 8,
   "metadata": {},
   "outputs": [
    {
     "data": {
      "text/html": [
       "<pre style=\"word-wrap: normal;white-space: pre;background: #fff0;line-height: 1.1;font-family: &quot;Courier New&quot;,Courier,monospace\">      ┌───────────┐                                                        ░ »\n",
       " q_0: ┤ U3(π,0,π) ├────────────────────────────────────────────────────────░─»\n",
       "      ├───────────┤                                                        ░ »\n",
       " q_1: ┤ U3(π,0,π) ├────────────────────────────────────────────────────────░─»\n",
       "      ├───────────┤                                                        ░ »\n",
       " q_2: ┤ U3(π,0,π) ├────────────────────────────────────────────────────────░─»\n",
       "      └───────────┘                                                        ░ »\n",
       " q_3: ─────────────────────────────────────────────────────────────────────░─»\n",
       "                                                                           ░ »\n",
       " q_4: ─────────────────────────────────────────────────────────────────────░─»\n",
       "                                                                           ░ »\n",
       " q_5: ─────────────────────────────────────────────────────────────────────░─»\n",
       "      ┌───────────┐                                                        ░ »\n",
       " q_6: ┤ U3(π,0,π) ├────────────────────────────────────────────────────────░─»\n",
       "      ├───────────┤┌───┐     ┌───┐┌───────────────┐┌───┐┌───┐              ░ »\n",
       " q_7: ┤ U3(π,0,π) ├┤ H ├─────┤ X ├┤ Rz(0.25*θ[0]) ├┤ X ├┤ H ├──────────────░─»\n",
       "      ├───────────┤├───┤┌───┐└─┬─┘└───────────────┘└─┬─┘├───┤┌───┐         ░ »\n",
       " q_8: ┤ U3(π,0,π) ├┤ H ├┤ X ├──■─────────────────────■──┤ X ├┤ H ├─────────░─»\n",
       "      └───┬────┬──┘├───┤└─┬─┘                           └─┬─┘├───┤┌──────┐ ░ »\n",
       " q_9: ────┤ √X ├───┤ X ├──■───────────────────────────────■──┤ X ├┤ √Xdg ├─░─»\n",
       "          ├───┬┘   └─┬─┘                                     └─┬─┘└┬───┬─┘ ░ »\n",
       "q_10: ────┤ H ├──────■─────────────────────────────────────────■───┤ H ├───░─»\n",
       "          └───┘                                                    └───┘   ░ »\n",
       "q_11: ─────────────────────────────────────────────────────────────────────░─»\n",
       "                                                                           ░ »\n",
       "«      ┌───┐                                                                   »\n",
       "« q_0: ┤ H ├───────────────────────────────────────────────────────────────────»\n",
       "«      ├───┤           ┌───┐┌───────────────┐┌───┐┌───┐                        »\n",
       "« q_1: ┤ H ├───────────┤ X ├┤ Rz(0.25*θ[1]) ├┤ X ├┤ H ├────────────────────────»\n",
       "«      ├───┤      ┌───┐└─┬─┘└───────────────┘└─┬─┘├───┤┌───┐                   »\n",
       "« q_2: ┤ H ├──────┤ X ├──■─────────────────────■──┤ X ├┤ H ├───────────────────»\n",
       "«      ├───┴┐┌───┐└─┬─┘                           └─┬─┘├───┤┌──────┐      ┌───┐»\n",
       "« q_3: ┤ √X ├┤ X ├──■───────────────────────────────■──┤ X ├┤ √Xdg ├──────┤ X ├»\n",
       "«      ├───┬┘└─┬─┘                                     └─┬─┘└┬───┬─┘┌────┐└─┬─┘»\n",
       "« q_4: ┤ H ├───■─────────────────────────────────────────■───┤ H ├──┤ √X ├──■──»\n",
       "«      └───┘                                                 └───┘  └────┘     »\n",
       "« q_5: ────────────────────────────────────────────────────────────────────────»\n",
       "«                                                                              »\n",
       "« q_6: ────────────────────────────────────────────────────────────────────────»\n",
       "«                                                                              »\n",
       "« q_7: ────────────────────────────────────────────────────────────────────────»\n",
       "«                                                                              »\n",
       "« q_8: ────────────────────────────────────────────────────────────────────────»\n",
       "«                                                                              »\n",
       "« q_9: ────────────────────────────────────────────────────────────────────────»\n",
       "«                                                                              »\n",
       "«q_10: ────────────────────────────────────────────────────────────────────────»\n",
       "«                                                                              »\n",
       "«q_11: ────────────────────────────────────────────────────────────────────────»\n",
       "«                                                                              »\n",
       "«                ┌───┐┌──────────────┐┌───┐┌───┐                  \n",
       "« q_0: ──────────┤ X ├┤ Rz(1.0*θ[2]) ├┤ X ├┤ H ├──────────────────\n",
       "«           ┌───┐└─┬─┘└──────────────┘└─┬─┘├───┤                  \n",
       "« q_1: ─────┤ X ├──■────────────────────■──┤ X ├──────────────────\n",
       "«      ┌───┐└─┬─┘                          └─┬─┘┌───┐             \n",
       "« q_2: ┤ X ├──■──────────────────────────────■──┤ X ├─────────────\n",
       "«      └─┬─┘                                    └─┬─┘┌───┐        \n",
       "« q_3: ──■────────────────────────────────────────■──┤ X ├────────\n",
       "«                                                    └─┬─┘┌──────┐\n",
       "« q_4: ────────────────────────────────────────────────■──┤ √Xdg ├\n",
       "«                                                         └──────┘\n",
       "« q_5: ───────────────────────────────────────────────────────────\n",
       "«                                                                 \n",
       "« q_6: ───────────────────────────────────────────────────────────\n",
       "«                                                                 \n",
       "« q_7: ───────────────────────────────────────────────────────────\n",
       "«                                                                 \n",
       "« q_8: ───────────────────────────────────────────────────────────\n",
       "«                                                                 \n",
       "« q_9: ───────────────────────────────────────────────────────────\n",
       "«                                                                 \n",
       "«q_10: ───────────────────────────────────────────────────────────\n",
       "«                                                                 \n",
       "«q_11: ───────────────────────────────────────────────────────────\n",
       "«                                                                 </pre>"
      ],
      "text/plain": [
       "      ┌───────────┐                                                        ░ »\n",
       " q_0: ┤ U3(π,0,π) ├────────────────────────────────────────────────────────░─»\n",
       "      ├───────────┤                                                        ░ »\n",
       " q_1: ┤ U3(π,0,π) ├────────────────────────────────────────────────────────░─»\n",
       "      ├───────────┤                                                        ░ »\n",
       " q_2: ┤ U3(π,0,π) ├────────────────────────────────────────────────────────░─»\n",
       "      └───────────┘                                                        ░ »\n",
       " q_3: ─────────────────────────────────────────────────────────────────────░─»\n",
       "                                                                           ░ »\n",
       " q_4: ─────────────────────────────────────────────────────────────────────░─»\n",
       "                                                                           ░ »\n",
       " q_5: ─────────────────────────────────────────────────────────────────────░─»\n",
       "      ┌───────────┐                                                        ░ »\n",
       " q_6: ┤ U3(π,0,π) ├────────────────────────────────────────────────────────░─»\n",
       "      ├───────────┤┌───┐     ┌───┐┌───────────────┐┌───┐┌───┐              ░ »\n",
       " q_7: ┤ U3(π,0,π) ├┤ H ├─────┤ X ├┤ Rz(0.25*θ[0]) ├┤ X ├┤ H ├──────────────░─»\n",
       "      ├───────────┤├───┤┌───┐└─┬─┘└───────────────┘└─┬─┘├───┤┌───┐         ░ »\n",
       " q_8: ┤ U3(π,0,π) ├┤ H ├┤ X ├──■─────────────────────■──┤ X ├┤ H ├─────────░─»\n",
       "      └───┬────┬──┘├───┤└─┬─┘                           └─┬─┘├───┤┌──────┐ ░ »\n",
       " q_9: ────┤ √X ├───┤ X ├──■───────────────────────────────■──┤ X ├┤ √Xdg ├─░─»\n",
       "          ├───┬┘   └─┬─┘                                     └─┬─┘└┬───┬─┘ ░ »\n",
       "q_10: ────┤ H ├──────■─────────────────────────────────────────■───┤ H ├───░─»\n",
       "          └───┘                                                    └───┘   ░ »\n",
       "q_11: ─────────────────────────────────────────────────────────────────────░─»\n",
       "                                                                           ░ »\n",
       "«      ┌───┐                                                                   »\n",
       "« q_0: ┤ H ├───────────────────────────────────────────────────────────────────»\n",
       "«      ├───┤           ┌───┐┌───────────────┐┌───┐┌───┐                        »\n",
       "« q_1: ┤ H ├───────────┤ X ├┤ Rz(0.25*θ[1]) ├┤ X ├┤ H ├────────────────────────»\n",
       "«      ├───┤      ┌───┐└─┬─┘└───────────────┘└─┬─┘├───┤┌───┐                   »\n",
       "« q_2: ┤ H ├──────┤ X ├──■─────────────────────■──┤ X ├┤ H ├───────────────────»\n",
       "«      ├───┴┐┌───┐└─┬─┘                           └─┬─┘├───┤┌──────┐      ┌───┐»\n",
       "« q_3: ┤ √X ├┤ X ├──■───────────────────────────────■──┤ X ├┤ √Xdg ├──────┤ X ├»\n",
       "«      ├───┬┘└─┬─┘                                     └─┬─┘└┬───┬─┘┌────┐└─┬─┘»\n",
       "« q_4: ┤ H ├───■─────────────────────────────────────────■───┤ H ├──┤ √X ├──■──»\n",
       "«      └───┘                                                 └───┘  └────┘     »\n",
       "« q_5: ────────────────────────────────────────────────────────────────────────»\n",
       "«                                                                              »\n",
       "« q_6: ────────────────────────────────────────────────────────────────────────»\n",
       "«                                                                              »\n",
       "« q_7: ────────────────────────────────────────────────────────────────────────»\n",
       "«                                                                              »\n",
       "« q_8: ────────────────────────────────────────────────────────────────────────»\n",
       "«                                                                              »\n",
       "« q_9: ────────────────────────────────────────────────────────────────────────»\n",
       "«                                                                              »\n",
       "«q_10: ────────────────────────────────────────────────────────────────────────»\n",
       "«                                                                              »\n",
       "«q_11: ────────────────────────────────────────────────────────────────────────»\n",
       "«                                                                              »\n",
       "«                ┌───┐┌──────────────┐┌───┐┌───┐                  \n",
       "« q_0: ──────────┤ X ├┤ Rz(1.0*θ[2]) ├┤ X ├┤ H ├──────────────────\n",
       "«           ┌───┐└─┬─┘└──────────────┘└─┬─┘├───┤                  \n",
       "« q_1: ─────┤ X ├──■────────────────────■──┤ X ├──────────────────\n",
       "«      ┌───┐└─┬─┘                          └─┬─┘┌───┐             \n",
       "« q_2: ┤ X ├──■──────────────────────────────■──┤ X ├─────────────\n",
       "«      └─┬─┘                                    └─┬─┘┌───┐        \n",
       "« q_3: ──■────────────────────────────────────────■──┤ X ├────────\n",
       "«                                                    └─┬─┘┌──────┐\n",
       "« q_4: ────────────────────────────────────────────────■──┤ √Xdg ├\n",
       "«                                                         └──────┘\n",
       "« q_5: ───────────────────────────────────────────────────────────\n",
       "«                                                                 \n",
       "« q_6: ───────────────────────────────────────────────────────────\n",
       "«                                                                 \n",
       "« q_7: ───────────────────────────────────────────────────────────\n",
       "«                                                                 \n",
       "« q_8: ───────────────────────────────────────────────────────────\n",
       "«                                                                 \n",
       "« q_9: ───────────────────────────────────────────────────────────\n",
       "«                                                                 \n",
       "«q_10: ───────────────────────────────────────────────────────────\n",
       "«                                                                 \n",
       "«q_11: ───────────────────────────────────────────────────────────\n",
       "«                                                                 "
      ]
     },
     "execution_count": 8,
     "metadata": {},
     "output_type": "execute_result"
    }
   ],
   "source": [
    "vqe_circ.decompose().draw()"
   ]
  },
  {
   "cell_type": "markdown",
   "metadata": {},
   "source": [
    "## Choose First X groups that has the largest sum of coefficients"
   ]
  },
  {
   "cell_type": "code",
   "execution_count": null,
   "metadata": {},
   "outputs": [
    {
     "name": "stdout",
     "output_type": "stream",
     "text": [
      "Selected Pauli strings: 59\n"
     ]
    },
    {
     "data": {
      "text/plain": [
       "(array([-986.76734685, -986.69267557]), 0.005898407340055201)"
      ]
     },
     "execution_count": 11,
     "metadata": {},
     "output_type": "execute_result"
    }
   ],
   "source": [
    "from nwq2qis import *\n",
    "\n",
    "FIRST_NTERMS = 59\n",
    "## Select first N Groups depends on the sum of abs of coefficients\n",
    "coeffs_selected = dict_sort_and_select(coeff_dict,FIRST_NTERMS)\n",
    "pauli_selected = {k:v for k,v in pauli_dict.items() if k in coeffs_selected.keys()}\n",
    "## Construct Partial Hamiltonian\n",
    "counter = 0\n",
    "partial_hamop = None\n",
    "for k in pauli_selected.keys():\n",
    "    sub_ham = qiskit.quantum_info.SparsePauliOp(pauli_selected[k], coeffs_selected[k])\n",
    "    if partial_hamop is None:\n",
    "        partial_hamop = sub_ham\n",
    "    else:\n",
    "        partial_hamop += sub_ham\n",
    "    counter += 1\n",
    "\n",
    "## Eigenvalues\n",
    "partial_eigvals = ssl.eigsh(partial_hamop.to_matrix(sparse=True),2,which='SA')[0]\n",
    "\n",
    "print(\"Selected Pauli strings:\", len(pauli_selected))\n",
    "partial_eigvals, abs(partial_eigvals[0] - true_eigvals[0])"
   ]
  },
  {
   "cell_type": "markdown",
   "metadata": {},
   "source": [
    "### Group Pauli Operators and Generate Circuits"
   ]
  },
  {
   "cell_type": "code",
   "execution_count": null,
   "metadata": {},
   "outputs": [
    {
     "name": "stdout",
     "output_type": "stream",
     "text": [
      "Number of commuting groups: 59\n",
      "-986.7608388335083 -986.7673468511267 0.006508017618443773\n"
     ]
    }
   ],
   "source": [
    "pauli_dict_partial, coeff_dict_partial = pauli_selected,coeffs_selected\n",
    "circ_dict = commuting_circs(list(pauli_dict_partial.keys()), trans_vqe_opt, add_measure = True, \n",
    "                            noise_factors=noise_factors, inverse_pauli = False, noise_type='half') ## Form circuits for each commuting group\n",
    "circ_dict_nomeasure = commuting_circs(list(pauli_dict_partial.keys()), trans_vqe_opt, add_measure = False, \n",
    "                            noise_factors=noise_factors, inverse_pauli = False, noise_type='half') ## Form circuits for each commuting group\n",
    "print(\"Number of commuting groups:\",len(list(pauli_dict_partial.keys())))\n",
    "\n",
    "## Exact Solutions\n",
    "theo_state = qi.Statevector.from_instruction(vqe_circ.assign_parameters(pre_opt_params)) ## exact state\n",
    "theo_energy = theo_state.expectation_value(partial_hamop).real\n",
    "print(theo_energy, partial_eigvals[0], abs(theo_energy - partial_eigvals[0]))"
   ]
  },
  {
   "cell_type": "code",
   "execution_count": 45,
   "metadata": {},
   "outputs": [
    {
     "name": "stdout",
     "output_type": "stream",
     "text": [
      "Chopped/unchopped # of Pauli strings  = 311/735\n"
     ]
    }
   ],
   "source": [
    "print(f\"Chopped/unchopped # of Pauli strings  = {len(partial_hamop)}/{len(qubit_op)}\")"
   ]
  },
  {
   "cell_type": "markdown",
   "metadata": {},
   "source": [
    "## Qiskit Estimator"
   ]
  },
  {
   "cell_type": "code",
   "execution_count": 13,
   "metadata": {},
   "outputs": [
    {
     "data": {
      "text/plain": [
       "(-986.7608388335102,\n",
       " -986.7608388343695,\n",
       " -0.012406424956566298,\n",
       " -0.012406424097321178,\n",
       " 0.009143387921540125)"
      ]
     },
     "execution_count": 13,
     "metadata": {},
     "output_type": "execute_result"
    }
   ],
   "source": [
    "from qiskit.primitives import StatevectorEstimator\n",
    "estimator = StatevectorEstimator()\n",
    "job = estimator.run([(trans_vqe_opt, partial_hamop)])\n",
    "job_pre = estimator.run([(trans_vqe_opt, partial_hamop)], precision=1e-8)\n",
    "float( job.result()[0].data.evs ), float( job_pre.result()[0].data.evs ), true_eigvals[0]-float( job.result()[0].data.evs ), true_eigvals[0]-float( job_pre.result()[0].data.evs ), errors[selected_iter]"
   ]
  },
  {
   "cell_type": "code",
   "execution_count": null,
   "metadata": {},
   "outputs": [
    {
     "name": "stdout",
     "output_type": "stream",
     "text": [
      "FBPChop_Outputs_QESEM/itr2_qasm\n"
     ]
    },
    {
     "data": {
      "text/plain": [
       "OrderedDict([('u', 28), ('cx', 19), ('barrier', 1)])"
      ]
     },
     "execution_count": 14,
     "metadata": {},
     "output_type": "execute_result"
    }
   ],
   "source": [
    "trans_vqe_opt.count_ops()"
   ]
  },
  {
   "cell_type": "markdown",
   "metadata": {},
   "source": [
    "## QESEM"
   ]
  },
  {
   "cell_type": "code",
   "execution_count": 41,
   "metadata": {},
   "outputs": [
    {
     "data": {
      "text/plain": [
       "-986.7608388335102"
      ]
     },
     "execution_count": 41,
     "metadata": {},
     "output_type": "execute_result"
    }
   ],
   "source": [
    "exp_obs = partial_hamop\n",
    "state_prep_circ = trans_vqe_opt\n",
    "\n",
    "from qiskit.primitives import StatevectorEstimator\n",
    "estimator = StatevectorEstimator()\n",
    "rt_exp = estimator.run([(state_prep_circ, exp_obs)]).result()[0].data.evs\n",
    "float( rt_exp)"
   ]
  },
  {
   "cell_type": "code",
   "execution_count": null,
   "metadata": {},
   "outputs": [
    {
     "name": "stdout",
     "output_type": "stream",
     "text": [
      "[<IBMBackend('ibm_kingston')>, <IBMBackend('ibm_marrakesh')>, <IBMBackend('ibm_strasbourg')>, <IBMBackend('ibm_brisbane')>, <IBMBackend('ibm_brussels')>, <IBMBackend('ibm_sherbrooke')>, <IBMBackend('ibm_torino')>, <IBMBackend('ibm_aachen')>, <IBMBackend('ibm_fez')>]\n",
      "ibm_kingston\n"
     ]
    }
   ],
   "source": [
    "from qiskit_ibm_runtime import QiskitRuntimeService\n",
    "service = QiskitRuntimeService(\n",
    "    channel='ibm_quantum',\n",
    "    instance='',\n",
    "    token=''\n",
    ")\n",
    "print(service.backends()) ## service.backends(simulator=False, operational=True, min_num_qubits=5)\n",
    "backend = service.backend(\"ibm_kingston\")\n",
    "print(backend.name)"
   ]
  },
  {
   "cell_type": "code",
   "execution_count": 49,
   "metadata": {},
   "outputs": [
    {
     "name": "stdout",
     "output_type": "stream",
     "text": [
      "[QiskitFunction(qedma/qesem), QiskitFunction(ibm/circuit-function)]\n"
     ]
    }
   ],
   "source": [
    "from qiskit_ibm_catalog import QiskitFunctionsCatalog\n",
    "catalog = QiskitFunctionsCatalog()\n",
    "print(catalog.list())\n",
    "qesem_function = catalog.load(\"qedma/qesem\")"
   ]
  },
  {
   "cell_type": "markdown",
   "metadata": {},
   "source": [
    "#### Estimate running time"
   ]
  },
  {
   "cell_type": "markdown",
   "metadata": {},
   "source": [
    "#### Empirical"
   ]
  },
  {
   "cell_type": "code",
   "execution_count": 50,
   "metadata": {},
   "outputs": [
    {
     "data": {
      "text/plain": [
       "(OrderedDict([('u', 28), ('cx', 19), ('barrier', 1)]), 311)"
      ]
     },
     "execution_count": 50,
     "metadata": {},
     "output_type": "execute_result"
    }
   ],
   "source": [
    "state_prep_circ.count_ops(),len(exp_obs)"
   ]
  },
  {
   "cell_type": "code",
   "execution_count": null,
   "metadata": {},
   "outputs": [
    {
     "name": "stdout",
     "output_type": "stream",
     "text": [
      "Time estimation\n",
      ">>> Job ID: b730f338-ec04-4704-873f-54463a517cd3\n",
      ">>> Job Status: QUEUED\n"
     ]
    }
   ],
   "source": [
    "time_estimation_job = qesem_function.run(\n",
    "    pubs=[(state_prep_circ, [exp_obs])],\n",
    "    options={\n",
    "        \"default_precision\": 0.02, \n",
    "        \"max_execution_time\": 300, \n",
    "        \"transpilation_level\": 1,\n",
    "        \"execution_mode\": \"batch\",  ## \"session\" / \"batch\", when batch, QPU is released during classical computation\n",
    "        \"estimate_time_only\": \"empirical\",\n",
    "    },\n",
    "    instance='',\n",
    "    backend_name=backend.name,  # E.g. \"ibm_brisbane\"\n",
    ")\n",
    "\n",
    "print(\"Time estimation\")\n",
    "print(f\">>> Job ID: {time_estimation_job.job_id}\")\n",
    "print(f\">>> Job Status: {time_estimation_job.status()}\")"
   ]
  },
  {
   "cell_type": "code",
   "execution_count": 75,
   "metadata": {},
   "outputs": [
    {
     "data": {
      "text/plain": [
       "'DONE'"
      ]
     },
     "execution_count": 75,
     "metadata": {},
     "output_type": "execute_result"
    }
   ],
   "source": [
    "time_estimation_job = catalog.get_job_by_id(\"b730f338-ec04-4704-873f-54463a517cd3\")\n",
    "time_estimation_job.status()"
   ]
  },
  {
   "cell_type": "code",
   "execution_count": null,
   "metadata": {},
   "outputs": [
    {
     "data": {
      "text/plain": [
       "PrimitiveResult([PubResult(data=DataBin(), metadata={'time_estimation_sec': 600})], metadata={})"
      ]
     },
     "execution_count": 76,
     "metadata": {},
     "output_type": "execute_result"
    }
   ],
   "source": [
    "time_result = time_estimation_job.result()\n",
    "time_result"
   ]
  },
  {
   "cell_type": "markdown",
   "metadata": {},
   "source": [
    "## Execution"
   ]
  },
  {
   "cell_type": "code",
   "execution_count": null,
   "metadata": {},
   "outputs": [
    {
     "name": "stdout",
     "output_type": "stream",
     "text": [
      "Execution\n",
      ">>> Job ID: 4e54cb03-2e84-4efa-ba7d-801877b6e91e\n",
      ">>> Job Status: QUEUED\n"
     ]
    }
   ],
   "source": [
    "exec_job = qesem_function.run(\n",
    "    pubs=[(state_prep_circ, [exp_obs])],\n",
    "    options={\n",
    "        \"default_precision\": 0.02, \n",
    "        \"max_execution_time\": 2400, \n",
    "        \"transpilation_level\": 1,\n",
    "        \"execution_mode\": \"batch\",  ## \"session\" / \"batch\", when batch, QPU is released during classical computation\n",
    "    },\n",
    "    instance='',\n",
    "    backend_name=backend.name,  # E.g. \"ibm_brisbane\"\n",
    ")\n",
    "\n",
    "print(\"Execution\")\n",
    "print(f\">>> Job ID: {exec_job.job_id}\")  ## 4e54cb03-2e84-4efa-ba7d-801877b6e91e\n",
    "print(f\">>> Job Status: {exec_job.status()}\")"
   ]
  },
  {
   "cell_type": "code",
   "execution_count": 81,
   "metadata": {},
   "outputs": [
    {
     "data": {
      "text/plain": [
       "'DONE'"
      ]
     },
     "execution_count": 81,
     "metadata": {},
     "output_type": "execute_result"
    }
   ],
   "source": [
    "exec_job.status()"
   ]
  },
  {
   "cell_type": "code",
   "execution_count": 82,
   "metadata": {},
   "outputs": [
    {
     "data": {
      "text/plain": [
       "PrimitiveResult([PubResult(data=DataBin(evs=np.ndarray(<shape=(1,), dtype=float64>), stds=np.ndarray(<shape=(1,), dtype=float64>), shape=(1,)), metadata={'gate_fidelities': {'CZ': 0.995571968978783, 'ID1Q': 0.998795695388821}, 'total_shots': 636200, 'mitigation_shots': 300000, 'transpiled_circs': [{'circuit': 'OPENQASM 3.0;\\ninclude \"stdgates.inc\";\\nbit[156] c0;\\nqubit[156] q1;\\nrz(-pi) q1[0];\\nrz(-pi) q1[1];\\nrz(pi/4) q1[2];\\nrz(0) q1[3];\\nrz(-pi) q1[4];\\nrz(pi/2) q1[64];\\nrz(-pi) q1[134];\\nrz(pi/4) q1[135];\\nrz(-pi) q1[139];\\nrz(-pi) q1[155];\\nrz(pi/2) q1[109];\\nsx q1[0];\\nsx q1[1];\\nsx q1[2];\\nsx q1[3];\\nsx q1[4];\\nsx q1[64];\\nsx q1[134];\\nsx q1[135];\\nsx q1[139];\\nsx q1[155];\\nsx q1[109];\\nrz(-pi/2) q1[0];\\nrz(-pi/2) q1[1];\\nrz(0) q1[2];\\nrz(-pi/2) q1[3];\\nrz(-pi/2) q1[4];\\nrz(0) q1[64];\\nrz(-pi/2) q1[134];\\nrz(0) q1[135];\\nrz(-pi/2) q1[139];\\nrz(-pi/2) q1[155];\\nrz(-pi/2) q1[109];\\nsx q1[0];\\nsx q1[1];\\nsx q1[2];\\nsx q1[3];\\nsx q1[4];\\nsx q1[64];\\nsx q1[134];\\nsx q1[135];\\nsx q1[139];\\nsx q1[155];\\nsx q1[109];\\nrz(1.4711276743037338) q1[0];\\nrz(pi/2) q1[1];\\nrz(3*pi/4) q1[2];\\nrz(-pi) q1[3];\\nrz(pi/2) q1[4];\\nrz(pi/2) q1[64];\\nrz(2.224189697519762) q1[134];\\nrz(3*pi/4) q1[135];\\nrz(0) q1[139];\\nrz(-pi/2) q1[155];\\nrz(pi/2) q1[109];\\nbarrier q1[0], q1[1], q1[2], q1[3], q1[4], q1[64], q1[109], q1[134], q1[135], q1[139], q1[155];\\ncz q1[3], q1[4];\\ncz q1[139], q1[155];\\nbarrier q1[3], q1[4], q1[139], q1[155];\\nbarrier q1[0], q1[1], q1[2], q1[3], q1[4], q1[64], q1[109], q1[134], q1[135], q1[139], q1[155];\\nrz(pi/2) q1[3];\\nrz(pi/2) q1[4];\\nrz(pi/2) q1[139];\\nsx q1[3];\\nsx q1[4];\\nsx q1[139];\\nrz(-pi/2) q1[3];\\nrz(-pi/2) q1[4];\\nrz(-pi/2) q1[139];\\nsx q1[3];\\nsx q1[4];\\nsx q1[139];\\nrz(pi/2) q1[3];\\nrz(-pi) q1[4];\\nrz(-pi/2) q1[139];\\nbarrier q1[0], q1[1], q1[2], q1[3], q1[4], q1[64], q1[109], q1[134], q1[135], q1[139], q1[155];\\ncz q1[2], q1[3];\\ncz q1[135], q1[139];\\nbarrier q1[2], q1[3], q1[135], q1[139];\\nbarrier q1[0], q1[1], q1[2], q1[3], q1[4], q1[64], q1[109], q1[134], q1[135], q1[139], q1[155];\\ncz q1[1], q1[2];\\ncz q1[134], q1[135];\\nbarrier q1[1], q1[2], q1[134], q1[135];\\nbarrier q1[0], q1[1], q1[2], q1[3], q1[4], q1[64], q1[109], q1[134], q1[135], q1[139], q1[155];\\nrz(3*pi/4) q1[1];\\nrz(-pi) q1[2];\\nrz(2.8148959682273595) q1[134];\\nrz(-pi) q1[135];\\nsx q1[1];\\nsx q1[2];\\nsx q1[134];\\nsx q1[135];\\nrz(0) q1[1];\\nrz(-2.99739976813766) q1[2];\\nrz(0) q1[134];\\nrz(-2.9974717300491758) q1[135];\\nsx q1[1];\\nsx q1[2];\\nsx q1[134];\\nsx q1[135];\\nrz(pi/4) q1[1];\\nrz(-pi) q1[2];\\nrz(0.326696685362434) q1[134];\\nrz(-pi) q1[135];\\nbarrier q1[0], q1[1], q1[2], q1[3], q1[4], q1[64], q1[109], q1[134], q1[135], q1[139], q1[155];\\ncz q1[1], q1[2];\\ncz q1[134], q1[135];\\nbarrier q1[1], q1[2], q1[134], q1[135];\\nbarrier q1[0], q1[1], q1[2], q1[3], q1[4], q1[64], q1[109], q1[134], q1[135], q1[139], q1[155];\\ncz q1[2], q1[3];\\ncz q1[135], q1[139];\\nbarrier q1[2], q1[3], q1[135], q1[139];\\nbarrier q1[0], q1[1], q1[2], q1[3], q1[4], q1[64], q1[109], q1[134], q1[135], q1[139], q1[155];\\nrz(3*pi/4) q1[1];\\nrz(pi/2) q1[2];\\nrz(pi/2) q1[3];\\nrz(pi/2) q1[134];\\nrz(0) q1[135];\\nrz(pi/2) q1[139];\\nsx q1[1];\\nsx q1[2];\\nsx q1[3];\\nsx q1[134];\\nsx q1[135];\\nsx q1[139];\\nrz(0) q1[1];\\nrz(-pi/2) q1[2];\\nrz(-pi/2) q1[3];\\nrz(-pi/2) q1[134];\\nrz(-pi/2) q1[135];\\nrz(-pi/2) q1[139];\\nsx q1[1];\\nsx q1[2];\\nsx q1[3];\\nsx q1[134];\\nsx q1[135];\\nsx q1[139];\\nrz(pi/4) q1[1];\\nrz(-pi/2) q1[2];\\nrz(pi/2) q1[3];\\nrz(0) q1[134];\\nrz(pi/2) q1[135];\\nrz(-pi) q1[139];\\nbarrier q1[0], q1[1], q1[2], q1[3], q1[4], q1[64], q1[109], q1[134], q1[135], q1[139], q1[155];\\ncz q1[3], q1[4];\\ncz q1[139], q1[155];\\nbarrier q1[3], q1[4], q1[139], q1[155];\\nbarrier q1[0], q1[1], q1[2], q1[3], q1[4], q1[64], q1[109], q1[134], q1[135], q1[139], q1[155];\\nrz(pi/2) q1[3];\\nrz(pi/2) q1[4];\\nrz(pi/2) q1[139];\\nrz(pi/2) q1[155];\\nsx q1[3];\\nsx q1[4];\\nsx q1[139];\\nsx q1[155];\\nrz(-pi/2) q1[3];\\nrz(-pi/2) q1[4];\\nrz(-pi/2) q1[139];\\nrz(-pi/2) q1[155];\\nsx q1[3];\\nsx q1[4];\\nsx q1[139];\\nsx q1[155];\\nrz(-pi/2) q1[3];\\nrz(pi/2) q1[4];\\nrz(-pi) q1[139];\\nrz(-pi) q1[155];\\nbarrier q1[0], q1[1], q1[2], q1[3], q1[4], q1[64], q1[109], q1[134], q1[135], q1[139], q1[155];\\ncz q1[2], q1[3];\\nbarrier q1[2], q1[3];\\nbarrier q1[0], q1[1], q1[2], q1[3], q1[4], q1[64], q1[109], q1[134], q1[135], q1[139], q1[155];\\nrz(pi/2) q1[2];\\nsx q1[2];\\nrz(-pi/2) q1[2];\\nsx q1[2];\\nrz(-pi/2) q1[2];\\nbarrier q1[0], q1[1], q1[2], q1[3], q1[4], q1[64], q1[109], q1[134], q1[135], q1[139], q1[155];\\ncz q1[1], q1[2];\\nbarrier q1[1], q1[2];\\nbarrier q1[0], q1[1], q1[2], q1[3], q1[4], q1[64], q1[109], q1[134], q1[135], q1[139], q1[155];\\nrz(pi/2) q1[1];\\nsx q1[1];\\nrz(0) q1[1];\\nsx q1[1];\\nrz(pi/2) q1[1];\\nbarrier q1[0], q1[1], q1[2], q1[3], q1[4], q1[64], q1[109], q1[134], q1[135], q1[139], q1[155];\\ncz q1[0], q1[1];\\nbarrier q1[0], q1[1];\\nbarrier q1[0], q1[1], q1[2], q1[3], q1[4], q1[64], q1[109], q1[134], q1[135], q1[139], q1[155];\\nrz(-3.091758327344213) q1[0];\\nrz(-pi) q1[1];\\nsx q1[0];\\nsx q1[1];\\nrz(0) q1[0];\\nrz(-3.08805828605538) q1[1];\\nsx q1[0];\\nsx q1[1];\\nrz(-0.049834326245580485) q1[0];\\nrz(-pi) q1[1];\\nbarrier q1[0], q1[1], q1[2], q1[3], q1[4], q1[64], q1[109], q1[134], q1[135], q1[139], q1[155];\\ncz q1[0], q1[1];\\nbarrier q1[0], q1[1];\\nbarrier q1[0], q1[1], q1[2], q1[3], q1[4], q1[64], q1[109], q1[134], q1[135], q1[139], q1[155];\\nrz(0) q1[0];\\nrz(pi/2) q1[1];\\nsx q1[0];\\nsx q1[1];\\nrz(-pi/2) q1[0];\\nrz(0) q1[1];\\nsx q1[0];\\nsx q1[1];\\nrz(0) q1[0];\\nrz(pi/2) q1[1];\\nbarrier q1[0], q1[1], q1[2], q1[3], q1[4], q1[64], q1[109], q1[134], q1[135], q1[139], q1[155];\\ncz q1[1], q1[2];\\nbarrier q1[1], q1[2];\\nbarrier q1[0], q1[1], q1[2], q1[3], q1[4], q1[64], q1[109], q1[134], q1[135], q1[139], q1[155];\\nrz(pi/2) q1[1];\\nrz(pi/2) q1[2];\\nsx q1[1];\\nsx q1[2];\\nrz(-pi/2) q1[1];\\nrz(-pi/2) q1[2];\\nsx q1[1];\\nsx q1[2];\\nrz(-pi) q1[1];\\nrz(-pi/2) q1[2];\\nbarrier q1[0], q1[1], q1[2], q1[3], q1[4], q1[64], q1[109], q1[134], q1[135], q1[139], q1[155];\\ncz q1[2], q1[3];\\nbarrier q1[2], q1[3];\\nbarrier q1[0], q1[1], q1[2], q1[3], q1[4], q1[64], q1[109], q1[134], q1[135], q1[139], q1[155];\\nrz(pi/2) q1[2];\\nrz(pi/2) q1[3];\\nsx q1[2];\\nsx q1[3];\\nrz(-pi/2) q1[2];\\nrz(-pi/2) q1[3];\\nsx q1[2];\\nsx q1[3];\\nrz(-pi) q1[2];\\nrz(-pi/2) q1[3];\\nbarrier q1[0], q1[1], q1[2], q1[3], q1[4], q1[64], q1[109], q1[134], q1[135], q1[139], q1[155];\\ncz q1[3], q1[4];\\nbarrier q1[3], q1[4];\\nbarrier q1[0], q1[1], q1[2], q1[3], q1[4], q1[64], q1[109], q1[134], q1[135], q1[139], q1[155];\\nrz(pi/2) q1[3];\\nrz(0) q1[4];\\nsx q1[3];\\nsx q1[4];\\nrz(-pi/2) q1[3];\\nrz(-pi) q1[4];\\nsx q1[3];\\nsx q1[4];\\nrz(-pi) q1[3];\\nrz(-pi) q1[4];\\nbarrier q1[0], q1[1], q1[2], q1[3], q1[4], q1[64], q1[109], q1[134], q1[135], q1[139], q1[155];\\nrz(pi) q1[0];\\nsx q1[0];\\nrz(pi) q1[0];\\nrz(pi) q1[4];\\nsx q1[4];\\nrz(pi) q1[4];\\nrz(pi) q1[109];\\nsx q1[109];\\nrz(pi) q1[109];\\nrz(pi) q1[135];\\nsx q1[135];\\nrz(pi) q1[135];\\nbarrier q1[0], q1[1], q1[2], q1[3], q1[4], q1[64], q1[109], q1[134], q1[135], q1[139], q1[155];\\nc0[0] = measure q1[0];\\nc0[1] = measure q1[1];\\nc0[2] = measure q1[2];\\nc0[3] = measure q1[3];\\nc0[4] = measure q1[4];\\nc0[64] = measure q1[64];\\nc0[109] = measure q1[109];\\nc0[134] = measure q1[134];\\nc0[135] = measure q1[135];\\nc0[139] = measure q1[139];\\nc0[155] = measure q1[155];\\n', 'qubit_map': [[0, 0], [1, 1], [2, 2], [3, 3], [4, 4], [5, 149], [6, 64], [7, 134], [8, 135], [9, 139], [10, 155], [11, 109]], 'num_measurement_bases': 57}], 'noisy_results': DataBin(evs=np.ndarray(<shape=(1,), dtype=float64>), stds=np.ndarray(<shape=(1,), dtype=float64>), shape=(1,))})], metadata={})"
      ]
     },
     "execution_count": 82,
     "metadata": {},
     "output_type": "execute_result"
    }
   ],
   "source": [
    "exec_result = catalog.get_job_by_id(\"4e54cb03-2e84-4efa-ba7d-801877b6e91e\").result()\n",
    "exec_result"
   ]
  },
  {
   "cell_type": "code",
   "execution_count": 83,
   "metadata": {},
   "outputs": [
    {
     "data": {
      "text/plain": [
       "{'gate_fidelities': {'CZ': 0.995571968978783, 'ID1Q': 0.998795695388821},\n",
       " 'total_shots': 636200,\n",
       " 'mitigation_shots': 300000,\n",
       " 'transpiled_circs': [{'circuit': 'OPENQASM 3.0;\\ninclude \"stdgates.inc\";\\nbit[156] c0;\\nqubit[156] q1;\\nrz(-pi) q1[0];\\nrz(-pi) q1[1];\\nrz(pi/4) q1[2];\\nrz(0) q1[3];\\nrz(-pi) q1[4];\\nrz(pi/2) q1[64];\\nrz(-pi) q1[134];\\nrz(pi/4) q1[135];\\nrz(-pi) q1[139];\\nrz(-pi) q1[155];\\nrz(pi/2) q1[109];\\nsx q1[0];\\nsx q1[1];\\nsx q1[2];\\nsx q1[3];\\nsx q1[4];\\nsx q1[64];\\nsx q1[134];\\nsx q1[135];\\nsx q1[139];\\nsx q1[155];\\nsx q1[109];\\nrz(-pi/2) q1[0];\\nrz(-pi/2) q1[1];\\nrz(0) q1[2];\\nrz(-pi/2) q1[3];\\nrz(-pi/2) q1[4];\\nrz(0) q1[64];\\nrz(-pi/2) q1[134];\\nrz(0) q1[135];\\nrz(-pi/2) q1[139];\\nrz(-pi/2) q1[155];\\nrz(-pi/2) q1[109];\\nsx q1[0];\\nsx q1[1];\\nsx q1[2];\\nsx q1[3];\\nsx q1[4];\\nsx q1[64];\\nsx q1[134];\\nsx q1[135];\\nsx q1[139];\\nsx q1[155];\\nsx q1[109];\\nrz(1.4711276743037338) q1[0];\\nrz(pi/2) q1[1];\\nrz(3*pi/4) q1[2];\\nrz(-pi) q1[3];\\nrz(pi/2) q1[4];\\nrz(pi/2) q1[64];\\nrz(2.224189697519762) q1[134];\\nrz(3*pi/4) q1[135];\\nrz(0) q1[139];\\nrz(-pi/2) q1[155];\\nrz(pi/2) q1[109];\\nbarrier q1[0], q1[1], q1[2], q1[3], q1[4], q1[64], q1[109], q1[134], q1[135], q1[139], q1[155];\\ncz q1[3], q1[4];\\ncz q1[139], q1[155];\\nbarrier q1[3], q1[4], q1[139], q1[155];\\nbarrier q1[0], q1[1], q1[2], q1[3], q1[4], q1[64], q1[109], q1[134], q1[135], q1[139], q1[155];\\nrz(pi/2) q1[3];\\nrz(pi/2) q1[4];\\nrz(pi/2) q1[139];\\nsx q1[3];\\nsx q1[4];\\nsx q1[139];\\nrz(-pi/2) q1[3];\\nrz(-pi/2) q1[4];\\nrz(-pi/2) q1[139];\\nsx q1[3];\\nsx q1[4];\\nsx q1[139];\\nrz(pi/2) q1[3];\\nrz(-pi) q1[4];\\nrz(-pi/2) q1[139];\\nbarrier q1[0], q1[1], q1[2], q1[3], q1[4], q1[64], q1[109], q1[134], q1[135], q1[139], q1[155];\\ncz q1[2], q1[3];\\ncz q1[135], q1[139];\\nbarrier q1[2], q1[3], q1[135], q1[139];\\nbarrier q1[0], q1[1], q1[2], q1[3], q1[4], q1[64], q1[109], q1[134], q1[135], q1[139], q1[155];\\ncz q1[1], q1[2];\\ncz q1[134], q1[135];\\nbarrier q1[1], q1[2], q1[134], q1[135];\\nbarrier q1[0], q1[1], q1[2], q1[3], q1[4], q1[64], q1[109], q1[134], q1[135], q1[139], q1[155];\\nrz(3*pi/4) q1[1];\\nrz(-pi) q1[2];\\nrz(2.8148959682273595) q1[134];\\nrz(-pi) q1[135];\\nsx q1[1];\\nsx q1[2];\\nsx q1[134];\\nsx q1[135];\\nrz(0) q1[1];\\nrz(-2.99739976813766) q1[2];\\nrz(0) q1[134];\\nrz(-2.9974717300491758) q1[135];\\nsx q1[1];\\nsx q1[2];\\nsx q1[134];\\nsx q1[135];\\nrz(pi/4) q1[1];\\nrz(-pi) q1[2];\\nrz(0.326696685362434) q1[134];\\nrz(-pi) q1[135];\\nbarrier q1[0], q1[1], q1[2], q1[3], q1[4], q1[64], q1[109], q1[134], q1[135], q1[139], q1[155];\\ncz q1[1], q1[2];\\ncz q1[134], q1[135];\\nbarrier q1[1], q1[2], q1[134], q1[135];\\nbarrier q1[0], q1[1], q1[2], q1[3], q1[4], q1[64], q1[109], q1[134], q1[135], q1[139], q1[155];\\ncz q1[2], q1[3];\\ncz q1[135], q1[139];\\nbarrier q1[2], q1[3], q1[135], q1[139];\\nbarrier q1[0], q1[1], q1[2], q1[3], q1[4], q1[64], q1[109], q1[134], q1[135], q1[139], q1[155];\\nrz(3*pi/4) q1[1];\\nrz(pi/2) q1[2];\\nrz(pi/2) q1[3];\\nrz(pi/2) q1[134];\\nrz(0) q1[135];\\nrz(pi/2) q1[139];\\nsx q1[1];\\nsx q1[2];\\nsx q1[3];\\nsx q1[134];\\nsx q1[135];\\nsx q1[139];\\nrz(0) q1[1];\\nrz(-pi/2) q1[2];\\nrz(-pi/2) q1[3];\\nrz(-pi/2) q1[134];\\nrz(-pi/2) q1[135];\\nrz(-pi/2) q1[139];\\nsx q1[1];\\nsx q1[2];\\nsx q1[3];\\nsx q1[134];\\nsx q1[135];\\nsx q1[139];\\nrz(pi/4) q1[1];\\nrz(-pi/2) q1[2];\\nrz(pi/2) q1[3];\\nrz(0) q1[134];\\nrz(pi/2) q1[135];\\nrz(-pi) q1[139];\\nbarrier q1[0], q1[1], q1[2], q1[3], q1[4], q1[64], q1[109], q1[134], q1[135], q1[139], q1[155];\\ncz q1[3], q1[4];\\ncz q1[139], q1[155];\\nbarrier q1[3], q1[4], q1[139], q1[155];\\nbarrier q1[0], q1[1], q1[2], q1[3], q1[4], q1[64], q1[109], q1[134], q1[135], q1[139], q1[155];\\nrz(pi/2) q1[3];\\nrz(pi/2) q1[4];\\nrz(pi/2) q1[139];\\nrz(pi/2) q1[155];\\nsx q1[3];\\nsx q1[4];\\nsx q1[139];\\nsx q1[155];\\nrz(-pi/2) q1[3];\\nrz(-pi/2) q1[4];\\nrz(-pi/2) q1[139];\\nrz(-pi/2) q1[155];\\nsx q1[3];\\nsx q1[4];\\nsx q1[139];\\nsx q1[155];\\nrz(-pi/2) q1[3];\\nrz(pi/2) q1[4];\\nrz(-pi) q1[139];\\nrz(-pi) q1[155];\\nbarrier q1[0], q1[1], q1[2], q1[3], q1[4], q1[64], q1[109], q1[134], q1[135], q1[139], q1[155];\\ncz q1[2], q1[3];\\nbarrier q1[2], q1[3];\\nbarrier q1[0], q1[1], q1[2], q1[3], q1[4], q1[64], q1[109], q1[134], q1[135], q1[139], q1[155];\\nrz(pi/2) q1[2];\\nsx q1[2];\\nrz(-pi/2) q1[2];\\nsx q1[2];\\nrz(-pi/2) q1[2];\\nbarrier q1[0], q1[1], q1[2], q1[3], q1[4], q1[64], q1[109], q1[134], q1[135], q1[139], q1[155];\\ncz q1[1], q1[2];\\nbarrier q1[1], q1[2];\\nbarrier q1[0], q1[1], q1[2], q1[3], q1[4], q1[64], q1[109], q1[134], q1[135], q1[139], q1[155];\\nrz(pi/2) q1[1];\\nsx q1[1];\\nrz(0) q1[1];\\nsx q1[1];\\nrz(pi/2) q1[1];\\nbarrier q1[0], q1[1], q1[2], q1[3], q1[4], q1[64], q1[109], q1[134], q1[135], q1[139], q1[155];\\ncz q1[0], q1[1];\\nbarrier q1[0], q1[1];\\nbarrier q1[0], q1[1], q1[2], q1[3], q1[4], q1[64], q1[109], q1[134], q1[135], q1[139], q1[155];\\nrz(-3.091758327344213) q1[0];\\nrz(-pi) q1[1];\\nsx q1[0];\\nsx q1[1];\\nrz(0) q1[0];\\nrz(-3.08805828605538) q1[1];\\nsx q1[0];\\nsx q1[1];\\nrz(-0.049834326245580485) q1[0];\\nrz(-pi) q1[1];\\nbarrier q1[0], q1[1], q1[2], q1[3], q1[4], q1[64], q1[109], q1[134], q1[135], q1[139], q1[155];\\ncz q1[0], q1[1];\\nbarrier q1[0], q1[1];\\nbarrier q1[0], q1[1], q1[2], q1[3], q1[4], q1[64], q1[109], q1[134], q1[135], q1[139], q1[155];\\nrz(0) q1[0];\\nrz(pi/2) q1[1];\\nsx q1[0];\\nsx q1[1];\\nrz(-pi/2) q1[0];\\nrz(0) q1[1];\\nsx q1[0];\\nsx q1[1];\\nrz(0) q1[0];\\nrz(pi/2) q1[1];\\nbarrier q1[0], q1[1], q1[2], q1[3], q1[4], q1[64], q1[109], q1[134], q1[135], q1[139], q1[155];\\ncz q1[1], q1[2];\\nbarrier q1[1], q1[2];\\nbarrier q1[0], q1[1], q1[2], q1[3], q1[4], q1[64], q1[109], q1[134], q1[135], q1[139], q1[155];\\nrz(pi/2) q1[1];\\nrz(pi/2) q1[2];\\nsx q1[1];\\nsx q1[2];\\nrz(-pi/2) q1[1];\\nrz(-pi/2) q1[2];\\nsx q1[1];\\nsx q1[2];\\nrz(-pi) q1[1];\\nrz(-pi/2) q1[2];\\nbarrier q1[0], q1[1], q1[2], q1[3], q1[4], q1[64], q1[109], q1[134], q1[135], q1[139], q1[155];\\ncz q1[2], q1[3];\\nbarrier q1[2], q1[3];\\nbarrier q1[0], q1[1], q1[2], q1[3], q1[4], q1[64], q1[109], q1[134], q1[135], q1[139], q1[155];\\nrz(pi/2) q1[2];\\nrz(pi/2) q1[3];\\nsx q1[2];\\nsx q1[3];\\nrz(-pi/2) q1[2];\\nrz(-pi/2) q1[3];\\nsx q1[2];\\nsx q1[3];\\nrz(-pi) q1[2];\\nrz(-pi/2) q1[3];\\nbarrier q1[0], q1[1], q1[2], q1[3], q1[4], q1[64], q1[109], q1[134], q1[135], q1[139], q1[155];\\ncz q1[3], q1[4];\\nbarrier q1[3], q1[4];\\nbarrier q1[0], q1[1], q1[2], q1[3], q1[4], q1[64], q1[109], q1[134], q1[135], q1[139], q1[155];\\nrz(pi/2) q1[3];\\nrz(0) q1[4];\\nsx q1[3];\\nsx q1[4];\\nrz(-pi/2) q1[3];\\nrz(-pi) q1[4];\\nsx q1[3];\\nsx q1[4];\\nrz(-pi) q1[3];\\nrz(-pi) q1[4];\\nbarrier q1[0], q1[1], q1[2], q1[3], q1[4], q1[64], q1[109], q1[134], q1[135], q1[139], q1[155];\\nrz(pi) q1[0];\\nsx q1[0];\\nrz(pi) q1[0];\\nrz(pi) q1[4];\\nsx q1[4];\\nrz(pi) q1[4];\\nrz(pi) q1[109];\\nsx q1[109];\\nrz(pi) q1[109];\\nrz(pi) q1[135];\\nsx q1[135];\\nrz(pi) q1[135];\\nbarrier q1[0], q1[1], q1[2], q1[3], q1[4], q1[64], q1[109], q1[134], q1[135], q1[139], q1[155];\\nc0[0] = measure q1[0];\\nc0[1] = measure q1[1];\\nc0[2] = measure q1[2];\\nc0[3] = measure q1[3];\\nc0[4] = measure q1[4];\\nc0[64] = measure q1[64];\\nc0[109] = measure q1[109];\\nc0[134] = measure q1[134];\\nc0[135] = measure q1[135];\\nc0[139] = measure q1[139];\\nc0[155] = measure q1[155];\\n',\n",
       "   'qubit_map': [[0, 0],\n",
       "    [1, 1],\n",
       "    [2, 2],\n",
       "    [3, 3],\n",
       "    [4, 4],\n",
       "    [5, 149],\n",
       "    [6, 64],\n",
       "    [7, 134],\n",
       "    [8, 135],\n",
       "    [9, 139],\n",
       "    [10, 155],\n",
       "    [11, 109]],\n",
       "   'num_measurement_bases': 57}],\n",
       " 'noisy_results': DataBin(evs=np.ndarray(<shape=(1,), dtype=float64>), stds=np.ndarray(<shape=(1,), dtype=float64>), shape=(1,))}"
      ]
     },
     "execution_count": 83,
     "metadata": {},
     "output_type": "execute_result"
    }
   ],
   "source": [
    "exec_result[0].metadata"
   ]
  },
  {
   "cell_type": "code",
   "execution_count": 89,
   "metadata": {},
   "outputs": [
    {
     "name": "stdout",
     "output_type": "stream",
     "text": [
      "-986.7608388335083 -986.7673468511267 0.006508017618443773\n",
      "-985.5993857093426 -986.7369169524959 0.017124152214938404\n",
      "0.02392188101237025 0.030429898630814023 0.036328305970869224\n"
     ]
    }
   ],
   "source": [
    "obs_ps, obs_cs = pauli_coeff_separation(exp_obs)\n",
    "obs_dict = { pp:cc for pp,cc in zip(obs_ps, obs_cs)}\n",
    "zero_coeff = obs_dict['I'*12]\n",
    "full_qesem_exp = exec_result[0].data['evs'][0]\n",
    "\n",
    "print(theo_energy, partial_eigvals[0], abs(theo_energy - partial_eigvals[0]))\n",
    "print(zero_coeff, full_qesem_exp, exec_result[0].data['stds'][0])\n",
    "print(abs(full_qesem_exp - theo_energy), abs(full_qesem_exp - partial_eigvals[0]), abs(full_qesem_exp - true_eigvals[0]))"
   ]
  },
  {
   "cell_type": "code",
   "execution_count": 92,
   "metadata": {},
   "outputs": [
    {
     "data": {
      "text/html": [
       "<pre style=\"word-wrap: normal;white-space: pre;background: #fff0;line-height: 1.1;font-family: &quot;Courier New&quot;,Courier,monospace\">global phase: 3.259\n",
       "          ┌──────────┐                                                        »\n",
       " q_0: ────┤ U(π,0,π) ├────────────────────────────────────────────────────────»\n",
       "          ├──────────┤                                                        »\n",
       " q_1: ────┤ U(π,0,π) ├────────────────────────────────────────────────────────»\n",
       "          ├──────────┤                                                        »\n",
       " q_2: ────┤ U(π,0,π) ├────────────────────────────────────────────────────────»\n",
       "          └──────────┘                                                        »\n",
       " q_3: ────────────────────────────────────────────────────────────────────────»\n",
       "                                                                              »\n",
       " q_4: ────────────────────────────────────────────────────────────────────────»\n",
       "                                                                              »\n",
       " q_5: ────────────────────────────────────────────────────────────────────────»\n",
       "          ┌──────────┐                                                        »\n",
       " q_6: ────┤ U(π,0,π) ├────────────────────────────────────────────────────────»\n",
       "        ┌─┴──────────┴─┐           ┌───┐┌─────────────────┐┌───┐┌────────────┐»\n",
       " q_7: ──┤ U(π/2,-π,-π) ├───────────┤ X ├┤ U(0,0,-0.14412) ├┤ X ├┤ U(π/2,0,π) ├»\n",
       "        ├──────────────┤      ┌───┐└─┬─┘└─────────────────┘└─┬─┘└───┬───┬────┘»\n",
       " q_8: ──┤ U(π/2,-π,-π) ├──────┤ X ├──■───────────────────────■──────┤ X ├─────»\n",
       "      ┌─┴──────────────┴┐┌───┐└─┬─┘                                 └─┬─┘     »\n",
       " q_9: ┤ U(π/2,-π/2,π/2) ├┤ X ├──■─────────────────────────────────────■───────»\n",
       "      └──┬────────────┬─┘└─┬─┘                                                »\n",
       "q_10: ───┤ U(π/2,0,π) ├────■──────────────────────────────────────────────────»\n",
       "         └────────────┘                                                       »\n",
       "q_11: ────────────────────────────────────────────────────────────────────────»\n",
       "                                                                              »\n",
       "«                                         ░    ┌────────────┐       »\n",
       "« q_0: ───────────────────────────────────░────┤ U(π/2,0,π) ├───────»\n",
       "«                                         ░    ├────────────┤       »\n",
       "« q_1: ───────────────────────────────────░────┤ U(π/2,0,π) ├───────»\n",
       "«                                         ░    ├────────────┤       »\n",
       "« q_2: ───────────────────────────────────░────┤ U(π/2,0,π) ├───────»\n",
       "«                                         ░ ┌──┴────────────┴─┐┌───┐»\n",
       "« q_3: ───────────────────────────────────░─┤ U(π/2,-π/2,π/2) ├┤ X ├»\n",
       "«                                         ░ └──┬────────────┬─┘└─┬─┘»\n",
       "« q_4: ───────────────────────────────────░────┤ U(π/2,0,π) ├────■──»\n",
       "«                                         ░    └────────────┘       »\n",
       "« q_5: ───────────────────────────────────░─────────────────────────»\n",
       "«                                         ░                         »\n",
       "« q_6: ───────────────────────────────────░─────────────────────────»\n",
       "«                                         ░                         »\n",
       "« q_7: ───────────────────────────────────░─────────────────────────»\n",
       "«      ┌────────────┐                     ░                         »\n",
       "« q_8: ┤ U(π/2,0,π) ├─────────────────────░─────────────────────────»\n",
       "«      └───┬───┬────┘┌──────────────────┐ ░                         »\n",
       "« q_9: ────┤ X ├─────┤ U(-π/2,-π/2,π/2) ├─░─────────────────────────»\n",
       "«          └─┬─┘     └──┬────────────┬──┘ ░                         »\n",
       "«q_10: ──────■──────────┤ U(π/2,0,π) ├────░─────────────────────────»\n",
       "«                       └────────────┘    ░                         »\n",
       "«q_11: ───────────────────────────────────░─────────────────────────»\n",
       "«                                         ░                         »\n",
       "«                                                                      »\n",
       "« q_0: ────────────────────────────────────────────────────────────────»\n",
       "«                           ┌───┐┌─────────────────┐┌───┐┌────────────┐»\n",
       "« q_1: ─────────────────────┤ X ├┤ U(0,0,-0.14419) ├┤ X ├┤ U(π/2,0,π) ├»\n",
       "«              ┌───┐        └─┬─┘└─────────────────┘└─┬─┘└───┬───┬────┘»\n",
       "« q_2: ────────┤ X ├──────────■───────────────────────■──────┤ X ├─────»\n",
       "«              └─┬─┘                                         └─┬─┘     »\n",
       "« q_3: ──────────■─────────────────────────────────────────────■───────»\n",
       "«      ┌───────────────────┐                                           »\n",
       "« q_4: ┤ U(2.558,-π/2,π/2) ├───────────────────────────────────────────»\n",
       "«      └───────────────────┘                                           »\n",
       "« q_5: ────────────────────────────────────────────────────────────────»\n",
       "«                                                                      »\n",
       "« q_6: ────────────────────────────────────────────────────────────────»\n",
       "«                                                                      »\n",
       "« q_7: ────────────────────────────────────────────────────────────────»\n",
       "«                                                                      »\n",
       "« q_8: ────────────────────────────────────────────────────────────────»\n",
       "«                                                                      »\n",
       "« q_9: ────────────────────────────────────────────────────────────────»\n",
       "«                                                                      »\n",
       "«q_10: ────────────────────────────────────────────────────────────────»\n",
       "«                                                                      »\n",
       "«q_11: ────────────────────────────────────────────────────────────────»\n",
       "«                                                                      »\n",
       "«                                                              ┌───┐»\n",
       "« q_0: ────────────────────────────────────────────────────────┤ X ├»\n",
       "«                                                         ┌───┐└─┬─┘»\n",
       "« q_1: ───────────────────────────────────────────────────┤ X ├──■──»\n",
       "«          ┌────────────┐                            ┌───┐└─┬─┘     »\n",
       "« q_2: ────┤ U(π/2,0,π) ├────────────────────────────┤ X ├──■───────»\n",
       "«      ┌───┴────────────┴──┐     ┌─────────────────┐ └─┬─┘          »\n",
       "« q_3: ┤ U(π/2,-2.8541,-π) ├──■──┤ U(π/2,0,2.8541) ├───■────────────»\n",
       "«      └───────────────────┘┌─┴─┐├─────────────────┴┐               »\n",
       "« q_4: ─────────────────────┤ X ├┤ U(2.1543,-π,π/2) ├───────────────»\n",
       "«                           └───┘└──────────────────┘               »\n",
       "« q_5: ─────────────────────────────────────────────────────────────»\n",
       "«                                                                   »\n",
       "« q_6: ─────────────────────────────────────────────────────────────»\n",
       "«                                                                   »\n",
       "« q_7: ─────────────────────────────────────────────────────────────»\n",
       "«                                                                   »\n",
       "« q_8: ─────────────────────────────────────────────────────────────»\n",
       "«                                                                   »\n",
       "« q_9: ─────────────────────────────────────────────────────────────»\n",
       "«                                                                   »\n",
       "«q_10: ─────────────────────────────────────────────────────────────»\n",
       "«                                                                   »\n",
       "«q_11: ─────────────────────────────────────────────────────────────»\n",
       "«                                                                   »\n",
       "«      ┌─────────────────┐┌───┐┌────────────┐                              \n",
       "« q_0: ┤ U(0,0,0.053534) ├┤ X ├┤ U(π/2,0,π) ├──────────────────────────────\n",
       "«      └─────────────────┘└─┬─┘└───┬───┬────┘                              \n",
       "« q_1: ─────────────────────■──────┤ X ├───────────────────────────────────\n",
       "«                                  └─┬─┘     ┌───┐                         \n",
       "« q_2: ──────────────────────────────■───────┤ X ├─────────────────────────\n",
       "«                                            └─┬─┘┌───┐                    \n",
       "« q_3: ────────────────────────────────────────■──┤ X ├────────────────────\n",
       "«                                                 └─┬─┘┌──────────────────┐\n",
       "« q_4: ─────────────────────────────────────────────■──┤ U(-π/2,-π/2,π/2) ├\n",
       "«                                                      └──────────────────┘\n",
       "« q_5: ────────────────────────────────────────────────────────────────────\n",
       "«                                                                          \n",
       "« q_6: ────────────────────────────────────────────────────────────────────\n",
       "«                                                                          \n",
       "« q_7: ────────────────────────────────────────────────────────────────────\n",
       "«                                                                          \n",
       "« q_8: ────────────────────────────────────────────────────────────────────\n",
       "«                                                                          \n",
       "« q_9: ────────────────────────────────────────────────────────────────────\n",
       "«                                                                          \n",
       "«q_10: ────────────────────────────────────────────────────────────────────\n",
       "«                                                                          \n",
       "«q_11: ────────────────────────────────────────────────────────────────────\n",
       "«                                                                          </pre>"
      ],
      "text/plain": [
       "global phase: 3.259\n",
       "          ┌──────────┐                                                        »\n",
       " q_0: ────┤ U(π,0,π) ├────────────────────────────────────────────────────────»\n",
       "          ├──────────┤                                                        »\n",
       " q_1: ────┤ U(π,0,π) ├────────────────────────────────────────────────────────»\n",
       "          ├──────────┤                                                        »\n",
       " q_2: ────┤ U(π,0,π) ├────────────────────────────────────────────────────────»\n",
       "          └──────────┘                                                        »\n",
       " q_3: ────────────────────────────────────────────────────────────────────────»\n",
       "                                                                              »\n",
       " q_4: ────────────────────────────────────────────────────────────────────────»\n",
       "                                                                              »\n",
       " q_5: ────────────────────────────────────────────────────────────────────────»\n",
       "          ┌──────────┐                                                        »\n",
       " q_6: ────┤ U(π,0,π) ├────────────────────────────────────────────────────────»\n",
       "        ┌─┴──────────┴─┐           ┌───┐┌─────────────────┐┌───┐┌────────────┐»\n",
       " q_7: ──┤ U(π/2,-π,-π) ├───────────┤ X ├┤ U(0,0,-0.14412) ├┤ X ├┤ U(π/2,0,π) ├»\n",
       "        ├──────────────┤      ┌───┐└─┬─┘└─────────────────┘└─┬─┘└───┬───┬────┘»\n",
       " q_8: ──┤ U(π/2,-π,-π) ├──────┤ X ├──■───────────────────────■──────┤ X ├─────»\n",
       "      ┌─┴──────────────┴┐┌───┐└─┬─┘                                 └─┬─┘     »\n",
       " q_9: ┤ U(π/2,-π/2,π/2) ├┤ X ├──■─────────────────────────────────────■───────»\n",
       "      └──┬────────────┬─┘└─┬─┘                                                »\n",
       "q_10: ───┤ U(π/2,0,π) ├────■──────────────────────────────────────────────────»\n",
       "         └────────────┘                                                       »\n",
       "q_11: ────────────────────────────────────────────────────────────────────────»\n",
       "                                                                              »\n",
       "«                                         ░    ┌────────────┐       »\n",
       "« q_0: ───────────────────────────────────░────┤ U(π/2,0,π) ├───────»\n",
       "«                                         ░    ├────────────┤       »\n",
       "« q_1: ───────────────────────────────────░────┤ U(π/2,0,π) ├───────»\n",
       "«                                         ░    ├────────────┤       »\n",
       "« q_2: ───────────────────────────────────░────┤ U(π/2,0,π) ├───────»\n",
       "«                                         ░ ┌──┴────────────┴─┐┌───┐»\n",
       "« q_3: ───────────────────────────────────░─┤ U(π/2,-π/2,π/2) ├┤ X ├»\n",
       "«                                         ░ └──┬────────────┬─┘└─┬─┘»\n",
       "« q_4: ───────────────────────────────────░────┤ U(π/2,0,π) ├────■──»\n",
       "«                                         ░    └────────────┘       »\n",
       "« q_5: ───────────────────────────────────░─────────────────────────»\n",
       "«                                         ░                         »\n",
       "« q_6: ───────────────────────────────────░─────────────────────────»\n",
       "«                                         ░                         »\n",
       "« q_7: ───────────────────────────────────░─────────────────────────»\n",
       "«      ┌────────────┐                     ░                         »\n",
       "« q_8: ┤ U(π/2,0,π) ├─────────────────────░─────────────────────────»\n",
       "«      └───┬───┬────┘┌──────────────────┐ ░                         »\n",
       "« q_9: ────┤ X ├─────┤ U(-π/2,-π/2,π/2) ├─░─────────────────────────»\n",
       "«          └─┬─┘     └──┬────────────┬──┘ ░                         »\n",
       "«q_10: ──────■──────────┤ U(π/2,0,π) ├────░─────────────────────────»\n",
       "«                       └────────────┘    ░                         »\n",
       "«q_11: ───────────────────────────────────░─────────────────────────»\n",
       "«                                         ░                         »\n",
       "«                                                                      »\n",
       "« q_0: ────────────────────────────────────────────────────────────────»\n",
       "«                           ┌───┐┌─────────────────┐┌───┐┌────────────┐»\n",
       "« q_1: ─────────────────────┤ X ├┤ U(0,0,-0.14419) ├┤ X ├┤ U(π/2,0,π) ├»\n",
       "«              ┌───┐        └─┬─┘└─────────────────┘└─┬─┘└───┬───┬────┘»\n",
       "« q_2: ────────┤ X ├──────────■───────────────────────■──────┤ X ├─────»\n",
       "«              └─┬─┘                                         └─┬─┘     »\n",
       "« q_3: ──────────■─────────────────────────────────────────────■───────»\n",
       "«      ┌───────────────────┐                                           »\n",
       "« q_4: ┤ U(2.558,-π/2,π/2) ├───────────────────────────────────────────»\n",
       "«      └───────────────────┘                                           »\n",
       "« q_5: ────────────────────────────────────────────────────────────────»\n",
       "«                                                                      »\n",
       "« q_6: ────────────────────────────────────────────────────────────────»\n",
       "«                                                                      »\n",
       "« q_7: ────────────────────────────────────────────────────────────────»\n",
       "«                                                                      »\n",
       "« q_8: ────────────────────────────────────────────────────────────────»\n",
       "«                                                                      »\n",
       "« q_9: ────────────────────────────────────────────────────────────────»\n",
       "«                                                                      »\n",
       "«q_10: ────────────────────────────────────────────────────────────────»\n",
       "«                                                                      »\n",
       "«q_11: ────────────────────────────────────────────────────────────────»\n",
       "«                                                                      »\n",
       "«                                                              ┌───┐»\n",
       "« q_0: ────────────────────────────────────────────────────────┤ X ├»\n",
       "«                                                         ┌───┐└─┬─┘»\n",
       "« q_1: ───────────────────────────────────────────────────┤ X ├──■──»\n",
       "«          ┌────────────┐                            ┌───┐└─┬─┘     »\n",
       "« q_2: ────┤ U(π/2,0,π) ├────────────────────────────┤ X ├──■───────»\n",
       "«      ┌───┴────────────┴──┐     ┌─────────────────┐ └─┬─┘          »\n",
       "« q_3: ┤ U(π/2,-2.8541,-π) ├──■──┤ U(π/2,0,2.8541) ├───■────────────»\n",
       "«      └───────────────────┘┌─┴─┐├─────────────────┴┐               »\n",
       "« q_4: ─────────────────────┤ X ├┤ U(2.1543,-π,π/2) ├───────────────»\n",
       "«                           └───┘└──────────────────┘               »\n",
       "« q_5: ─────────────────────────────────────────────────────────────»\n",
       "«                                                                   »\n",
       "« q_6: ─────────────────────────────────────────────────────────────»\n",
       "«                                                                   »\n",
       "« q_7: ─────────────────────────────────────────────────────────────»\n",
       "«                                                                   »\n",
       "« q_8: ─────────────────────────────────────────────────────────────»\n",
       "«                                                                   »\n",
       "« q_9: ─────────────────────────────────────────────────────────────»\n",
       "«                                                                   »\n",
       "«q_10: ─────────────────────────────────────────────────────────────»\n",
       "«                                                                   »\n",
       "«q_11: ─────────────────────────────────────────────────────────────»\n",
       "«                                                                   »\n",
       "«      ┌─────────────────┐┌───┐┌────────────┐                              \n",
       "« q_0: ┤ U(0,0,0.053534) ├┤ X ├┤ U(π/2,0,π) ├──────────────────────────────\n",
       "«      └─────────────────┘└─┬─┘└───┬───┬────┘                              \n",
       "« q_1: ─────────────────────■──────┤ X ├───────────────────────────────────\n",
       "«                                  └─┬─┘     ┌───┐                         \n",
       "« q_2: ──────────────────────────────■───────┤ X ├─────────────────────────\n",
       "«                                            └─┬─┘┌───┐                    \n",
       "« q_3: ────────────────────────────────────────■──┤ X ├────────────────────\n",
       "«                                                 └─┬─┘┌──────────────────┐\n",
       "« q_4: ─────────────────────────────────────────────■──┤ U(-π/2,-π/2,π/2) ├\n",
       "«                                                      └──────────────────┘\n",
       "« q_5: ────────────────────────────────────────────────────────────────────\n",
       "«                                                                          \n",
       "« q_6: ────────────────────────────────────────────────────────────────────\n",
       "«                                                                          \n",
       "« q_7: ────────────────────────────────────────────────────────────────────\n",
       "«                                                                          \n",
       "« q_8: ────────────────────────────────────────────────────────────────────\n",
       "«                                                                          \n",
       "« q_9: ────────────────────────────────────────────────────────────────────\n",
       "«                                                                          \n",
       "«q_10: ────────────────────────────────────────────────────────────────────\n",
       "«                                                                          \n",
       "«q_11: ────────────────────────────────────────────────────────────────────\n",
       "«                                                                          "
      ]
     },
     "execution_count": 92,
     "metadata": {},
     "output_type": "execute_result"
    }
   ],
   "source": [
    "state_prep_circ.draw()"
   ]
  },
  {
   "cell_type": "code",
   "execution_count": 98,
   "metadata": {},
   "outputs": [
    {
     "data": {
      "text/plain": [
       "(OrderedDict([('cx', 20),\n",
       "              ('h', 14),\n",
       "              ('u3', 6),\n",
       "              ('sx', 3),\n",
       "              ('rz', 3),\n",
       "              ('sxdg', 3),\n",
       "              ('barrier', 1)]),\n",
       " OrderedDict([('cx', 18),\n",
       "              ('h', 11),\n",
       "              ('x', 4),\n",
       "              ('rz', 3),\n",
       "              ('u2', 2),\n",
       "              ('sx', 2),\n",
       "              ('sxdg', 2),\n",
       "              ('barrier', 1),\n",
       "              ('unitary', 1)]))"
      ]
     },
     "execution_count": 98,
     "metadata": {},
     "output_type": "execute_result"
    }
   ],
   "source": [
    "vqe_circ.decompose().count_ops(), transpile(vqe_circ, optimization_level=2).count_ops()"
   ]
  },
  {
   "cell_type": "code",
   "execution_count": null,
   "metadata": {},
   "outputs": [],
   "source": []
  }
 ],
 "metadata": {
  "kernelspec": {
   "display_name": "qnew",
   "language": "python",
   "name": "python3"
  },
  "language_info": {
   "codemirror_mode": {
    "name": "ipython",
    "version": 3
   },
   "file_extension": ".py",
   "mimetype": "text/x-python",
   "name": "python",
   "nbconvert_exporter": "python",
   "pygments_lexer": "ipython3",
   "version": "3.12.4"
  }
 },
 "nbformat": 4,
 "nbformat_minor": 2
}
